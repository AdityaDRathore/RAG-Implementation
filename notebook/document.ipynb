{
 "cells": [
  {
   "cell_type": "markdown",
   "id": "94731ebc",
   "metadata": {},
   "source": [
    "### Data Ingestion"
   ]
  },
  {
   "cell_type": "code",
   "execution_count": 1,
   "id": "4680e568",
   "metadata": {},
   "outputs": [],
   "source": [
    "### Document Structure\n",
    "\n",
    "from langchain_core.documents import Document\n"
   ]
  },
  {
   "cell_type": "code",
   "execution_count": 2,
   "id": "792f4bb4",
   "metadata": {},
   "outputs": [
    {
     "data": {
      "text/plain": [
       "Document(metadata={'source': 'example_source.txt', 'author': 'Aditya Rathore', 'date': '2024-10-01', 'page_number': 1}, page_content='this is the content of the RAG document')"
      ]
     },
     "execution_count": 2,
     "metadata": {},
     "output_type": "execute_result"
    }
   ],
   "source": [
    "doc = Document (\n",
    "    page_content = \"this is the content of the RAG document\", \n",
    "    metadata = {\n",
    "        \"source\": \"example_source.txt\",\n",
    "        \"author\": \"Aditya Rathore\",\n",
    "        \"date\": \"2024-10-01\", \n",
    "        \"page_number\": 1\n",
    "    }\n",
    ")\n",
    "doc"
   ]
  },
  {
   "cell_type": "code",
   "execution_count": 3,
   "id": "6b9f24f3",
   "metadata": {},
   "outputs": [],
   "source": [
    "import os\n",
    "os.makedirs(\"../data/text_files\",exist_ok=True) "
   ]
  },
  {
   "cell_type": "code",
   "execution_count": 4,
   "id": "0282e5cd",
   "metadata": {},
   "outputs": [
    {
     "name": "stdout",
     "output_type": "stream",
     "text": [
      "Sample Text files created.\n"
     ]
    }
   ],
   "source": [
    "sample_text={\n",
    "    \"../data/text_files/python_intro.txt\": \"\"\"Python Programming Introduction\n",
    "    \n",
    "    Python is a high-level, interpreted programming language known for its readability and versatility. \n",
    "    It supports multiple programming paradigms, including procedural, object-oriented, and functional programming.\n",
    "    Python's extensive standard library and vibrant ecosystem of third-party packages make it suitable for a wide range of applications, \n",
    "    from web development to data science and artificial intelligence.\n",
    "    \n",
    "    Key Features of Python:\n",
    "\n",
    "    1. Readability: Python's syntax emphasizes code readability, making it easier for developers to write and maintain code.\n",
    "    2. Versatility: Python can be used for various applications, including web development, data analysis, machine learning, automation, and more.\n",
    "    3. Extensive Libraries: Python has a rich set of libraries and frameworks, such as Django for web development,\n",
    "       NumPy and Pandas for data analysis, and TensorFlow and PyTorch for machine learning.\n",
    "    4. Community Support: Python has a large and active community that contributes to its development and provides support through forums, tutorials, and documentation.\n",
    "    5. Cross-Platform: Python is available on multiple platforms, including Windows, macOS, and Linux, allowing developers to write code that runs seamlessly across different operating systems.\n",
    "    \n",
    "    Overall, Python's simplicity, versatility, and strong community support have made it one of the most popular programming languages in the world.\"\"\",\n",
    "\n",
    "    \"../data/text_files/machine_learning_basics.txt\": \"\"\"Machine Learning Basics\n",
    "\n",
    "    Machine learning is a subset of artificial intelligence (AI) that focuses on the development of algorithms and statistical models\n",
    "    that enable computers to perform tasks without explicit instructions. It involves training models on large datasets to recognize patterns,\n",
    "    make decisions, and improve their performance over time.\n",
    "\n",
    "    Key Concepts in Machine Learning:\n",
    "\n",
    "    1. Supervised Learning: In supervised learning, models are trained on labeled data, where the input features are paired with the correct output.\n",
    "       The model learns to map inputs to outputs and can make predictions on new, unseen data.\n",
    "    2. Unsupervised Learning: Unsupervised learning involves training models on unlabeled data, allowing them to discover patterns and relationships\n",
    "       within the data without explicit guidance. Clustering and dimensionality reduction are common techniques in this category.\n",
    "    3. Reinforcement Learning: Reinforcement learning is a type of machine learning where agents learn to make decisions by interacting with an environment.\n",
    "       They receive feedback in the form of rewards or penalties and aim to maximize cumulative rewards over time.\n",
    "    4. Neural Networks: Neural networks are a class of machine learning models inspired by the human brain's structure. They consist of interconnected nodes\n",
    "       (neurons) organized in layers and are particularly effective for tasks such as image and speech recognition.\n",
    "    5. Overfitting and Underfitting: Overfitting occurs when a model learns the training data too well, including noise and outliers, leading to poor\n",
    "       generalization on new data. Underfitting happens when a model is too simple to capture the underlying patterns in the data.\n",
    "\n",
    "    Applications of Machine Learning:\n",
    "\n",
    "    Machine learning has a wide range of applications across various industries, including:\n",
    "\n",
    "    - Healthcare: Predictive analytics for patient outcomes, medical image analysis, and drug discovery.\n",
    "    - Finance: Fraud detection, algorithmic trading, and credit scoring.\n",
    "    - Marketing: Customer segmentation, recommendation systems, and sentiment analysis.\n",
    "    - Autonomous Systems: Self-driving cars, robotics, and drone navigation.\n",
    "\n",
    "    Conclusion:\n",
    "\n",
    "    Machine learning is a rapidly evolving field with the potential to transform industries and improve decision-making processes.\n",
    "    As more data becomes available and computational power increases, machine learning will continue to advance and unlock new possibilities.\n",
    "    \"\"\"\n",
    "}\n",
    "\n",
    "for filepath, content in sample_text.items():\n",
    "    with open(filepath, \"w\", encoding = \"utf-8\") as f:\n",
    "        f.write(content)\n",
    "\n",
    "print(\"Sample Text files created.\")"
   ]
  },
  {
   "cell_type": "code",
   "execution_count": 5,
   "id": "6f79fdec",
   "metadata": {},
   "outputs": [
    {
     "name": "stdout",
     "output_type": "stream",
     "text": [
      "[Document(metadata={'source': '../data/text_files/python_intro.txt'}, page_content=\"Python Programming Introduction\\n\\n    Python is a high-level, interpreted programming language known for its readability and versatility. \\n    It supports multiple programming paradigms, including procedural, object-oriented, and functional programming.\\n    Python's extensive standard library and vibrant ecosystem of third-party packages make it suitable for a wide range of applications, \\n    from web development to data science and artificial intelligence.\\n\\n    Key Features of Python:\\n\\n    1. Readability: Python's syntax emphasizes code readability, making it easier for developers to write and maintain code.\\n    2. Versatility: Python can be used for various applications, including web development, data analysis, machine learning, automation, and more.\\n    3. Extensive Libraries: Python has a rich set of libraries and frameworks, such as Django for web development,\\n       NumPy and Pandas for data analysis, and TensorFlow and PyTorch for machine learning.\\n    4. Community Support: Python has a large and active community that contributes to its development and provides support through forums, tutorials, and documentation.\\n    5. Cross-Platform: Python is available on multiple platforms, including Windows, macOS, and Linux, allowing developers to write code that runs seamlessly across different operating systems.\\n\\n    Overall, Python's simplicity, versatility, and strong community support have made it one of the most popular programming languages in the world.\")]\n"
     ]
    }
   ],
   "source": [
    "### TextLoader Example\n",
    "\n",
    "from langchain.document_loaders import TextLoader\n",
    "\n",
    "loader = TextLoader(\"../data/text_files/python_intro.txt\", encoding=\"utf-8\")\n",
    "document = loader.load()\n",
    "\n",
    "print(document)\n"
   ]
  },
  {
   "cell_type": "code",
   "execution_count": 6,
   "id": "9d77a326",
   "metadata": {},
   "outputs": [
    {
     "data": {
      "text/plain": [
       "[Document(metadata={'source': '../data/text_files/machine_learning_basics.txt'}, page_content=\"Machine Learning Basics\\n\\n    Machine learning is a subset of artificial intelligence (AI) that focuses on the development of algorithms and statistical models\\n    that enable computers to perform tasks without explicit instructions. It involves training models on large datasets to recognize patterns,\\n    make decisions, and improve their performance over time.\\n\\n    Key Concepts in Machine Learning:\\n\\n    1. Supervised Learning: In supervised learning, models are trained on labeled data, where the input features are paired with the correct output.\\n       The model learns to map inputs to outputs and can make predictions on new, unseen data.\\n    2. Unsupervised Learning: Unsupervised learning involves training models on unlabeled data, allowing them to discover patterns and relationships\\n       within the data without explicit guidance. Clustering and dimensionality reduction are common techniques in this category.\\n    3. Reinforcement Learning: Reinforcement learning is a type of machine learning where agents learn to make decisions by interacting with an environment.\\n       They receive feedback in the form of rewards or penalties and aim to maximize cumulative rewards over time.\\n    4. Neural Networks: Neural networks are a class of machine learning models inspired by the human brain's structure. They consist of interconnected nodes\\n       (neurons) organized in layers and are particularly effective for tasks such as image and speech recognition.\\n    5. Overfitting and Underfitting: Overfitting occurs when a model learns the training data too well, including noise and outliers, leading to poor\\n       generalization on new data. Underfitting happens when a model is too simple to capture the underlying patterns in the data.\\n\\n    Applications of Machine Learning:\\n\\n    Machine learning has a wide range of applications across various industries, including:\\n\\n    - Healthcare: Predictive analytics for patient outcomes, medical image analysis, and drug discovery.\\n    - Finance: Fraud detection, algorithmic trading, and credit scoring.\\n    - Marketing: Customer segmentation, recommendation systems, and sentiment analysis.\\n    - Autonomous Systems: Self-driving cars, robotics, and drone navigation.\\n\\n    Conclusion:\\n\\n    Machine learning is a rapidly evolving field with the potential to transform industries and improve decision-making processes.\\n    As more data becomes available and computational power increases, machine learning will continue to advance and unlock new possibilities.\\n    \"),\n",
       " Document(metadata={'source': '../data/text_files/python_intro.txt'}, page_content=\"Python Programming Introduction\\n\\n    Python is a high-level, interpreted programming language known for its readability and versatility. \\n    It supports multiple programming paradigms, including procedural, object-oriented, and functional programming.\\n    Python's extensive standard library and vibrant ecosystem of third-party packages make it suitable for a wide range of applications, \\n    from web development to data science and artificial intelligence.\\n\\n    Key Features of Python:\\n\\n    1. Readability: Python's syntax emphasizes code readability, making it easier for developers to write and maintain code.\\n    2. Versatility: Python can be used for various applications, including web development, data analysis, machine learning, automation, and more.\\n    3. Extensive Libraries: Python has a rich set of libraries and frameworks, such as Django for web development,\\n       NumPy and Pandas for data analysis, and TensorFlow and PyTorch for machine learning.\\n    4. Community Support: Python has a large and active community that contributes to its development and provides support through forums, tutorials, and documentation.\\n    5. Cross-Platform: Python is available on multiple platforms, including Windows, macOS, and Linux, allowing developers to write code that runs seamlessly across different operating systems.\\n\\n    Overall, Python's simplicity, versatility, and strong community support have made it one of the most popular programming languages in the world.\")]"
      ]
     },
     "execution_count": 6,
     "metadata": {},
     "output_type": "execute_result"
    }
   ],
   "source": [
    "### DirectoryLoader Example\n",
    "\n",
    "from langchain.document_loaders import DirectoryLoader\n",
    "\n",
    "dir_loader = DirectoryLoader(\n",
    "    \"../data/text_files\",\n",
    "    glob=\"**/*.txt\",\n",
    "    loader_cls= TextLoader,\n",
    "    loader_kwargs={\"encoding\": \"utf-8\"},\n",
    "    show_progress=False\n",
    ")\n",
    "documents = dir_loader.load()\n",
    "documents"
   ]
  },
  {
   "cell_type": "code",
   "execution_count": 7,
   "id": "c7b8bf6e",
   "metadata": {},
   "outputs": [
    {
     "name": "stderr",
     "output_type": "stream",
     "text": [
      "/workspaces/RAG-Implementation/.venv/lib/python3.12/site-packages/tqdm/auto.py:21: TqdmWarning: IProgress not found. Please update jupyter and ipywidgets. See https://ipywidgets.readthedocs.io/en/stable/user_install.html\n",
      "  from .autonotebook import tqdm as notebook_tqdm\n"
     ]
    },
    {
     "data": {
      "text/plain": [
       "[Document(metadata={'producer': 'Skia/PDF m142 Google Docs Renderer', 'creator': '', 'creationdate': '', 'source': '../data/pdf_files/Rental_Lease_Agreement.pdf', 'file_path': '../data/pdf_files/Rental_Lease_Agreement.pdf', 'total_pages': 2, 'format': 'PDF 1.4', 'title': 'Untitled document', 'author': '', 'subject': '', 'keywords': '', 'moddate': '', 'trapped': '', 'modDate': '', 'creationDate': '', 'page': 0}, page_content='Residential Lease Agreement \\nThis Lease Agreement (the \"Agreement\") is made and entered into this 21st day of \\nSeptember, 2025, by and between Rohit Soni (the \"Landlord\") and Amit Kumar (the \\n\"Tenant\"). \\n1. PROPERTY The Landlord agrees to lease to the Tenant the property located at: 123 \\nInnovation Drive, Techville, ST 54321 (the \"Premises\"). \\n2. LEASE TERM The term of this lease shall be for a period of 12 months, commencing on \\nOctober 1, 2025, and ending on September 30, 2026. \\n3. RENT 3.1. The Tenant shall pay the Landlord a monthly rent of $2,400.00. 3.2. Rent shall \\nbe due and payable in full on or before the 5th day of each month. 3.3. Late Fee: In the \\nevent that rent is not paid by the due date, a penalty of 10% of the daily rent amount per \\nday shall be applied until the outstanding balance is paid in full. \\n4. SECURITY DEPOSIT Upon execution of this Agreement, the Tenant shall deposit with the \\nLandlord the sum of $4,800.00, equivalent to two months\\' rent, as security for the faithful \\nperformance of the terms of this lease. \\n5. UTILITIES The Tenant shall be responsible for arranging and paying for all utility services \\nrequired on the Premises. Utilities are not included in the monthly rent. \\n6. MAINTENANCE AND REPAIRS The Tenant shall be responsible for all minor repairs \\nand general maintenance of the Premises, including but not limited to replacing light bulbs \\nand filters. The Landlord shall be responsible for major structural repairs. \\n7. PETS A pet policy is included. The Tenant is permitted to keep up to two (2) domestic \\npets on the Premises, subject to a one-time pet fee of $250. \\n8. DEFAULT AND TERMINATION 8.1. Early Termination: An early termination clause is \\nin effect. The Tenant may terminate this lease before the end of the term by providing 60 \\ndays\\' written notice and paying a fee equal to two months\\' rent. 8.2. Dispute: \\nNotwithstanding any other provision of this Agreement, the Landlord may terminate this \\nAgreement without notice in the case of any dispute between the Landlord and Tenant. \\nThis Agreement constitutes the entire agreement between the parties. \\nLANDLORD: \\n \\nRohit Soni \\nTENANT: \\nAmit Kumar'),\n",
       " Document(metadata={'producer': 'Skia/PDF m142 Google Docs Renderer', 'creator': '', 'creationdate': '', 'source': '../data/pdf_files/Rental_Lease_Agreement.pdf', 'file_path': '../data/pdf_files/Rental_Lease_Agreement.pdf', 'total_pages': 2, 'format': 'PDF 1.4', 'title': 'Untitled document', 'author': '', 'subject': '', 'keywords': '', 'moddate': '', 'trapped': '', 'modDate': '', 'creationDate': '', 'page': 1}, page_content='')]"
      ]
     },
     "execution_count": 7,
     "metadata": {},
     "output_type": "execute_result"
    }
   ],
   "source": [
    "from langchain_community.document_loaders import PyPDFLoader, PyMuPDFLoader \n",
    "\n",
    "dir_loader = DirectoryLoader(\n",
    "    \"../data/pdf_files/\",\n",
    "    glob=\"**/*.pdf\",\n",
    "    loader_cls= PyMuPDFLoader,\n",
    "    show_progress=False\n",
    ")\n",
    "\n",
    "pdf_documents = dir_loader.load()\n",
    "pdf_documents  "
   ]
  },
  {
   "cell_type": "code",
   "execution_count": 8,
   "id": "acfd2b80",
   "metadata": {},
   "outputs": [],
   "source": [
    "import os\n",
    "from langchain_community.document_loaders import PyPDFLoader, PyMuPDFLoader\n",
    "from langchain.text_splitter import RecursiveCharacterTextSplitter\n",
    "from pathlib import Path"
   ]
  },
  {
   "cell_type": "code",
   "execution_count": 9,
   "id": "c996b7ff",
   "metadata": {},
   "outputs": [
    {
     "name": "stdout",
     "output_type": "stream",
     "text": [
      "Found 1 PDF files to process\n",
      "\n",
      "Processing: Rental_Lease_Agreement.pdf\n",
      "  ✓ Loaded 2 pages\n",
      "\n",
      "Total documents loaded: 2\n"
     ]
    },
    {
     "data": {
      "text/plain": [
       "[Document(metadata={'producer': 'Skia/PDF m142 Google Docs Renderer', 'creator': 'PyPDF', 'creationdate': '', 'title': 'Untitled document', 'source': '../data/pdf_files/Rental_Lease_Agreement.pdf', 'total_pages': 2, 'page': 0, 'page_label': '1', 'source_file': 'Rental_Lease_Agreement.pdf', 'file_type': 'pdf'}, page_content='Residential  Lease  Agreement  \\nThis  Lease  Agreement  (the  \"Agreement\")  is  made  and  entered  into  this  21st  day  of  \\nSeptember,\\n \\n2025,\\n \\nby\\n \\nand\\n \\nbetween\\n \\nRohit\\n \\nSoni\\n \\n(the\\n \\n\"Landlord\")\\n \\nand\\n \\nAmit\\n \\nKumar\\n \\n(the\\n \\n\"Tenant\").\\n \\n1.  PROPERTY  The  Landlord  agrees  to  lease  to  the  Tenant  the  property  located  at:  123  \\nInnovation\\n \\nDrive,\\n \\nTechville,\\n \\nST\\n \\n54321\\n \\n(the\\n \\n\"Premises\").\\n \\n2.  LEASE  TERM  The  term  of  this  lease  shall  be  for  a  period  of  12  months ,  commencing  on  \\nOctober\\n \\n1,\\n \\n2025,\\n \\nand\\n \\nending\\n \\non\\n \\nSeptember\\n \\n30,\\n \\n2026.\\n \\n3.  RENT  3.1.  The  Tenant  shall  pay  the  Landlord  a  monthly  rent  of  $2,400.00 .  3.2.  Rent  shall  \\nbe\\n \\ndue\\n \\nand\\n \\npayable\\n \\nin\\n \\nfull\\n \\non\\n \\nor\\n \\nbefore\\n \\nthe\\n \\n5th\\n \\nday\\n \\nof\\n \\neach\\n \\nmonth\\n.\\n \\n3.3.\\n \\nLate\\n \\nFee:\\n \\nIn\\n \\nthe\\n \\nevent\\n \\nthat\\n \\nrent\\n \\nis\\n \\nnot\\n \\npaid\\n \\nby\\n \\nthe\\n \\ndue\\n \\ndate,\\n \\na\\n \\npenalty\\n \\nof\\n \\n10%\\n \\nof\\n \\nthe\\n \\ndaily\\n \\nrent\\n \\namount\\n \\nper\\n \\nday\\n \\nshall\\n \\nbe\\n \\napplied\\n \\nuntil\\n \\nthe\\n \\noutstanding\\n \\nbalance\\n \\nis\\n \\npaid\\n \\nin\\n \\nfull.\\n \\n4.  SECURITY  DEPOSIT  Upon  execution  of  this  Agreement,  the  Tenant  shall  deposit  with  the  \\nLandlord\\n \\nthe\\n \\nsum\\n \\nof\\n \\n$4,800.00\\n,\\n \\nequivalent\\n \\nto\\n \\ntwo\\n \\nmonths\\'\\n \\nrent,\\n \\nas\\n \\nsecurity\\n \\nfor\\n \\nthe\\n \\nfaithful\\n \\nperformance\\n \\nof\\n \\nthe\\n \\nterms\\n \\nof\\n \\nthis\\n \\nlease.\\n \\n5.  UTILITIES  The  Tenant  shall  be  responsible  for  arranging  and  paying  for  all  utility  services  \\nrequired\\n \\non\\n \\nthe\\n \\nPremises.\\n \\nUtilities\\n \\nare\\n \\nnot\\n \\nincluded\\n \\nin\\n \\nthe\\n \\nmonthly\\n \\nrent.\\n \\n6.  MAINTENANCE  AND  REPAIRS  The  Tenant  shall  be  responsible  for  all  minor  repairs  \\nand\\n \\ngeneral\\n \\nmaintenance\\n \\nof\\n \\nthe\\n \\nPremises,\\n \\nincluding\\n \\nbut\\n \\nnot\\n \\nlimited\\n \\nto\\n \\nreplacing\\n \\nlight\\n \\nbulbs\\n \\nand\\n \\nfilters.\\n \\nThe\\n \\nLandlord\\n \\nshall\\n \\nbe\\n \\nresponsible\\n \\nfor\\n \\nmajor\\n \\nstructural\\n \\nrepairs.\\n \\n7.  PETS  A  pet  policy  is  included .  The  Tenant  is  permitted  to  keep  up  to  two  (2)  domestic  \\npets\\n \\non\\n \\nthe\\n \\nPremises,\\n \\nsubject\\n \\nto\\n \\na\\n \\none-time\\n \\npet\\n \\nfee\\n \\nof\\n \\n$250.\\n \\n8.  DEFAULT  AND  TERMINATION  8.1.  Early  Termination:  An  early  termination  clause  is  \\nin\\n \\neffect.\\n \\nThe\\n \\nTenant\\n \\nmay\\n \\nterminate\\n \\nthis\\n \\nlease\\n \\nbefore\\n \\nthe\\n \\nend\\n \\nof\\n \\nthe\\n \\nterm\\n \\nby\\n \\nproviding\\n \\n60\\n \\ndays\\'\\n \\nwritten\\n \\nnotice\\n \\nand\\n \\npaying\\n \\na\\n \\nfee\\n \\nequal\\n \\nto\\n \\ntwo\\n \\nmonths\\'\\n \\nrent.\\n \\n8.2.\\n \\nDispute:\\n \\nNotwithstanding\\n \\nany\\n \\nother\\n \\nprovision\\n \\nof\\n \\nthis\\n \\nAgreement,\\n \\nthe\\n \\nLandlord\\n \\nmay\\n \\nterminate\\n \\nthis\\n \\nAgreement\\n \\nwithout\\n \\nnotice\\n \\nin\\n \\nthe\\n \\ncase\\n \\nof\\n \\nany\\n \\ndispute\\n \\nbetween\\n \\nthe\\n \\nLandlord\\n \\nand\\n \\nTenant.\\n \\nThis  Agreement  constitutes  the  entire  agreement  between  the  parties.  \\nLANDLORD:  \\n \\nRohit  Soni  \\nTENANT:  \\nAmit  Kumar'),\n",
       " Document(metadata={'producer': 'Skia/PDF m142 Google Docs Renderer', 'creator': 'PyPDF', 'creationdate': '', 'title': 'Untitled document', 'source': '../data/pdf_files/Rental_Lease_Agreement.pdf', 'total_pages': 2, 'page': 1, 'page_label': '2', 'source_file': 'Rental_Lease_Agreement.pdf', 'file_type': 'pdf'}, page_content='')]"
      ]
     },
     "execution_count": 9,
     "metadata": {},
     "output_type": "execute_result"
    }
   ],
   "source": [
    "### Read all the pdf's inside the directory\n",
    "def process_all_pdfs(pdf_directory):\n",
    "    \"\"\"Process all PDF files in a directory\"\"\"\n",
    "    all_documents = []\n",
    "    pdf_dir = Path(pdf_directory)\n",
    "    \n",
    "    # Find all PDF files recursively\n",
    "    pdf_files = list(pdf_dir.glob(\"**/*.pdf\"))\n",
    "    \n",
    "    print(f\"Found {len(pdf_files)} PDF files to process\")\n",
    "    \n",
    "    for pdf_file in pdf_files:\n",
    "        print(f\"\\nProcessing: {pdf_file.name}\")\n",
    "        try:\n",
    "            loader = PyPDFLoader(str(pdf_file))\n",
    "            documents = loader.load()\n",
    "            \n",
    "            # Add source information to metadata\n",
    "            for doc in documents:\n",
    "                doc.metadata['source_file'] = pdf_file.name\n",
    "                doc.metadata['file_type'] = 'pdf'\n",
    "            \n",
    "            all_documents.extend(documents)\n",
    "            print(f\"  ✓ Loaded {len(documents)} pages\")\n",
    "            \n",
    "        except Exception as e:\n",
    "            print(f\"  ✗ Error: {e}\")\n",
    "    \n",
    "    print(f\"\\nTotal documents loaded: {len(all_documents)}\")\n",
    "    return all_documents\n",
    "\n",
    "# Process all PDFs in the data directory\n",
    "all_pdf_documents = process_all_pdfs(\"../data\")\n",
    "all_pdf_documents"
   ]
  },
  {
   "cell_type": "code",
   "execution_count": 18,
   "id": "5637e291",
   "metadata": {},
   "outputs": [],
   "source": [
    "### Text splitting get into chunks\n",
    "\n",
    "def split_documents(documents,chunk_size=1000,chunk_overlap=200):\n",
    "    \"\"\"Split documents into smaller chunks for better RAG performance\"\"\"\n",
    "    text_splitter = RecursiveCharacterTextSplitter(\n",
    "        chunk_size=chunk_size,\n",
    "        chunk_overlap=chunk_overlap,\n",
    "        length_function=len,\n",
    "        separators=[\"\\n\\n\", \"\\n\", \" \", \"\"]\n",
    "    )\n",
    "    split_docs = text_splitter.split_documents(documents)\n",
    "    print(f\"Split {len(documents)} documents into {len(split_docs)} chunks\")\n",
    "    \n",
    "    # Show example of a chunk\n",
    "    if split_docs:\n",
    "        print(f\"\\nExample chunk:\")\n",
    "        print(f\"Content: {split_docs[0].page_content[:200]}...\")\n",
    "        print(f\"Metadata: {split_docs[0].metadata}\")\n",
    "    \n",
    "    return split_docs"
   ]
  },
  {
   "cell_type": "code",
   "execution_count": 19,
   "id": "9ef80d67",
   "metadata": {},
   "outputs": [
    {
     "name": "stdout",
     "output_type": "stream",
     "text": [
      "Split 2 documents into 4 chunks\n",
      "\n",
      "Example chunk:\n",
      "Content: Residential  Lease  Agreement  \n",
      "This  Lease  Agreement  (the  \"Agreement\")  is  made  and  entered  into  this  21st  day  of  \n",
      "September,\n",
      " \n",
      "2025,\n",
      " \n",
      "by\n",
      " \n",
      "and\n",
      " \n",
      "between\n",
      " \n",
      "Rohit\n",
      " \n",
      "Soni\n",
      " \n",
      "(the\n",
      " \n",
      "\"Landlor...\n",
      "Metadata: {'producer': 'Skia/PDF m142 Google Docs Renderer', 'creator': 'PyPDF', 'creationdate': '', 'title': 'Untitled document', 'source': '../data/pdf_files/Rental_Lease_Agreement.pdf', 'total_pages': 2, 'page': 0, 'page_label': '1', 'source_file': 'Rental_Lease_Agreement.pdf', 'file_type': 'pdf'}\n"
     ]
    },
    {
     "data": {
      "text/plain": [
       "[Document(metadata={'producer': 'Skia/PDF m142 Google Docs Renderer', 'creator': 'PyPDF', 'creationdate': '', 'title': 'Untitled document', 'source': '../data/pdf_files/Rental_Lease_Agreement.pdf', 'total_pages': 2, 'page': 0, 'page_label': '1', 'source_file': 'Rental_Lease_Agreement.pdf', 'file_type': 'pdf'}, page_content='Residential  Lease  Agreement  \\nThis  Lease  Agreement  (the  \"Agreement\")  is  made  and  entered  into  this  21st  day  of  \\nSeptember,\\n \\n2025,\\n \\nby\\n \\nand\\n \\nbetween\\n \\nRohit\\n \\nSoni\\n \\n(the\\n \\n\"Landlord\")\\n \\nand\\n \\nAmit\\n \\nKumar\\n \\n(the\\n \\n\"Tenant\").\\n \\n1.  PROPERTY  The  Landlord  agrees  to  lease  to  the  Tenant  the  property  located  at:  123  \\nInnovation\\n \\nDrive,\\n \\nTechville,\\n \\nST\\n \\n54321\\n \\n(the\\n \\n\"Premises\").\\n \\n2.  LEASE  TERM  The  term  of  this  lease  shall  be  for  a  period  of  12  months ,  commencing  on  \\nOctober\\n \\n1,\\n \\n2025,\\n \\nand\\n \\nending\\n \\non\\n \\nSeptember\\n \\n30,\\n \\n2026.\\n \\n3.  RENT  3.1.  The  Tenant  shall  pay  the  Landlord  a  monthly  rent  of  $2,400.00 .  3.2.  Rent  shall  \\nbe\\n \\ndue\\n \\nand\\n \\npayable\\n \\nin\\n \\nfull\\n \\non\\n \\nor\\n \\nbefore\\n \\nthe\\n \\n5th\\n \\nday\\n \\nof\\n \\neach\\n \\nmonth\\n.\\n \\n3.3.\\n \\nLate\\n \\nFee:\\n \\nIn\\n \\nthe\\n \\nevent\\n \\nthat\\n \\nrent\\n \\nis\\n \\nnot\\n \\npaid\\n \\nby\\n \\nthe\\n \\ndue\\n \\ndate,\\n \\na\\n \\npenalty\\n \\nof\\n \\n10%\\n \\nof\\n \\nthe\\n \\ndaily\\n \\nrent\\n \\namount\\n \\nper\\n \\nday\\n \\nshall\\n \\nbe\\n \\napplied\\n \\nuntil'),\n",
       " Document(metadata={'producer': 'Skia/PDF m142 Google Docs Renderer', 'creator': 'PyPDF', 'creationdate': '', 'title': 'Untitled document', 'source': '../data/pdf_files/Rental_Lease_Agreement.pdf', 'total_pages': 2, 'page': 0, 'page_label': '1', 'source_file': 'Rental_Lease_Agreement.pdf', 'file_type': 'pdf'}, page_content=\"3.3.\\n \\nLate\\n \\nFee:\\n \\nIn\\n \\nthe\\n \\nevent\\n \\nthat\\n \\nrent\\n \\nis\\n \\nnot\\n \\npaid\\n \\nby\\n \\nthe\\n \\ndue\\n \\ndate,\\n \\na\\n \\npenalty\\n \\nof\\n \\n10%\\n \\nof\\n \\nthe\\n \\ndaily\\n \\nrent\\n \\namount\\n \\nper\\n \\nday\\n \\nshall\\n \\nbe\\n \\napplied\\n \\nuntil\\n \\nthe\\n \\noutstanding\\n \\nbalance\\n \\nis\\n \\npaid\\n \\nin\\n \\nfull.\\n \\n4.  SECURITY  DEPOSIT  Upon  execution  of  this  Agreement,  the  Tenant  shall  deposit  with  the  \\nLandlord\\n \\nthe\\n \\nsum\\n \\nof\\n \\n$4,800.00\\n,\\n \\nequivalent\\n \\nto\\n \\ntwo\\n \\nmonths'\\n \\nrent,\\n \\nas\\n \\nsecurity\\n \\nfor\\n \\nthe\\n \\nfaithful\\n \\nperformance\\n \\nof\\n \\nthe\\n \\nterms\\n \\nof\\n \\nthis\\n \\nlease.\\n \\n5.  UTILITIES  The  Tenant  shall  be  responsible  for  arranging  and  paying  for  all  utility  services  \\nrequired\\n \\non\\n \\nthe\\n \\nPremises.\\n \\nUtilities\\n \\nare\\n \\nnot\\n \\nincluded\\n \\nin\\n \\nthe\\n \\nmonthly\\n \\nrent.\\n \\n6.  MAINTENANCE  AND  REPAIRS  The  Tenant  shall  be  responsible  for  all  minor  repairs  \\nand\\n \\ngeneral\\n \\nmaintenance\\n \\nof\\n \\nthe\\n \\nPremises,\\n \\nincluding\\n \\nbut\\n \\nnot\\n \\nlimited\\n \\nto\\n \\nreplacing\\n \\nlight\\n \\nbulbs\\n \\nand\\n \\nfilters.\\n \\nThe\\n \\nLandlord\"),\n",
       " Document(metadata={'producer': 'Skia/PDF m142 Google Docs Renderer', 'creator': 'PyPDF', 'creationdate': '', 'title': 'Untitled document', 'source': '../data/pdf_files/Rental_Lease_Agreement.pdf', 'total_pages': 2, 'page': 0, 'page_label': '1', 'source_file': 'Rental_Lease_Agreement.pdf', 'file_type': 'pdf'}, page_content=\"and\\n \\ngeneral\\n \\nmaintenance\\n \\nof\\n \\nthe\\n \\nPremises,\\n \\nincluding\\n \\nbut\\n \\nnot\\n \\nlimited\\n \\nto\\n \\nreplacing\\n \\nlight\\n \\nbulbs\\n \\nand\\n \\nfilters.\\n \\nThe\\n \\nLandlord\\n \\nshall\\n \\nbe\\n \\nresponsible\\n \\nfor\\n \\nmajor\\n \\nstructural\\n \\nrepairs.\\n \\n7.  PETS  A  pet  policy  is  included .  The  Tenant  is  permitted  to  keep  up  to  two  (2)  domestic  \\npets\\n \\non\\n \\nthe\\n \\nPremises,\\n \\nsubject\\n \\nto\\n \\na\\n \\none-time\\n \\npet\\n \\nfee\\n \\nof\\n \\n$250.\\n \\n8.  DEFAULT  AND  TERMINATION  8.1.  Early  Termination:  An  early  termination  clause  is  \\nin\\n \\neffect.\\n \\nThe\\n \\nTenant\\n \\nmay\\n \\nterminate\\n \\nthis\\n \\nlease\\n \\nbefore\\n \\nthe\\n \\nend\\n \\nof\\n \\nthe\\n \\nterm\\n \\nby\\n \\nproviding\\n \\n60\\n \\ndays'\\n \\nwritten\\n \\nnotice\\n \\nand\\n \\npaying\\n \\na\\n \\nfee\\n \\nequal\\n \\nto\\n \\ntwo\\n \\nmonths'\\n \\nrent.\\n \\n8.2.\\n \\nDispute:\\n \\nNotwithstanding\\n \\nany\\n \\nother\\n \\nprovision\\n \\nof\\n \\nthis\\n \\nAgreement,\\n \\nthe\\n \\nLandlord\\n \\nmay\\n \\nterminate\\n \\nthis\\n \\nAgreement\\n \\nwithout\\n \\nnotice\\n \\nin\\n \\nthe\\n \\ncase\\n \\nof\\n \\nany\\n \\ndispute\\n \\nbetween\\n \\nthe\\n \\nLandlord\\n \\nand\\n \\nTenant.\"),\n",
       " Document(metadata={'producer': 'Skia/PDF m142 Google Docs Renderer', 'creator': 'PyPDF', 'creationdate': '', 'title': 'Untitled document', 'source': '../data/pdf_files/Rental_Lease_Agreement.pdf', 'total_pages': 2, 'page': 0, 'page_label': '1', 'source_file': 'Rental_Lease_Agreement.pdf', 'file_type': 'pdf'}, page_content='other\\n \\nprovision\\n \\nof\\n \\nthis\\n \\nAgreement,\\n \\nthe\\n \\nLandlord\\n \\nmay\\n \\nterminate\\n \\nthis\\n \\nAgreement\\n \\nwithout\\n \\nnotice\\n \\nin\\n \\nthe\\n \\ncase\\n \\nof\\n \\nany\\n \\ndispute\\n \\nbetween\\n \\nthe\\n \\nLandlord\\n \\nand\\n \\nTenant.\\n \\nThis  Agreement  constitutes  the  entire  agreement  between  the  parties.  \\nLANDLORD:  \\n \\nRohit  Soni  \\nTENANT:  \\nAmit  Kumar')]"
      ]
     },
     "execution_count": 19,
     "metadata": {},
     "output_type": "execute_result"
    }
   ],
   "source": [
    "chunks = split_documents(all_pdf_documents)\n",
    "chunks"
   ]
  },
  {
   "cell_type": "markdown",
   "id": "9ff3e86f",
   "metadata": {},
   "source": [
    "### Embedding and VectorStoreDB Creation"
   ]
  },
  {
   "cell_type": "code",
   "execution_count": 11,
   "id": "e2a7f765",
   "metadata": {},
   "outputs": [],
   "source": [
    "import numpy as np\n",
    "from sentence_transformers import SentenceTransformer\n",
    "import chromadb\n",
    "from chromadb.config import Settings\n",
    "import uuid\n",
    "from typing import List, Tuple, Any, Dict\n",
    "from sklearn.metrics.pairwise import cosine_similarity"
   ]
  },
  {
   "cell_type": "code",
   "execution_count": 13,
   "id": "44a4c99a",
   "metadata": {},
   "outputs": [
    {
     "name": "stdout",
     "output_type": "stream",
     "text": [
      "Loading embedding model: all-MiniLM-L6-v2...\n",
      "Model Loaded Successfully. Embedding Dimension: 384\n"
     ]
    },
    {
     "data": {
      "text/plain": [
       "<__main__.EmbeddingManager at 0x7d6414680e60>"
      ]
     },
     "execution_count": 13,
     "metadata": {},
     "output_type": "execute_result"
    }
   ],
   "source": [
    "class EmbeddingManager:\n",
    "    \"\"\"Handles document embedding generation using SentenceTransformer\"\"\"\n",
    "\n",
    "    def __init__(self, model_name: str = 'all-MiniLM-L6-v2'):\n",
    "        \"\"\"\n",
    "        Initialize the embedding manager\n",
    "        \n",
    "        Args:\n",
    "            model_name: Hugging face model name for sentence embeddings\n",
    "        \"\"\"\n",
    "        self.model_name = model_name\n",
    "        self.model = None\n",
    "        self._load_model()\n",
    "    \n",
    "    def _load_model(self):\n",
    "        \"\"\"Load the sentence transformer model\"\"\"\n",
    "        try:\n",
    "            print(f\"Loading embedding model: {self.model_name}...\")\n",
    "            self.model = SentenceTransformer(self.model_name)\n",
    "            print(f\"Model Loaded Successfully. Embedding Dimension: {self.model.get_sentence_embedding_dimension()}\")\n",
    "        except Exception as e:\n",
    "            print(f\"Error loading model {self.model_name}: {e}\")\n",
    "            raise\n",
    "\n",
    "    def generate_embeddings(self, texts: List[str]) -> np.ndarray:\n",
    "        \"\"\"\n",
    "        Generate embeddings for a list of texts\n",
    "        \n",
    "        Args:\n",
    "            texts: List of string to be embedded\n",
    "\n",
    "        Returns: \n",
    "            numpy array of embeddings with shape (len(texts), embedding_dimension)\n",
    "        \"\"\"\n",
    "        if not self.model:\n",
    "            raise ValueError(\"Model not loaded\")\n",
    "        \n",
    "        print(f\"Generating embedding for {len(texts)} texts...\")\n",
    "        embeddings = self.model.encode(texts, show_progress_bar=True)\n",
    "        print(f\"Generated embeddings with shape: {embeddings.shape}\")\n",
    "        return embeddings\n",
    "\n",
    "### initialize the Embedding Manager\n",
    "\n",
    "embedding_manager = EmbeddingManager()\n",
    "embedding_manager\n"
   ]
  },
  {
   "cell_type": "markdown",
   "id": "d3e56519",
   "metadata": {},
   "source": [
    "### VectorStore"
   ]
  },
  {
   "cell_type": "code",
   "execution_count": 14,
   "id": "9d20c9ee",
   "metadata": {},
   "outputs": [
    {
     "name": "stdout",
     "output_type": "stream",
     "text": [
      "Vector store initialized. Collection: pdf_documents\n",
      "Existing documents in store/collection: 28\n"
     ]
    },
    {
     "data": {
      "text/plain": [
       "<__main__.VectorStore at 0x7d63f8430770>"
      ]
     },
     "execution_count": 14,
     "metadata": {},
     "output_type": "execute_result"
    }
   ],
   "source": [
    "class VectorStore:\n",
    "    \"\"\"Manages document embeddings in a chromaDB vector store\"\"\"\n",
    "\n",
    "    def __init__(self, collection_name: str = \"pdf_documents\", persist_directory: str = \"../data/vector_store/\"):\n",
    "        \"\"\"\n",
    "        Initialize the vector store\n",
    "        \n",
    "        Args:\n",
    "            collection_name: Name of the collection in chromaDB\n",
    "            persist_directory: Directory to persist the chromaDB data\n",
    "        \"\"\"\n",
    "        self.collection_name = collection_name\n",
    "        self.persist_directory = persist_directory\n",
    "        self.client = None\n",
    "        self.collection = None\n",
    "        self._initialize_store()\n",
    "\n",
    "    def _initialize_store(self):\n",
    "        \"\"\"Initialize chromaDB client and collection\"\"\"\n",
    "        try:\n",
    "            # create persistent chromaDB client\n",
    "            os.makedirs(self.persist_directory, exist_ok=True)\n",
    "            self.client = chromadb.PersistentClient(path=self.persist_directory)\n",
    "\n",
    "            # create or get collection\n",
    "            self.collection = self.client.get_or_create_collection(\n",
    "                name=self.collection_name, \n",
    "                metadata = {\"description\": \"PDF document embeddings for RAG\"}\n",
    "            )\n",
    "            print(f\"Vector store initialized. Collection: {self.collection_name}\")\n",
    "            print(f\"Existing documents in store/collection: {self.collection.count()}\")\n",
    "        \n",
    "        except Exception as e:\n",
    "            print(f\"error initializing vector store: {e}\")\n",
    "            raise \n",
    "            \n",
    "    def add_documents(self, documents: List[Document], embeddings: np.ndarray):\n",
    "        \"\"\"\n",
    "        Add documents and their embeddings to the vector store\n",
    "        \n",
    "        Args:\n",
    "            documents: List of langchain documents\n",
    "            embeddings: Corresponding embeddings for the documents\n",
    "        \"\"\"\n",
    "        if(len(documents) != len(embeddings)):\n",
    "            raise ValueError(\"Number of documents and embeddings must match\")\n",
    "        \n",
    "        print(f\"Adding {len(documents)} documents to vector store...\")\n",
    "\n",
    "        # Prepare data for chromaDB\n",
    "        ids = []\n",
    "        metadatas = []\n",
    "        documents_texts = []\n",
    "        embeddings_list = []\n",
    "\n",
    "        for i, (doc, embedding) in enumerate(zip(documents, embeddings)):\n",
    "            # Generate unique ID\n",
    "            doc_id = f\"doc_{uuid.uuid4().hex[:8]}_{i}\"\n",
    "            ids.append(doc_id)\n",
    "\n",
    "            # Prepare metadata\n",
    "            metadata = dict(doc.metadata) \n",
    "            metadata['doc_index'] = i\n",
    "            metadata['content_length'] = len(doc.page_content)\n",
    "            metadatas.append(metadata)\n",
    "\n",
    "            # Document content \n",
    "            documents_texts.append(doc.page_content)\n",
    "\n",
    "            # Embedding\n",
    "            embeddings_list.append(embedding.tolist())\n",
    "\n",
    "        # Add to chromaDB collection\n",
    "        try:\n",
    "            self.collection.add(\n",
    "                ids=ids,\n",
    "                metadatas=metadatas,\n",
    "                documents=documents_texts,\n",
    "                embeddings=embeddings_list\n",
    "            )\n",
    "            print(f\"Successfully added {len(documents)} documents to vector store.\")\n",
    "            print(f\"Total documents in store/collection: {self.collection.count()}\")\n",
    "\n",
    "        except Exception as e:\n",
    "            print(f\"Error adding documents to vector store: {e}\")\n",
    "            raise\n",
    "\n",
    "vectorstore = VectorStore()\n",
    "vectorstore\n",
    "\n",
    "\n",
    "\n"
   ]
  },
  {
   "cell_type": "code",
   "execution_count": 20,
   "id": "ca0d2bd0",
   "metadata": {},
   "outputs": [
    {
     "data": {
      "text/plain": [
       "[Document(metadata={'producer': 'Skia/PDF m142 Google Docs Renderer', 'creator': 'PyPDF', 'creationdate': '', 'title': 'Untitled document', 'source': '../data/pdf_files/Rental_Lease_Agreement.pdf', 'total_pages': 2, 'page': 0, 'page_label': '1', 'source_file': 'Rental_Lease_Agreement.pdf', 'file_type': 'pdf'}, page_content='Residential  Lease  Agreement  \\nThis  Lease  Agreement  (the  \"Agreement\")  is  made  and  entered  into  this  21st  day  of  \\nSeptember,\\n \\n2025,\\n \\nby\\n \\nand\\n \\nbetween\\n \\nRohit\\n \\nSoni\\n \\n(the\\n \\n\"Landlord\")\\n \\nand\\n \\nAmit\\n \\nKumar\\n \\n(the\\n \\n\"Tenant\").\\n \\n1.  PROPERTY  The  Landlord  agrees  to  lease  to  the  Tenant  the  property  located  at:  123  \\nInnovation\\n \\nDrive,\\n \\nTechville,\\n \\nST\\n \\n54321\\n \\n(the\\n \\n\"Premises\").\\n \\n2.  LEASE  TERM  The  term  of  this  lease  shall  be  for  a  period  of  12  months ,  commencing  on  \\nOctober\\n \\n1,\\n \\n2025,\\n \\nand\\n \\nending\\n \\non\\n \\nSeptember\\n \\n30,\\n \\n2026.\\n \\n3.  RENT  3.1.  The  Tenant  shall  pay  the  Landlord  a  monthly  rent  of  $2,400.00 .  3.2.  Rent  shall  \\nbe\\n \\ndue\\n \\nand\\n \\npayable\\n \\nin\\n \\nfull\\n \\non\\n \\nor\\n \\nbefore\\n \\nthe\\n \\n5th\\n \\nday\\n \\nof\\n \\neach\\n \\nmonth\\n.\\n \\n3.3.\\n \\nLate\\n \\nFee:\\n \\nIn\\n \\nthe\\n \\nevent\\n \\nthat\\n \\nrent\\n \\nis\\n \\nnot\\n \\npaid\\n \\nby\\n \\nthe\\n \\ndue\\n \\ndate,\\n \\na\\n \\npenalty\\n \\nof\\n \\n10%\\n \\nof\\n \\nthe\\n \\ndaily\\n \\nrent\\n \\namount\\n \\nper\\n \\nday\\n \\nshall\\n \\nbe\\n \\napplied\\n \\nuntil'),\n",
       " Document(metadata={'producer': 'Skia/PDF m142 Google Docs Renderer', 'creator': 'PyPDF', 'creationdate': '', 'title': 'Untitled document', 'source': '../data/pdf_files/Rental_Lease_Agreement.pdf', 'total_pages': 2, 'page': 0, 'page_label': '1', 'source_file': 'Rental_Lease_Agreement.pdf', 'file_type': 'pdf'}, page_content=\"3.3.\\n \\nLate\\n \\nFee:\\n \\nIn\\n \\nthe\\n \\nevent\\n \\nthat\\n \\nrent\\n \\nis\\n \\nnot\\n \\npaid\\n \\nby\\n \\nthe\\n \\ndue\\n \\ndate,\\n \\na\\n \\npenalty\\n \\nof\\n \\n10%\\n \\nof\\n \\nthe\\n \\ndaily\\n \\nrent\\n \\namount\\n \\nper\\n \\nday\\n \\nshall\\n \\nbe\\n \\napplied\\n \\nuntil\\n \\nthe\\n \\noutstanding\\n \\nbalance\\n \\nis\\n \\npaid\\n \\nin\\n \\nfull.\\n \\n4.  SECURITY  DEPOSIT  Upon  execution  of  this  Agreement,  the  Tenant  shall  deposit  with  the  \\nLandlord\\n \\nthe\\n \\nsum\\n \\nof\\n \\n$4,800.00\\n,\\n \\nequivalent\\n \\nto\\n \\ntwo\\n \\nmonths'\\n \\nrent,\\n \\nas\\n \\nsecurity\\n \\nfor\\n \\nthe\\n \\nfaithful\\n \\nperformance\\n \\nof\\n \\nthe\\n \\nterms\\n \\nof\\n \\nthis\\n \\nlease.\\n \\n5.  UTILITIES  The  Tenant  shall  be  responsible  for  arranging  and  paying  for  all  utility  services  \\nrequired\\n \\non\\n \\nthe\\n \\nPremises.\\n \\nUtilities\\n \\nare\\n \\nnot\\n \\nincluded\\n \\nin\\n \\nthe\\n \\nmonthly\\n \\nrent.\\n \\n6.  MAINTENANCE  AND  REPAIRS  The  Tenant  shall  be  responsible  for  all  minor  repairs  \\nand\\n \\ngeneral\\n \\nmaintenance\\n \\nof\\n \\nthe\\n \\nPremises,\\n \\nincluding\\n \\nbut\\n \\nnot\\n \\nlimited\\n \\nto\\n \\nreplacing\\n \\nlight\\n \\nbulbs\\n \\nand\\n \\nfilters.\\n \\nThe\\n \\nLandlord\"),\n",
       " Document(metadata={'producer': 'Skia/PDF m142 Google Docs Renderer', 'creator': 'PyPDF', 'creationdate': '', 'title': 'Untitled document', 'source': '../data/pdf_files/Rental_Lease_Agreement.pdf', 'total_pages': 2, 'page': 0, 'page_label': '1', 'source_file': 'Rental_Lease_Agreement.pdf', 'file_type': 'pdf'}, page_content=\"and\\n \\ngeneral\\n \\nmaintenance\\n \\nof\\n \\nthe\\n \\nPremises,\\n \\nincluding\\n \\nbut\\n \\nnot\\n \\nlimited\\n \\nto\\n \\nreplacing\\n \\nlight\\n \\nbulbs\\n \\nand\\n \\nfilters.\\n \\nThe\\n \\nLandlord\\n \\nshall\\n \\nbe\\n \\nresponsible\\n \\nfor\\n \\nmajor\\n \\nstructural\\n \\nrepairs.\\n \\n7.  PETS  A  pet  policy  is  included .  The  Tenant  is  permitted  to  keep  up  to  two  (2)  domestic  \\npets\\n \\non\\n \\nthe\\n \\nPremises,\\n \\nsubject\\n \\nto\\n \\na\\n \\none-time\\n \\npet\\n \\nfee\\n \\nof\\n \\n$250.\\n \\n8.  DEFAULT  AND  TERMINATION  8.1.  Early  Termination:  An  early  termination  clause  is  \\nin\\n \\neffect.\\n \\nThe\\n \\nTenant\\n \\nmay\\n \\nterminate\\n \\nthis\\n \\nlease\\n \\nbefore\\n \\nthe\\n \\nend\\n \\nof\\n \\nthe\\n \\nterm\\n \\nby\\n \\nproviding\\n \\n60\\n \\ndays'\\n \\nwritten\\n \\nnotice\\n \\nand\\n \\npaying\\n \\na\\n \\nfee\\n \\nequal\\n \\nto\\n \\ntwo\\n \\nmonths'\\n \\nrent.\\n \\n8.2.\\n \\nDispute:\\n \\nNotwithstanding\\n \\nany\\n \\nother\\n \\nprovision\\n \\nof\\n \\nthis\\n \\nAgreement,\\n \\nthe\\n \\nLandlord\\n \\nmay\\n \\nterminate\\n \\nthis\\n \\nAgreement\\n \\nwithout\\n \\nnotice\\n \\nin\\n \\nthe\\n \\ncase\\n \\nof\\n \\nany\\n \\ndispute\\n \\nbetween\\n \\nthe\\n \\nLandlord\\n \\nand\\n \\nTenant.\"),\n",
       " Document(metadata={'producer': 'Skia/PDF m142 Google Docs Renderer', 'creator': 'PyPDF', 'creationdate': '', 'title': 'Untitled document', 'source': '../data/pdf_files/Rental_Lease_Agreement.pdf', 'total_pages': 2, 'page': 0, 'page_label': '1', 'source_file': 'Rental_Lease_Agreement.pdf', 'file_type': 'pdf'}, page_content='other\\n \\nprovision\\n \\nof\\n \\nthis\\n \\nAgreement,\\n \\nthe\\n \\nLandlord\\n \\nmay\\n \\nterminate\\n \\nthis\\n \\nAgreement\\n \\nwithout\\n \\nnotice\\n \\nin\\n \\nthe\\n \\ncase\\n \\nof\\n \\nany\\n \\ndispute\\n \\nbetween\\n \\nthe\\n \\nLandlord\\n \\nand\\n \\nTenant.\\n \\nThis  Agreement  constitutes  the  entire  agreement  between  the  parties.  \\nLANDLORD:  \\n \\nRohit  Soni  \\nTENANT:  \\nAmit  Kumar')]"
      ]
     },
     "execution_count": 20,
     "metadata": {},
     "output_type": "execute_result"
    }
   ],
   "source": [
    "chunks"
   ]
  },
  {
   "cell_type": "code",
   "execution_count": 21,
   "id": "9fada914",
   "metadata": {},
   "outputs": [
    {
     "name": "stdout",
     "output_type": "stream",
     "text": [
      "Generating embedding for 4 texts...\n"
     ]
    },
    {
     "name": "stderr",
     "output_type": "stream",
     "text": [
      "Batches:   0%|          | 0/1 [00:00<?, ?it/s]"
     ]
    },
    {
     "name": "stderr",
     "output_type": "stream",
     "text": [
      "Batches: 100%|██████████| 1/1 [00:03<00:00,  3.78s/it]"
     ]
    },
    {
     "name": "stdout",
     "output_type": "stream",
     "text": [
      "Generated embeddings with shape: (4, 384)\n",
      "Adding 4 documents to vector store...\n",
      "Successfully added 4 documents to vector store.\n",
      "Total documents in store/collection: 32\n"
     ]
    },
    {
     "name": "stderr",
     "output_type": "stream",
     "text": [
      "\n"
     ]
    }
   ],
   "source": [
    "### convert the text to embeddings \n",
    "texts = [doc.page_content for doc in chunks]\n",
    "\n",
    "### Generate embeddings\n",
    "\n",
    "embeddings = embedding_manager.generate_embeddings(texts)\n",
    "\n",
    "\n",
    "### store in vectorstore\n",
    "vectorstore.add_documents(chunks, embeddings)"
   ]
  },
  {
   "cell_type": "markdown",
   "id": "f69464ef",
   "metadata": {},
   "source": [
    "### Retrieval Pipeline from Vector Store"
   ]
  },
  {
   "cell_type": "code",
   "execution_count": 22,
   "id": "fc6dab32",
   "metadata": {},
   "outputs": [],
   "source": [
    "class RAGRetriever:\n",
    "    \"\"\"Handles query-based retrieval from the vector store\"\"\"\n",
    "    \n",
    "    def __init__(self, vector_store: VectorStore, embedding_manager: EmbeddingManager):\n",
    "        \"\"\"\n",
    "        Initialize the retriever\n",
    "        \n",
    "        Args:\n",
    "            vector_store: Vector store containing document embeddings\n",
    "            embedding_manager: Manager for generating query embeddings\n",
    "        \"\"\"\n",
    "        self.vector_store = vector_store\n",
    "        self.embedding_manager = embedding_manager\n",
    "\n",
    "    def retrieve(self, query: str, top_k: int = 5, score_threshold: float = 0.0) -> List[Dict[str, Any]]:\n",
    "        \"\"\"\n",
    "        Retrieve relevant documents for a query\n",
    "        \n",
    "        Args:\n",
    "            query: The search query\n",
    "            top_k: Number of top results to return\n",
    "            score_threshold: Minimum similarity score threshold\n",
    "            \n",
    "        Returns:\n",
    "            List of dictionaries containing retrieved documents and metadata\n",
    "        \"\"\"\n",
    "        print(f\"Retrieving documents for query: '{query}'\")\n",
    "        print(f\"Top K: {top_k}, Score threshold: {score_threshold}\")\n",
    "        \n",
    "        # Generate query embedding\n",
    "        query_embedding = self.embedding_manager.generate_embeddings([query])[0]\n",
    "        \n",
    "        # Search in vector store\n",
    "        try:\n",
    "            results = self.vector_store.collection.query(\n",
    "                query_embeddings=[query_embedding.tolist()],\n",
    "                n_results=top_k\n",
    "            )\n",
    "            \n",
    "            # Process results\n",
    "            retrieved_docs = []\n",
    "            \n",
    "            if results['documents'] and results['documents'][0]:\n",
    "                documents = results['documents'][0]\n",
    "                metadatas = results['metadatas'][0]\n",
    "                distances = results['distances'][0]\n",
    "                ids = results['ids'][0]\n",
    "                \n",
    "                for i, (doc_id, document, metadata, distance) in enumerate(zip(ids, documents, metadatas, distances)):\n",
    "                    # Convert distance to similarity score (ChromaDB uses cosine distance)\n",
    "                    similarity_score = 1 - distance\n",
    "                    \n",
    "                    if similarity_score >= score_threshold:\n",
    "                        retrieved_docs.append({\n",
    "                            'id': doc_id,\n",
    "                            'content': document,\n",
    "                            'metadata': metadata,\n",
    "                            'similarity_score': similarity_score,\n",
    "                            'distance': distance,\n",
    "                            'rank': i + 1\n",
    "                        })\n",
    "                \n",
    "                print(f\"Retrieved {len(retrieved_docs)} documents (after filtering)\")\n",
    "            else:\n",
    "                print(\"No documents found\")\n",
    "            \n",
    "            return retrieved_docs\n",
    "            \n",
    "        except Exception as e:\n",
    "            print(f\"Error during retrieval: {e}\")\n",
    "            return []\n",
    "\n",
    "rag_retriever=RAGRetriever(vectorstore,embedding_manager)"
   ]
  },
  {
   "cell_type": "code",
   "execution_count": 24,
   "id": "eac889dd",
   "metadata": {},
   "outputs": [
    {
     "name": "stdout",
     "output_type": "stream",
     "text": [
      "Retrieving documents for query: 'Rohit Soni'\n",
      "Top K: 5, Score threshold: 0.0\n",
      "Generating embedding for 1 texts...\n"
     ]
    },
    {
     "name": "stderr",
     "output_type": "stream",
     "text": [
      "Batches: 100%|██████████| 1/1 [00:00<00:00, 16.78it/s]"
     ]
    },
    {
     "name": "stdout",
     "output_type": "stream",
     "text": [
      "Generated embeddings with shape: (1, 384)\n",
      "Retrieved 0 documents (after filtering)\n"
     ]
    },
    {
     "name": "stderr",
     "output_type": "stream",
     "text": [
      "\n"
     ]
    },
    {
     "data": {
      "text/plain": [
       "[]"
      ]
     },
     "execution_count": 24,
     "metadata": {},
     "output_type": "execute_result"
    }
   ],
   "source": [
    "rag_retriever.retrieve(\"Rohit Soni\")"
   ]
  },
  {
   "cell_type": "code",
   "execution_count": null,
   "id": "9f5681aa",
   "metadata": {},
   "outputs": [
    {
     "name": "stdout",
     "output_type": "stream",
     "text": [
      "chunks len: 4\n",
      "vectorstore count: 28\n",
      "example chunk: Residential  Lease  Agreement  \n",
      "This  Lease  Agreement  (the  \"Agreement\")  is  made  and  entered  into  this  21st  day  of  \n",
      "September,\n",
      " \n",
      "2025,\n",
      " \n",
      "by\n",
      " \n",
      "and\n",
      " \n",
      "between\n",
      " \n",
      "Rohit\n",
      " \n",
      "Soni\n",
      " \n",
      "(the\n",
      " \n",
      "\"Landlor\n",
      "Generating embedding for 1 texts...\n"
     ]
    },
    {
     "name": "stderr",
     "output_type": "stream",
     "text": [
      "Batches: 100%|██████████| 1/1 [00:00<00:00, 68.38it/s]"
     ]
    },
    {
     "name": "stdout",
     "output_type": "stream",
     "text": [
      "Generated embeddings with shape: (1, 384)\n",
      "raw results: {'ids': [['doc_6211c046_0', 'doc_9d3be139_0', 'doc_fe0f2c21_0', 'doc_b9eb4990_0', 'doc_68da5e98_0']], 'embeddings': None, 'documents': [['Residential  Lease  Agreement  \\nThis  Lease  Agreement  (the  \"Agreement\")  is  made  and  entered  into  this  21st  day  of  \\nSeptember,\\n \\n2025,\\n \\nby\\n \\nand\\n \\nbetween\\n \\nRohit\\n \\nSoni\\n \\n(the\\n \\n\"Landlord\")\\n \\nand\\n \\nAmit\\n \\nKumar\\n \\n(the\\n \\n\"Tenant\").\\n \\n1.  PROPERTY  The  Landlord  agrees  to  lease  to  the  Tenant  the  property  located  at:  123  \\nInnovation\\n \\nDrive,\\n \\nTechville,\\n \\nST\\n \\n54321\\n \\n(the\\n \\n\"Premises\").\\n \\n2.  LEASE  TERM  The  term  of  this  lease  shall  be  for  a  period  of  12  months ,  commencing  on  \\nOctober\\n \\n1,\\n \\n2025,\\n \\nand\\n \\nending\\n \\non\\n \\nSeptember\\n \\n30,\\n \\n2026.\\n \\n3.  RENT  3.1.  The  Tenant  shall  pay  the  Landlord  a  monthly  rent  of  $2,400.00 .  3.2.  Rent  shall  \\nbe\\n \\ndue\\n \\nand\\n \\npayable\\n \\nin\\n \\nfull\\n \\non\\n \\nor\\n \\nbefore\\n \\nthe\\n \\n5th\\n \\nday\\n \\nof\\n \\neach\\n \\nmonth\\n.\\n \\n3.3.\\n \\nLate\\n \\nFee:\\n \\nIn\\n \\nthe\\n \\nevent\\n \\nthat\\n \\nrent\\n \\nis\\n \\nnot\\n \\npaid\\n \\nby\\n \\nthe\\n \\ndue\\n \\ndate,\\n \\na\\n \\npenalty\\n \\nof\\n \\n10%\\n \\nof\\n \\nthe\\n \\ndaily\\n \\nrent\\n \\namount\\n \\nper\\n \\nday\\n \\nshall\\n \\nbe\\n \\napplied\\n \\nuntil', 'Residential  Lease  Agreement  \\nThis  Lease  Agreement  (the  \"Agreement\")  is  made  and  entered  into  this  21st  day  of  \\nSeptember,\\n \\n2025,\\n \\nby\\n \\nand\\n \\nbetween\\n \\nRohit\\n \\nSoni\\n \\n(the\\n \\n\"Landlord\")\\n \\nand\\n \\nAmit\\n \\nKumar\\n \\n(the\\n \\n\"Tenant\").\\n \\n1.  PROPERTY  The  Landlord  agrees  to  lease  to  the  Tenant  the  property  located  at:  123  \\nInnovation\\n \\nDrive,\\n \\nTechville,\\n \\nST\\n \\n54321\\n \\n(the\\n \\n\"Premises\").\\n \\n2.  LEASE  TERM  The  term  of  this  lease  shall  be  for  a  period  of  12  months ,  commencing  on  \\nOctober\\n \\n1,\\n \\n2025,\\n \\nand\\n \\nending\\n \\non\\n \\nSeptember\\n \\n30,\\n \\n2026.\\n \\n3.  RENT  3.1.  The  Tenant  shall  pay  the  Landlord  a  monthly  rent  of  $2,400.00 .  3.2.  Rent  shall  \\nbe\\n \\ndue\\n \\nand\\n \\npayable\\n \\nin\\n \\nfull\\n \\non\\n \\nor\\n \\nbefore\\n \\nthe\\n \\n5th\\n \\nday\\n \\nof\\n \\neach\\n \\nmonth\\n.\\n \\n3.3.\\n \\nLate\\n \\nFee:\\n \\nIn\\n \\nthe\\n \\nevent\\n \\nthat\\n \\nrent\\n \\nis\\n \\nnot\\n \\npaid\\n \\nby\\n \\nthe\\n \\ndue\\n \\ndate,\\n \\na\\n \\npenalty\\n \\nof\\n \\n10%\\n \\nof\\n \\nthe\\n \\ndaily\\n \\nrent\\n \\namount\\n \\nper\\n \\nday\\n \\nshall\\n \\nbe\\n \\napplied\\n \\nuntil', 'Residential  Lease  Agreement  \\nThis  Lease  Agreement  (the  \"Agreement\")  is  made  and  entered  into  this  21st  day  of  \\nSeptember,\\n \\n2025,\\n \\nby\\n \\nand\\n \\nbetween\\n \\nRohit\\n \\nSoni\\n \\n(the\\n \\n\"Landlord\")\\n \\nand\\n \\nAmit\\n \\nKumar\\n \\n(the\\n \\n\"Tenant\").\\n \\n1.  PROPERTY  The  Landlord  agrees  to  lease  to  the  Tenant  the  property  located  at:  123  \\nInnovation\\n \\nDrive,\\n \\nTechville,\\n \\nST\\n \\n54321\\n \\n(the\\n \\n\"Premises\").\\n \\n2.  LEASE  TERM  The  term  of  this  lease  shall  be  for  a  period  of  12  months ,  commencing  on  \\nOctober\\n \\n1,\\n \\n2025,\\n \\nand\\n \\nending\\n \\non\\n \\nSeptember\\n \\n30,\\n \\n2026.\\n \\n3.  RENT  3.1.  The  Tenant  shall  pay  the  Landlord  a  monthly  rent  of  $2,400.00 .  3.2.  Rent  shall  \\nbe\\n \\ndue\\n \\nand\\n \\npayable\\n \\nin\\n \\nfull\\n \\non\\n \\nor\\n \\nbefore\\n \\nthe\\n \\n5th\\n \\nday\\n \\nof\\n \\neach\\n \\nmonth\\n.\\n \\n3.3.\\n \\nLate\\n \\nFee:\\n \\nIn\\n \\nthe\\n \\nevent\\n \\nthat\\n \\nrent\\n \\nis\\n \\nnot\\n \\npaid\\n \\nby\\n \\nthe\\n \\ndue\\n \\ndate,\\n \\na\\n \\npenalty\\n \\nof\\n \\n10%\\n \\nof\\n \\nthe\\n \\ndaily\\n \\nrent\\n \\namount\\n \\nper\\n \\nday\\n \\nshall\\n \\nbe\\n \\napplied\\n \\nuntil', 'Residential  Lease  Agreement  \\nThis  Lease  Agreement  (the  \"Agreement\")  is  made  and  entered  into  this  21st  day  of  \\nSeptember,\\n \\n2025,\\n \\nby\\n \\nand\\n \\nbetween\\n \\nRohit\\n \\nSoni\\n \\n(the\\n \\n\"Landlord\")\\n \\nand\\n \\nAmit\\n \\nKumar\\n \\n(the\\n \\n\"Tenant\").\\n \\n1.  PROPERTY  The  Landlord  agrees  to  lease  to  the  Tenant  the  property  located  at:  123  \\nInnovation\\n \\nDrive,\\n \\nTechville,\\n \\nST\\n \\n54321\\n \\n(the\\n \\n\"Premises\").\\n \\n2.  LEASE  TERM  The  term  of  this  lease  shall  be  for  a  period  of  12  months ,  commencing  on  \\nOctober\\n \\n1,\\n \\n2025,\\n \\nand\\n \\nending\\n \\non\\n \\nSeptember\\n \\n30,\\n \\n2026.\\n \\n3.  RENT  3.1.  The  Tenant  shall  pay  the  Landlord  a  monthly  rent  of  $2,400.00 .  3.2.  Rent  shall  \\nbe\\n \\ndue\\n \\nand\\n \\npayable\\n \\nin\\n \\nfull\\n \\non\\n \\nor\\n \\nbefore\\n \\nthe\\n \\n5th\\n \\nday\\n \\nof\\n \\neach\\n \\nmonth\\n.\\n \\n3.3.\\n \\nLate\\n \\nFee:\\n \\nIn\\n \\nthe\\n \\nevent\\n \\nthat\\n \\nrent\\n \\nis\\n \\nnot\\n \\npaid\\n \\nby\\n \\nthe\\n \\ndue\\n \\ndate,\\n \\na\\n \\npenalty\\n \\nof\\n \\n10%\\n \\nof\\n \\nthe\\n \\ndaily\\n \\nrent\\n \\namount\\n \\nper\\n \\nday\\n \\nshall\\n \\nbe\\n \\napplied\\n \\nuntil', 'Residential  Lease  Agreement  \\nThis  Lease  Agreement  (the  \"Agreement\")  is  made  and  entered  into  this  21st  day  of  \\nSeptember,\\n \\n2025,\\n \\nby\\n \\nand\\n \\nbetween\\n \\nRohit\\n \\nSoni\\n \\n(the\\n \\n\"Landlord\")\\n \\nand\\n \\nAmit\\n \\nKumar\\n \\n(the\\n \\n\"Tenant\").\\n \\n1.  PROPERTY  The  Landlord  agrees  to  lease  to  the  Tenant  the  property  located  at:  123  \\nInnovation\\n \\nDrive,\\n \\nTechville,\\n \\nST\\n \\n54321\\n \\n(the\\n \\n\"Premises\").\\n \\n2.  LEASE  TERM  The  term  of  this  lease  shall  be  for  a  period  of  12  months ,  commencing  on  \\nOctober\\n \\n1,\\n \\n2025,\\n \\nand\\n \\nending\\n \\non\\n \\nSeptember\\n \\n30,\\n \\n2026.\\n \\n3.  RENT  3.1.  The  Tenant  shall  pay  the  Landlord  a  monthly  rent  of  $2,400.00 .  3.2.  Rent  shall  \\nbe\\n \\ndue\\n \\nand\\n \\npayable\\n \\nin\\n \\nfull\\n \\non\\n \\nor\\n \\nbefore\\n \\nthe\\n \\n5th\\n \\nday\\n \\nof\\n \\neach\\n \\nmonth\\n.\\n \\n3.3.\\n \\nLate\\n \\nFee:\\n \\nIn\\n \\nthe\\n \\nevent\\n \\nthat\\n \\nrent\\n \\nis\\n \\nnot\\n \\npaid\\n \\nby\\n \\nthe\\n \\ndue\\n \\ndate,\\n \\na\\n \\npenalty\\n \\nof\\n \\n10%\\n \\nof\\n \\nthe\\n \\ndaily\\n \\nrent\\n \\namount\\n \\nper\\n \\nday\\n \\nshall\\n \\nbe\\n \\napplied\\n \\nuntil']], 'uris': None, 'included': ['metadatas', 'documents', 'distances'], 'data': None, 'metadatas': [[{'producer': 'Skia/PDF m142 Google Docs Renderer', 'doc_index': 0, 'content_length': 999, 'total_pages': 2, 'title': 'Untitled document', 'page_label': '1', 'file_type': 'pdf', 'source': '../data/pdf_files/Rental_Lease_Agreement.pdf', 'creator': 'PyPDF', 'source_file': 'Rental_Lease_Agreement.pdf', 'creationdate': '', 'page': 0}, {'total_pages': 2, 'page_label': '1', 'creationdate': '', 'doc_index': 0, 'producer': 'Skia/PDF m142 Google Docs Renderer', 'source_file': 'Rental_Lease_Agreement.pdf', 'file_type': 'pdf', 'content_length': 999, 'page': 0, 'creator': 'PyPDF', 'title': 'Untitled document', 'source': '../data/pdf_files/Rental_Lease_Agreement.pdf'}, {'file_type': 'pdf', 'creationdate': '', 'page': 0, 'source': '../data/pdf_files/Rental_Lease_Agreement.pdf', 'title': 'Untitled document', 'total_pages': 2, 'source_file': 'Rental_Lease_Agreement.pdf', 'doc_index': 0, 'content_length': 999, 'page_label': '1', 'producer': 'Skia/PDF m142 Google Docs Renderer', 'creator': 'PyPDF'}, {'creator': 'PyPDF', 'producer': 'Skia/PDF m142 Google Docs Renderer', 'page': 0, 'total_pages': 2, 'source': '../data/pdf_files/Rental_Lease_Agreement.pdf', 'doc_index': 0, 'page_label': '1', 'title': 'Untitled document', 'content_length': 999, 'source_file': 'Rental_Lease_Agreement.pdf', 'creationdate': '', 'file_type': 'pdf'}, {'page_label': '1', 'total_pages': 2, 'title': 'Untitled document', 'source_file': 'Rental_Lease_Agreement.pdf', 'producer': 'Skia/PDF m142 Google Docs Renderer', 'creationdate': '', 'source': '../data/pdf_files/Rental_Lease_Agreement.pdf', 'doc_index': 0, 'file_type': 'pdf', 'creator': 'PyPDF', 'page': 0, 'content_length': 999}]], 'distances': [[1.9043198823928833, 1.9043198823928833, 1.9043198823928833, 1.9043198823928833, 1.9043198823928833]]}\n"
     ]
    },
    {
     "name": "stderr",
     "output_type": "stream",
     "text": [
      "\n"
     ]
    }
   ],
   "source": [
    "# debug checks\n",
    "print(\"chunks len:\", len(chunks))\n",
    "print(\"vectorstore count:\", vectorstore.collection.count())\n",
    "if len(chunks) > 0:\n",
    "    print(\"example chunk:\", chunks[0].page_content[:200])\n",
    "# inspect raw query result\n",
    "query_embedding = embedding_manager.generate_embeddings([\"Introduction to Python programming\"])[0]\n",
    "results = vectorstore.collection.query(query_embeddings=[query_embedding.tolist()], n_results=5)\n",
    "print(\"raw results:\", results)"
   ]
  },
  {
   "cell_type": "markdown",
   "id": "f4d767ec",
   "metadata": {},
   "source": [
    "### Integration VectorDB Context pipeline with LLM output"
   ]
  },
  {
   "cell_type": "code",
   "execution_count": 25,
   "id": "e4ebc663",
   "metadata": {},
   "outputs": [],
   "source": [
    "### Simple RAG pipeline with Groq LLM\n",
    "\n",
    "from langchain_groq import ChatGroq\n",
    "import os\n",
    "from dotenv import load_dotenv\n",
    "load_dotenv()\n",
    "\n",
    "GROQ_API_KEY = os.getenv(\"GROQ_API_KEY\")\n",
    "\n",
    "llm = ChatGroq(groq_api_key=GROQ_API_KEY, model_name=\"gemma2-9b-it\",temperature=0.1,max_tokens=1024)\n",
    "\n",
    "## 2. Simple RAG Function : retireve context + generate response\n",
    "\n",
    "def rag_simple(query, retriever, llm, top_k=3):\n",
    "    ## retrieve the context\n",
    "\n",
    "    results = retriever.retrieve(query, top_k=top_k) \n",
    "    context = \"\\n\\n\".join([doc['content'] for doc in results]) if results else \"No relevant context found.\"\n",
    "    if not context: \n",
    "        return \"No relevant context found.\"\n",
    "    \n",
    "    ## generate the answer using GROQ LLM\n",
    "    prompt=f\"\"\"You are a helpful AI assistant. Use the following context to answer the question.\n",
    "    Context: {context}\n",
    "    Question: {query}\n",
    "    Answer:\"\"\"\n",
    "\n",
    "    response = llm.invoke(prompt.format(context=context, query=query))\n",
    "    return response.content\n",
    "\n"
   ]
  },
  {
   "cell_type": "code",
   "execution_count": 26,
   "id": "515bb4f0",
   "metadata": {},
   "outputs": [
    {
     "name": "stdout",
     "output_type": "stream",
     "text": [
      "Retrieving documents for query: 'What is Rental Agreement?'\n",
      "Top K: 3, Score threshold: 0.0\n",
      "Generating embedding for 1 texts...\n"
     ]
    },
    {
     "name": "stderr",
     "output_type": "stream",
     "text": [
      "Batches: 100%|██████████| 1/1 [00:00<00:00, 35.71it/s]"
     ]
    },
    {
     "name": "stdout",
     "output_type": "stream",
     "text": [
      "Generated embeddings with shape: (1, 384)\n",
      "Retrieved 3 documents (after filtering)\n"
     ]
    },
    {
     "name": "stderr",
     "output_type": "stream",
     "text": [
      "\n"
     ]
    },
    {
     "ename": "AuthenticationError",
     "evalue": "Error code: 401 - {'error': {'message': 'Invalid API Key', 'type': 'invalid_request_error', 'code': 'invalid_api_key'}}",
     "output_type": "error",
     "traceback": [
      "\u001b[31m---------------------------------------------------------------------------\u001b[39m",
      "\u001b[31mAuthenticationError\u001b[39m                       Traceback (most recent call last)",
      "\u001b[36mCell\u001b[39m\u001b[36m \u001b[39m\u001b[32mIn[26]\u001b[39m\u001b[32m, line 1\u001b[39m\n\u001b[32m----> \u001b[39m\u001b[32m1\u001b[39m answer=\u001b[43mrag_simple\u001b[49m\u001b[43m(\u001b[49m\u001b[33;43m\"\u001b[39;49m\u001b[33;43mWhat is Rental Agreement?\u001b[39;49m\u001b[33;43m\"\u001b[39;49m\u001b[43m,\u001b[49m\u001b[43m \u001b[49m\u001b[43mrag_retriever\u001b[49m\u001b[43m,\u001b[49m\u001b[43m \u001b[49m\u001b[43mllm\u001b[49m\u001b[43m)\u001b[49m\n\u001b[32m      2\u001b[39m \u001b[38;5;28mprint\u001b[39m(answer)\n",
      "\u001b[36mCell\u001b[39m\u001b[36m \u001b[39m\u001b[32mIn[25]\u001b[39m\u001b[32m, line 28\u001b[39m, in \u001b[36mrag_simple\u001b[39m\u001b[34m(query, retriever, llm, top_k)\u001b[39m\n\u001b[32m     22\u001b[39m \u001b[38;5;66;03m## generate the answer using GROQ LLM\u001b[39;00m\n\u001b[32m     23\u001b[39m prompt=\u001b[33mf\u001b[39m\u001b[33m\"\"\"\u001b[39m\u001b[33mYou are a helpful AI assistant. Use the following context to answer the question.\u001b[39m\n\u001b[32m     24\u001b[39m \u001b[33mContext: \u001b[39m\u001b[38;5;132;01m{\u001b[39;00mcontext\u001b[38;5;132;01m}\u001b[39;00m\n\u001b[32m     25\u001b[39m \u001b[33mQuestion: \u001b[39m\u001b[38;5;132;01m{\u001b[39;00mquery\u001b[38;5;132;01m}\u001b[39;00m\n\u001b[32m     26\u001b[39m \u001b[33mAnswer:\u001b[39m\u001b[33m\"\"\"\u001b[39m\n\u001b[32m---> \u001b[39m\u001b[32m28\u001b[39m response = \u001b[43mllm\u001b[49m\u001b[43m.\u001b[49m\u001b[43minvoke\u001b[49m\u001b[43m(\u001b[49m\u001b[43mprompt\u001b[49m\u001b[43m.\u001b[49m\u001b[43mformat\u001b[49m\u001b[43m(\u001b[49m\u001b[43mcontext\u001b[49m\u001b[43m=\u001b[49m\u001b[43mcontext\u001b[49m\u001b[43m,\u001b[49m\u001b[43m \u001b[49m\u001b[43mquery\u001b[49m\u001b[43m=\u001b[49m\u001b[43mquery\u001b[49m\u001b[43m)\u001b[49m\u001b[43m)\u001b[49m\n\u001b[32m     29\u001b[39m \u001b[38;5;28;01mreturn\u001b[39;00m response.content\n",
      "\u001b[36mFile \u001b[39m\u001b[32m/workspaces/RAG-Implementation/.venv/lib/python3.12/site-packages/langchain_core/language_models/chat_models.py:395\u001b[39m, in \u001b[36mBaseChatModel.invoke\u001b[39m\u001b[34m(self, input, config, stop, **kwargs)\u001b[39m\n\u001b[32m    383\u001b[39m \u001b[38;5;129m@override\u001b[39m\n\u001b[32m    384\u001b[39m \u001b[38;5;28;01mdef\u001b[39;00m\u001b[38;5;250m \u001b[39m\u001b[34minvoke\u001b[39m(\n\u001b[32m    385\u001b[39m     \u001b[38;5;28mself\u001b[39m,\n\u001b[32m   (...)\u001b[39m\u001b[32m    390\u001b[39m     **kwargs: Any,\n\u001b[32m    391\u001b[39m ) -> BaseMessage:\n\u001b[32m    392\u001b[39m     config = ensure_config(config)\n\u001b[32m    393\u001b[39m     \u001b[38;5;28;01mreturn\u001b[39;00m cast(\n\u001b[32m    394\u001b[39m         \u001b[33m\"\u001b[39m\u001b[33mChatGeneration\u001b[39m\u001b[33m\"\u001b[39m,\n\u001b[32m--> \u001b[39m\u001b[32m395\u001b[39m         \u001b[38;5;28;43mself\u001b[39;49m\u001b[43m.\u001b[49m\u001b[43mgenerate_prompt\u001b[49m\u001b[43m(\u001b[49m\n\u001b[32m    396\u001b[39m \u001b[43m            \u001b[49m\u001b[43m[\u001b[49m\u001b[38;5;28;43mself\u001b[39;49m\u001b[43m.\u001b[49m\u001b[43m_convert_input\u001b[49m\u001b[43m(\u001b[49m\u001b[38;5;28;43minput\u001b[39;49m\u001b[43m)\u001b[49m\u001b[43m]\u001b[49m\u001b[43m,\u001b[49m\n\u001b[32m    397\u001b[39m \u001b[43m            \u001b[49m\u001b[43mstop\u001b[49m\u001b[43m=\u001b[49m\u001b[43mstop\u001b[49m\u001b[43m,\u001b[49m\n\u001b[32m    398\u001b[39m \u001b[43m            \u001b[49m\u001b[43mcallbacks\u001b[49m\u001b[43m=\u001b[49m\u001b[43mconfig\u001b[49m\u001b[43m.\u001b[49m\u001b[43mget\u001b[49m\u001b[43m(\u001b[49m\u001b[33;43m\"\u001b[39;49m\u001b[33;43mcallbacks\u001b[39;49m\u001b[33;43m\"\u001b[39;49m\u001b[43m)\u001b[49m\u001b[43m,\u001b[49m\n\u001b[32m    399\u001b[39m \u001b[43m            \u001b[49m\u001b[43mtags\u001b[49m\u001b[43m=\u001b[49m\u001b[43mconfig\u001b[49m\u001b[43m.\u001b[49m\u001b[43mget\u001b[49m\u001b[43m(\u001b[49m\u001b[33;43m\"\u001b[39;49m\u001b[33;43mtags\u001b[39;49m\u001b[33;43m\"\u001b[39;49m\u001b[43m)\u001b[49m\u001b[43m,\u001b[49m\n\u001b[32m    400\u001b[39m \u001b[43m            \u001b[49m\u001b[43mmetadata\u001b[49m\u001b[43m=\u001b[49m\u001b[43mconfig\u001b[49m\u001b[43m.\u001b[49m\u001b[43mget\u001b[49m\u001b[43m(\u001b[49m\u001b[33;43m\"\u001b[39;49m\u001b[33;43mmetadata\u001b[39;49m\u001b[33;43m\"\u001b[39;49m\u001b[43m)\u001b[49m\u001b[43m,\u001b[49m\n\u001b[32m    401\u001b[39m \u001b[43m            \u001b[49m\u001b[43mrun_name\u001b[49m\u001b[43m=\u001b[49m\u001b[43mconfig\u001b[49m\u001b[43m.\u001b[49m\u001b[43mget\u001b[49m\u001b[43m(\u001b[49m\u001b[33;43m\"\u001b[39;49m\u001b[33;43mrun_name\u001b[39;49m\u001b[33;43m\"\u001b[39;49m\u001b[43m)\u001b[49m\u001b[43m,\u001b[49m\n\u001b[32m    402\u001b[39m \u001b[43m            \u001b[49m\u001b[43mrun_id\u001b[49m\u001b[43m=\u001b[49m\u001b[43mconfig\u001b[49m\u001b[43m.\u001b[49m\u001b[43mpop\u001b[49m\u001b[43m(\u001b[49m\u001b[33;43m\"\u001b[39;49m\u001b[33;43mrun_id\u001b[39;49m\u001b[33;43m\"\u001b[39;49m\u001b[43m,\u001b[49m\u001b[43m \u001b[49m\u001b[38;5;28;43;01mNone\u001b[39;49;00m\u001b[43m)\u001b[49m\u001b[43m,\u001b[49m\n\u001b[32m    403\u001b[39m \u001b[43m            \u001b[49m\u001b[43m*\u001b[49m\u001b[43m*\u001b[49m\u001b[43mkwargs\u001b[49m\u001b[43m,\u001b[49m\n\u001b[32m    404\u001b[39m \u001b[43m        \u001b[49m\u001b[43m)\u001b[49m.generations[\u001b[32m0\u001b[39m][\u001b[32m0\u001b[39m],\n\u001b[32m    405\u001b[39m     ).message\n",
      "\u001b[36mFile \u001b[39m\u001b[32m/workspaces/RAG-Implementation/.venv/lib/python3.12/site-packages/langchain_core/language_models/chat_models.py:1023\u001b[39m, in \u001b[36mBaseChatModel.generate_prompt\u001b[39m\u001b[34m(self, prompts, stop, callbacks, **kwargs)\u001b[39m\n\u001b[32m   1014\u001b[39m \u001b[38;5;129m@override\u001b[39m\n\u001b[32m   1015\u001b[39m \u001b[38;5;28;01mdef\u001b[39;00m\u001b[38;5;250m \u001b[39m\u001b[34mgenerate_prompt\u001b[39m(\n\u001b[32m   1016\u001b[39m     \u001b[38;5;28mself\u001b[39m,\n\u001b[32m   (...)\u001b[39m\u001b[32m   1020\u001b[39m     **kwargs: Any,\n\u001b[32m   1021\u001b[39m ) -> LLMResult:\n\u001b[32m   1022\u001b[39m     prompt_messages = [p.to_messages() \u001b[38;5;28;01mfor\u001b[39;00m p \u001b[38;5;129;01min\u001b[39;00m prompts]\n\u001b[32m-> \u001b[39m\u001b[32m1023\u001b[39m     \u001b[38;5;28;01mreturn\u001b[39;00m \u001b[38;5;28;43mself\u001b[39;49m\u001b[43m.\u001b[49m\u001b[43mgenerate\u001b[49m\u001b[43m(\u001b[49m\u001b[43mprompt_messages\u001b[49m\u001b[43m,\u001b[49m\u001b[43m \u001b[49m\u001b[43mstop\u001b[49m\u001b[43m=\u001b[49m\u001b[43mstop\u001b[49m\u001b[43m,\u001b[49m\u001b[43m \u001b[49m\u001b[43mcallbacks\u001b[49m\u001b[43m=\u001b[49m\u001b[43mcallbacks\u001b[49m\u001b[43m,\u001b[49m\u001b[43m \u001b[49m\u001b[43m*\u001b[49m\u001b[43m*\u001b[49m\u001b[43mkwargs\u001b[49m\u001b[43m)\u001b[49m\n",
      "\u001b[36mFile \u001b[39m\u001b[32m/workspaces/RAG-Implementation/.venv/lib/python3.12/site-packages/langchain_core/language_models/chat_models.py:840\u001b[39m, in \u001b[36mBaseChatModel.generate\u001b[39m\u001b[34m(self, messages, stop, callbacks, tags, metadata, run_name, run_id, **kwargs)\u001b[39m\n\u001b[32m    837\u001b[39m \u001b[38;5;28;01mfor\u001b[39;00m i, m \u001b[38;5;129;01min\u001b[39;00m \u001b[38;5;28menumerate\u001b[39m(input_messages):\n\u001b[32m    838\u001b[39m     \u001b[38;5;28;01mtry\u001b[39;00m:\n\u001b[32m    839\u001b[39m         results.append(\n\u001b[32m--> \u001b[39m\u001b[32m840\u001b[39m             \u001b[38;5;28;43mself\u001b[39;49m\u001b[43m.\u001b[49m\u001b[43m_generate_with_cache\u001b[49m\u001b[43m(\u001b[49m\n\u001b[32m    841\u001b[39m \u001b[43m                \u001b[49m\u001b[43mm\u001b[49m\u001b[43m,\u001b[49m\n\u001b[32m    842\u001b[39m \u001b[43m                \u001b[49m\u001b[43mstop\u001b[49m\u001b[43m=\u001b[49m\u001b[43mstop\u001b[49m\u001b[43m,\u001b[49m\n\u001b[32m    843\u001b[39m \u001b[43m                \u001b[49m\u001b[43mrun_manager\u001b[49m\u001b[43m=\u001b[49m\u001b[43mrun_managers\u001b[49m\u001b[43m[\u001b[49m\u001b[43mi\u001b[49m\u001b[43m]\u001b[49m\u001b[43m \u001b[49m\u001b[38;5;28;43;01mif\u001b[39;49;00m\u001b[43m \u001b[49m\u001b[43mrun_managers\u001b[49m\u001b[43m \u001b[49m\u001b[38;5;28;43;01melse\u001b[39;49;00m\u001b[43m \u001b[49m\u001b[38;5;28;43;01mNone\u001b[39;49;00m\u001b[43m,\u001b[49m\n\u001b[32m    844\u001b[39m \u001b[43m                \u001b[49m\u001b[43m*\u001b[49m\u001b[43m*\u001b[49m\u001b[43mkwargs\u001b[49m\u001b[43m,\u001b[49m\n\u001b[32m    845\u001b[39m \u001b[43m            \u001b[49m\u001b[43m)\u001b[49m\n\u001b[32m    846\u001b[39m         )\n\u001b[32m    847\u001b[39m     \u001b[38;5;28;01mexcept\u001b[39;00m \u001b[38;5;167;01mBaseException\u001b[39;00m \u001b[38;5;28;01mas\u001b[39;00m e:\n\u001b[32m    848\u001b[39m         \u001b[38;5;28;01mif\u001b[39;00m run_managers:\n",
      "\u001b[36mFile \u001b[39m\u001b[32m/workspaces/RAG-Implementation/.venv/lib/python3.12/site-packages/langchain_core/language_models/chat_models.py:1089\u001b[39m, in \u001b[36mBaseChatModel._generate_with_cache\u001b[39m\u001b[34m(self, messages, stop, run_manager, **kwargs)\u001b[39m\n\u001b[32m   1087\u001b[39m     result = generate_from_stream(\u001b[38;5;28miter\u001b[39m(chunks))\n\u001b[32m   1088\u001b[39m \u001b[38;5;28;01melif\u001b[39;00m inspect.signature(\u001b[38;5;28mself\u001b[39m._generate).parameters.get(\u001b[33m\"\u001b[39m\u001b[33mrun_manager\u001b[39m\u001b[33m\"\u001b[39m):\n\u001b[32m-> \u001b[39m\u001b[32m1089\u001b[39m     result = \u001b[38;5;28;43mself\u001b[39;49m\u001b[43m.\u001b[49m\u001b[43m_generate\u001b[49m\u001b[43m(\u001b[49m\n\u001b[32m   1090\u001b[39m \u001b[43m        \u001b[49m\u001b[43mmessages\u001b[49m\u001b[43m,\u001b[49m\u001b[43m \u001b[49m\u001b[43mstop\u001b[49m\u001b[43m=\u001b[49m\u001b[43mstop\u001b[49m\u001b[43m,\u001b[49m\u001b[43m \u001b[49m\u001b[43mrun_manager\u001b[49m\u001b[43m=\u001b[49m\u001b[43mrun_manager\u001b[49m\u001b[43m,\u001b[49m\u001b[43m \u001b[49m\u001b[43m*\u001b[49m\u001b[43m*\u001b[49m\u001b[43mkwargs\u001b[49m\n\u001b[32m   1091\u001b[39m \u001b[43m    \u001b[49m\u001b[43m)\u001b[49m\n\u001b[32m   1092\u001b[39m \u001b[38;5;28;01melse\u001b[39;00m:\n\u001b[32m   1093\u001b[39m     result = \u001b[38;5;28mself\u001b[39m._generate(messages, stop=stop, **kwargs)\n",
      "\u001b[36mFile \u001b[39m\u001b[32m/workspaces/RAG-Implementation/.venv/lib/python3.12/site-packages/langchain_groq/chat_models.py:533\u001b[39m, in \u001b[36mChatGroq._generate\u001b[39m\u001b[34m(self, messages, stop, run_manager, **kwargs)\u001b[39m\n\u001b[32m    528\u001b[39m message_dicts, params = \u001b[38;5;28mself\u001b[39m._create_message_dicts(messages, stop)\n\u001b[32m    529\u001b[39m params = {\n\u001b[32m    530\u001b[39m     **params,\n\u001b[32m    531\u001b[39m     **kwargs,\n\u001b[32m    532\u001b[39m }\n\u001b[32m--> \u001b[39m\u001b[32m533\u001b[39m response = \u001b[38;5;28;43mself\u001b[39;49m\u001b[43m.\u001b[49m\u001b[43mclient\u001b[49m\u001b[43m.\u001b[49m\u001b[43mcreate\u001b[49m\u001b[43m(\u001b[49m\u001b[43mmessages\u001b[49m\u001b[43m=\u001b[49m\u001b[43mmessage_dicts\u001b[49m\u001b[43m,\u001b[49m\u001b[43m \u001b[49m\u001b[43m*\u001b[49m\u001b[43m*\u001b[49m\u001b[43mparams\u001b[49m\u001b[43m)\u001b[49m\n\u001b[32m    534\u001b[39m \u001b[38;5;28;01mreturn\u001b[39;00m \u001b[38;5;28mself\u001b[39m._create_chat_result(response, params)\n",
      "\u001b[36mFile \u001b[39m\u001b[32m/workspaces/RAG-Implementation/.venv/lib/python3.12/site-packages/groq/resources/chat/completions.py:456\u001b[39m, in \u001b[36mCompletions.create\u001b[39m\u001b[34m(self, messages, model, compound_custom, disable_tool_validation, documents, exclude_domains, frequency_penalty, function_call, functions, include_domains, include_reasoning, logit_bias, logprobs, max_completion_tokens, max_tokens, metadata, n, parallel_tool_calls, presence_penalty, reasoning_effort, reasoning_format, response_format, search_settings, seed, service_tier, stop, store, stream, temperature, tool_choice, tools, top_logprobs, top_p, user, extra_headers, extra_query, extra_body, timeout)\u001b[39m\n\u001b[32m    241\u001b[39m \u001b[38;5;28;01mdef\u001b[39;00m\u001b[38;5;250m \u001b[39m\u001b[34mcreate\u001b[39m(\n\u001b[32m    242\u001b[39m     \u001b[38;5;28mself\u001b[39m,\n\u001b[32m    243\u001b[39m     *,\n\u001b[32m   (...)\u001b[39m\u001b[32m    299\u001b[39m     timeout: \u001b[38;5;28mfloat\u001b[39m | httpx.Timeout | \u001b[38;5;28;01mNone\u001b[39;00m | NotGiven = not_given,\n\u001b[32m    300\u001b[39m ) -> ChatCompletion | Stream[ChatCompletionChunk]:\n\u001b[32m    301\u001b[39m \u001b[38;5;250m    \u001b[39m\u001b[33;03m\"\"\"\u001b[39;00m\n\u001b[32m    302\u001b[39m \u001b[33;03m    Creates a model response for the given chat conversation.\u001b[39;00m\n\u001b[32m    303\u001b[39m \n\u001b[32m   (...)\u001b[39m\u001b[32m    454\u001b[39m \u001b[33;03m      timeout: Override the client-level default timeout for this request, in seconds\u001b[39;00m\n\u001b[32m    455\u001b[39m \u001b[33;03m    \"\"\"\u001b[39;00m\n\u001b[32m--> \u001b[39m\u001b[32m456\u001b[39m     \u001b[38;5;28;01mreturn\u001b[39;00m \u001b[38;5;28;43mself\u001b[39;49m\u001b[43m.\u001b[49m\u001b[43m_post\u001b[49m\u001b[43m(\u001b[49m\n\u001b[32m    457\u001b[39m \u001b[43m        \u001b[49m\u001b[33;43m\"\u001b[39;49m\u001b[33;43m/openai/v1/chat/completions\u001b[39;49m\u001b[33;43m\"\u001b[39;49m\u001b[43m,\u001b[49m\n\u001b[32m    458\u001b[39m \u001b[43m        \u001b[49m\u001b[43mbody\u001b[49m\u001b[43m=\u001b[49m\u001b[43mmaybe_transform\u001b[49m\u001b[43m(\u001b[49m\n\u001b[32m    459\u001b[39m \u001b[43m            \u001b[49m\u001b[43m{\u001b[49m\n\u001b[32m    460\u001b[39m \u001b[43m                \u001b[49m\u001b[33;43m\"\u001b[39;49m\u001b[33;43mmessages\u001b[39;49m\u001b[33;43m\"\u001b[39;49m\u001b[43m:\u001b[49m\u001b[43m \u001b[49m\u001b[43mmessages\u001b[49m\u001b[43m,\u001b[49m\n\u001b[32m    461\u001b[39m \u001b[43m                \u001b[49m\u001b[33;43m\"\u001b[39;49m\u001b[33;43mmodel\u001b[39;49m\u001b[33;43m\"\u001b[39;49m\u001b[43m:\u001b[49m\u001b[43m \u001b[49m\u001b[43mmodel\u001b[49m\u001b[43m,\u001b[49m\n\u001b[32m    462\u001b[39m \u001b[43m                \u001b[49m\u001b[33;43m\"\u001b[39;49m\u001b[33;43mcompound_custom\u001b[39;49m\u001b[33;43m\"\u001b[39;49m\u001b[43m:\u001b[49m\u001b[43m \u001b[49m\u001b[43mcompound_custom\u001b[49m\u001b[43m,\u001b[49m\n\u001b[32m    463\u001b[39m \u001b[43m                \u001b[49m\u001b[33;43m\"\u001b[39;49m\u001b[33;43mdisable_tool_validation\u001b[39;49m\u001b[33;43m\"\u001b[39;49m\u001b[43m:\u001b[49m\u001b[43m \u001b[49m\u001b[43mdisable_tool_validation\u001b[49m\u001b[43m,\u001b[49m\n\u001b[32m    464\u001b[39m \u001b[43m                \u001b[49m\u001b[33;43m\"\u001b[39;49m\u001b[33;43mdocuments\u001b[39;49m\u001b[33;43m\"\u001b[39;49m\u001b[43m:\u001b[49m\u001b[43m \u001b[49m\u001b[43mdocuments\u001b[49m\u001b[43m,\u001b[49m\n\u001b[32m    465\u001b[39m \u001b[43m                \u001b[49m\u001b[33;43m\"\u001b[39;49m\u001b[33;43mexclude_domains\u001b[39;49m\u001b[33;43m\"\u001b[39;49m\u001b[43m:\u001b[49m\u001b[43m \u001b[49m\u001b[43mexclude_domains\u001b[49m\u001b[43m,\u001b[49m\n\u001b[32m    466\u001b[39m \u001b[43m                \u001b[49m\u001b[33;43m\"\u001b[39;49m\u001b[33;43mfrequency_penalty\u001b[39;49m\u001b[33;43m\"\u001b[39;49m\u001b[43m:\u001b[49m\u001b[43m \u001b[49m\u001b[43mfrequency_penalty\u001b[49m\u001b[43m,\u001b[49m\n\u001b[32m    467\u001b[39m \u001b[43m                \u001b[49m\u001b[33;43m\"\u001b[39;49m\u001b[33;43mfunction_call\u001b[39;49m\u001b[33;43m\"\u001b[39;49m\u001b[43m:\u001b[49m\u001b[43m \u001b[49m\u001b[43mfunction_call\u001b[49m\u001b[43m,\u001b[49m\n\u001b[32m    468\u001b[39m \u001b[43m                \u001b[49m\u001b[33;43m\"\u001b[39;49m\u001b[33;43mfunctions\u001b[39;49m\u001b[33;43m\"\u001b[39;49m\u001b[43m:\u001b[49m\u001b[43m \u001b[49m\u001b[43mfunctions\u001b[49m\u001b[43m,\u001b[49m\n\u001b[32m    469\u001b[39m \u001b[43m                \u001b[49m\u001b[33;43m\"\u001b[39;49m\u001b[33;43minclude_domains\u001b[39;49m\u001b[33;43m\"\u001b[39;49m\u001b[43m:\u001b[49m\u001b[43m \u001b[49m\u001b[43minclude_domains\u001b[49m\u001b[43m,\u001b[49m\n\u001b[32m    470\u001b[39m \u001b[43m                \u001b[49m\u001b[33;43m\"\u001b[39;49m\u001b[33;43minclude_reasoning\u001b[39;49m\u001b[33;43m\"\u001b[39;49m\u001b[43m:\u001b[49m\u001b[43m \u001b[49m\u001b[43minclude_reasoning\u001b[49m\u001b[43m,\u001b[49m\n\u001b[32m    471\u001b[39m \u001b[43m                \u001b[49m\u001b[33;43m\"\u001b[39;49m\u001b[33;43mlogit_bias\u001b[39;49m\u001b[33;43m\"\u001b[39;49m\u001b[43m:\u001b[49m\u001b[43m \u001b[49m\u001b[43mlogit_bias\u001b[49m\u001b[43m,\u001b[49m\n\u001b[32m    472\u001b[39m \u001b[43m                \u001b[49m\u001b[33;43m\"\u001b[39;49m\u001b[33;43mlogprobs\u001b[39;49m\u001b[33;43m\"\u001b[39;49m\u001b[43m:\u001b[49m\u001b[43m \u001b[49m\u001b[43mlogprobs\u001b[49m\u001b[43m,\u001b[49m\n\u001b[32m    473\u001b[39m \u001b[43m                \u001b[49m\u001b[33;43m\"\u001b[39;49m\u001b[33;43mmax_completion_tokens\u001b[39;49m\u001b[33;43m\"\u001b[39;49m\u001b[43m:\u001b[49m\u001b[43m \u001b[49m\u001b[43mmax_completion_tokens\u001b[49m\u001b[43m,\u001b[49m\n\u001b[32m    474\u001b[39m \u001b[43m                \u001b[49m\u001b[33;43m\"\u001b[39;49m\u001b[33;43mmax_tokens\u001b[39;49m\u001b[33;43m\"\u001b[39;49m\u001b[43m:\u001b[49m\u001b[43m \u001b[49m\u001b[43mmax_tokens\u001b[49m\u001b[43m,\u001b[49m\n\u001b[32m    475\u001b[39m \u001b[43m                \u001b[49m\u001b[33;43m\"\u001b[39;49m\u001b[33;43mmetadata\u001b[39;49m\u001b[33;43m\"\u001b[39;49m\u001b[43m:\u001b[49m\u001b[43m \u001b[49m\u001b[43mmetadata\u001b[49m\u001b[43m,\u001b[49m\n\u001b[32m    476\u001b[39m \u001b[43m                \u001b[49m\u001b[33;43m\"\u001b[39;49m\u001b[33;43mn\u001b[39;49m\u001b[33;43m\"\u001b[39;49m\u001b[43m:\u001b[49m\u001b[43m \u001b[49m\u001b[43mn\u001b[49m\u001b[43m,\u001b[49m\n\u001b[32m    477\u001b[39m \u001b[43m                \u001b[49m\u001b[33;43m\"\u001b[39;49m\u001b[33;43mparallel_tool_calls\u001b[39;49m\u001b[33;43m\"\u001b[39;49m\u001b[43m:\u001b[49m\u001b[43m \u001b[49m\u001b[43mparallel_tool_calls\u001b[49m\u001b[43m,\u001b[49m\n\u001b[32m    478\u001b[39m \u001b[43m                \u001b[49m\u001b[33;43m\"\u001b[39;49m\u001b[33;43mpresence_penalty\u001b[39;49m\u001b[33;43m\"\u001b[39;49m\u001b[43m:\u001b[49m\u001b[43m \u001b[49m\u001b[43mpresence_penalty\u001b[49m\u001b[43m,\u001b[49m\n\u001b[32m    479\u001b[39m \u001b[43m                \u001b[49m\u001b[33;43m\"\u001b[39;49m\u001b[33;43mreasoning_effort\u001b[39;49m\u001b[33;43m\"\u001b[39;49m\u001b[43m:\u001b[49m\u001b[43m \u001b[49m\u001b[43mreasoning_effort\u001b[49m\u001b[43m,\u001b[49m\n\u001b[32m    480\u001b[39m \u001b[43m                \u001b[49m\u001b[33;43m\"\u001b[39;49m\u001b[33;43mreasoning_format\u001b[39;49m\u001b[33;43m\"\u001b[39;49m\u001b[43m:\u001b[49m\u001b[43m \u001b[49m\u001b[43mreasoning_format\u001b[49m\u001b[43m,\u001b[49m\n\u001b[32m    481\u001b[39m \u001b[43m                \u001b[49m\u001b[33;43m\"\u001b[39;49m\u001b[33;43mresponse_format\u001b[39;49m\u001b[33;43m\"\u001b[39;49m\u001b[43m:\u001b[49m\u001b[43m \u001b[49m\u001b[43mresponse_format\u001b[49m\u001b[43m,\u001b[49m\n\u001b[32m    482\u001b[39m \u001b[43m                \u001b[49m\u001b[33;43m\"\u001b[39;49m\u001b[33;43msearch_settings\u001b[39;49m\u001b[33;43m\"\u001b[39;49m\u001b[43m:\u001b[49m\u001b[43m \u001b[49m\u001b[43msearch_settings\u001b[49m\u001b[43m,\u001b[49m\n\u001b[32m    483\u001b[39m \u001b[43m                \u001b[49m\u001b[33;43m\"\u001b[39;49m\u001b[33;43mseed\u001b[39;49m\u001b[33;43m\"\u001b[39;49m\u001b[43m:\u001b[49m\u001b[43m \u001b[49m\u001b[43mseed\u001b[49m\u001b[43m,\u001b[49m\n\u001b[32m    484\u001b[39m \u001b[43m                \u001b[49m\u001b[33;43m\"\u001b[39;49m\u001b[33;43mservice_tier\u001b[39;49m\u001b[33;43m\"\u001b[39;49m\u001b[43m:\u001b[49m\u001b[43m \u001b[49m\u001b[43mservice_tier\u001b[49m\u001b[43m,\u001b[49m\n\u001b[32m    485\u001b[39m \u001b[43m                \u001b[49m\u001b[33;43m\"\u001b[39;49m\u001b[33;43mstop\u001b[39;49m\u001b[33;43m\"\u001b[39;49m\u001b[43m:\u001b[49m\u001b[43m \u001b[49m\u001b[43mstop\u001b[49m\u001b[43m,\u001b[49m\n\u001b[32m    486\u001b[39m \u001b[43m                \u001b[49m\u001b[33;43m\"\u001b[39;49m\u001b[33;43mstore\u001b[39;49m\u001b[33;43m\"\u001b[39;49m\u001b[43m:\u001b[49m\u001b[43m \u001b[49m\u001b[43mstore\u001b[49m\u001b[43m,\u001b[49m\n\u001b[32m    487\u001b[39m \u001b[43m                \u001b[49m\u001b[33;43m\"\u001b[39;49m\u001b[33;43mstream\u001b[39;49m\u001b[33;43m\"\u001b[39;49m\u001b[43m:\u001b[49m\u001b[43m \u001b[49m\u001b[43mstream\u001b[49m\u001b[43m,\u001b[49m\n\u001b[32m    488\u001b[39m \u001b[43m                \u001b[49m\u001b[33;43m\"\u001b[39;49m\u001b[33;43mtemperature\u001b[39;49m\u001b[33;43m\"\u001b[39;49m\u001b[43m:\u001b[49m\u001b[43m \u001b[49m\u001b[43mtemperature\u001b[49m\u001b[43m,\u001b[49m\n\u001b[32m    489\u001b[39m \u001b[43m                \u001b[49m\u001b[33;43m\"\u001b[39;49m\u001b[33;43mtool_choice\u001b[39;49m\u001b[33;43m\"\u001b[39;49m\u001b[43m:\u001b[49m\u001b[43m \u001b[49m\u001b[43mtool_choice\u001b[49m\u001b[43m,\u001b[49m\n\u001b[32m    490\u001b[39m \u001b[43m                \u001b[49m\u001b[33;43m\"\u001b[39;49m\u001b[33;43mtools\u001b[39;49m\u001b[33;43m\"\u001b[39;49m\u001b[43m:\u001b[49m\u001b[43m \u001b[49m\u001b[43mtools\u001b[49m\u001b[43m,\u001b[49m\n\u001b[32m    491\u001b[39m \u001b[43m                \u001b[49m\u001b[33;43m\"\u001b[39;49m\u001b[33;43mtop_logprobs\u001b[39;49m\u001b[33;43m\"\u001b[39;49m\u001b[43m:\u001b[49m\u001b[43m \u001b[49m\u001b[43mtop_logprobs\u001b[49m\u001b[43m,\u001b[49m\n\u001b[32m    492\u001b[39m \u001b[43m                \u001b[49m\u001b[33;43m\"\u001b[39;49m\u001b[33;43mtop_p\u001b[39;49m\u001b[33;43m\"\u001b[39;49m\u001b[43m:\u001b[49m\u001b[43m \u001b[49m\u001b[43mtop_p\u001b[49m\u001b[43m,\u001b[49m\n\u001b[32m    493\u001b[39m \u001b[43m                \u001b[49m\u001b[33;43m\"\u001b[39;49m\u001b[33;43muser\u001b[39;49m\u001b[33;43m\"\u001b[39;49m\u001b[43m:\u001b[49m\u001b[43m \u001b[49m\u001b[43muser\u001b[49m\u001b[43m,\u001b[49m\n\u001b[32m    494\u001b[39m \u001b[43m            \u001b[49m\u001b[43m}\u001b[49m\u001b[43m,\u001b[49m\n\u001b[32m    495\u001b[39m \u001b[43m            \u001b[49m\u001b[43mcompletion_create_params\u001b[49m\u001b[43m.\u001b[49m\u001b[43mCompletionCreateParams\u001b[49m\u001b[43m,\u001b[49m\n\u001b[32m    496\u001b[39m \u001b[43m        \u001b[49m\u001b[43m)\u001b[49m\u001b[43m,\u001b[49m\n\u001b[32m    497\u001b[39m \u001b[43m        \u001b[49m\u001b[43moptions\u001b[49m\u001b[43m=\u001b[49m\u001b[43mmake_request_options\u001b[49m\u001b[43m(\u001b[49m\n\u001b[32m    498\u001b[39m \u001b[43m            \u001b[49m\u001b[43mextra_headers\u001b[49m\u001b[43m=\u001b[49m\u001b[43mextra_headers\u001b[49m\u001b[43m,\u001b[49m\u001b[43m \u001b[49m\u001b[43mextra_query\u001b[49m\u001b[43m=\u001b[49m\u001b[43mextra_query\u001b[49m\u001b[43m,\u001b[49m\u001b[43m \u001b[49m\u001b[43mextra_body\u001b[49m\u001b[43m=\u001b[49m\u001b[43mextra_body\u001b[49m\u001b[43m,\u001b[49m\u001b[43m \u001b[49m\u001b[43mtimeout\u001b[49m\u001b[43m=\u001b[49m\u001b[43mtimeout\u001b[49m\n\u001b[32m    499\u001b[39m \u001b[43m        \u001b[49m\u001b[43m)\u001b[49m\u001b[43m,\u001b[49m\n\u001b[32m    500\u001b[39m \u001b[43m        \u001b[49m\u001b[43mcast_to\u001b[49m\u001b[43m=\u001b[49m\u001b[43mChatCompletion\u001b[49m\u001b[43m,\u001b[49m\n\u001b[32m    501\u001b[39m \u001b[43m        \u001b[49m\u001b[43mstream\u001b[49m\u001b[43m=\u001b[49m\u001b[43mstream\u001b[49m\u001b[43m \u001b[49m\u001b[38;5;129;43;01mor\u001b[39;49;00m\u001b[43m \u001b[49m\u001b[38;5;28;43;01mFalse\u001b[39;49;00m\u001b[43m,\u001b[49m\n\u001b[32m    502\u001b[39m \u001b[43m        \u001b[49m\u001b[43mstream_cls\u001b[49m\u001b[43m=\u001b[49m\u001b[43mStream\u001b[49m\u001b[43m[\u001b[49m\u001b[43mChatCompletionChunk\u001b[49m\u001b[43m]\u001b[49m\u001b[43m,\u001b[49m\n\u001b[32m    503\u001b[39m \u001b[43m    \u001b[49m\u001b[43m)\u001b[49m\n",
      "\u001b[36mFile \u001b[39m\u001b[32m/workspaces/RAG-Implementation/.venv/lib/python3.12/site-packages/groq/_base_client.py:1242\u001b[39m, in \u001b[36mSyncAPIClient.post\u001b[39m\u001b[34m(self, path, cast_to, body, options, files, stream, stream_cls)\u001b[39m\n\u001b[32m   1228\u001b[39m \u001b[38;5;28;01mdef\u001b[39;00m\u001b[38;5;250m \u001b[39m\u001b[34mpost\u001b[39m(\n\u001b[32m   1229\u001b[39m     \u001b[38;5;28mself\u001b[39m,\n\u001b[32m   1230\u001b[39m     path: \u001b[38;5;28mstr\u001b[39m,\n\u001b[32m   (...)\u001b[39m\u001b[32m   1237\u001b[39m     stream_cls: \u001b[38;5;28mtype\u001b[39m[_StreamT] | \u001b[38;5;28;01mNone\u001b[39;00m = \u001b[38;5;28;01mNone\u001b[39;00m,\n\u001b[32m   1238\u001b[39m ) -> ResponseT | _StreamT:\n\u001b[32m   1239\u001b[39m     opts = FinalRequestOptions.construct(\n\u001b[32m   1240\u001b[39m         method=\u001b[33m\"\u001b[39m\u001b[33mpost\u001b[39m\u001b[33m\"\u001b[39m, url=path, json_data=body, files=to_httpx_files(files), **options\n\u001b[32m   1241\u001b[39m     )\n\u001b[32m-> \u001b[39m\u001b[32m1242\u001b[39m     \u001b[38;5;28;01mreturn\u001b[39;00m cast(ResponseT, \u001b[38;5;28;43mself\u001b[39;49m\u001b[43m.\u001b[49m\u001b[43mrequest\u001b[49m\u001b[43m(\u001b[49m\u001b[43mcast_to\u001b[49m\u001b[43m,\u001b[49m\u001b[43m \u001b[49m\u001b[43mopts\u001b[49m\u001b[43m,\u001b[49m\u001b[43m \u001b[49m\u001b[43mstream\u001b[49m\u001b[43m=\u001b[49m\u001b[43mstream\u001b[49m\u001b[43m,\u001b[49m\u001b[43m \u001b[49m\u001b[43mstream_cls\u001b[49m\u001b[43m=\u001b[49m\u001b[43mstream_cls\u001b[49m\u001b[43m)\u001b[49m)\n",
      "\u001b[36mFile \u001b[39m\u001b[32m/workspaces/RAG-Implementation/.venv/lib/python3.12/site-packages/groq/_base_client.py:1044\u001b[39m, in \u001b[36mSyncAPIClient.request\u001b[39m\u001b[34m(self, cast_to, options, stream, stream_cls)\u001b[39m\n\u001b[32m   1041\u001b[39m             err.response.read()\n\u001b[32m   1043\u001b[39m         log.debug(\u001b[33m\"\u001b[39m\u001b[33mRe-raising status error\u001b[39m\u001b[33m\"\u001b[39m)\n\u001b[32m-> \u001b[39m\u001b[32m1044\u001b[39m         \u001b[38;5;28;01mraise\u001b[39;00m \u001b[38;5;28mself\u001b[39m._make_status_error_from_response(err.response) \u001b[38;5;28;01mfrom\u001b[39;00m\u001b[38;5;250m \u001b[39m\u001b[38;5;28;01mNone\u001b[39;00m\n\u001b[32m   1046\u001b[39m     \u001b[38;5;28;01mbreak\u001b[39;00m\n\u001b[32m   1048\u001b[39m \u001b[38;5;28;01massert\u001b[39;00m response \u001b[38;5;129;01mis\u001b[39;00m \u001b[38;5;129;01mnot\u001b[39;00m \u001b[38;5;28;01mNone\u001b[39;00m, \u001b[33m\"\u001b[39m\u001b[33mcould not resolve response (should never happen)\u001b[39m\u001b[33m\"\u001b[39m\n",
      "\u001b[31mAuthenticationError\u001b[39m: Error code: 401 - {'error': {'message': 'Invalid API Key', 'type': 'invalid_request_error', 'code': 'invalid_api_key'}}"
     ]
    }
   ],
   "source": [
    "answer=rag_simple(\"What is Rental Agreement?\", rag_retriever, llm)\n",
    "print(answer)"
   ]
  },
  {
   "cell_type": "markdown",
   "id": "308d03ce",
   "metadata": {},
   "source": [
    "### Enhanced RAG Pipeline"
   ]
  },
  {
   "cell_type": "code",
   "execution_count": 27,
   "id": "6c580ac2",
   "metadata": {},
   "outputs": [
    {
     "name": "stdout",
     "output_type": "stream",
     "text": [
      "Retrieving documents for query: 'Explain Rental Agreement'\n",
      "Top K: 3, Score threshold: 0.1\n",
      "Generating embedding for 1 texts...\n"
     ]
    },
    {
     "name": "stderr",
     "output_type": "stream",
     "text": [
      "Batches: 100%|██████████| 1/1 [00:00<00:00, 28.69it/s]"
     ]
    },
    {
     "name": "stdout",
     "output_type": "stream",
     "text": [
      "Generated embeddings with shape: (1, 384)\n",
      "Retrieved 3 documents (after filtering)\n"
     ]
    },
    {
     "name": "stderr",
     "output_type": "stream",
     "text": [
      "\n"
     ]
    },
    {
     "ename": "AuthenticationError",
     "evalue": "Error code: 401 - {'error': {'message': 'Invalid API Key', 'type': 'invalid_request_error', 'code': 'invalid_api_key'}}",
     "output_type": "error",
     "traceback": [
      "\u001b[31m---------------------------------------------------------------------------\u001b[39m",
      "\u001b[31mAuthenticationError\u001b[39m                       Traceback (most recent call last)",
      "\u001b[36mCell\u001b[39m\u001b[36m \u001b[39m\u001b[32mIn[27]\u001b[39m\u001b[32m, line 39\u001b[39m\n\u001b[32m     36\u001b[39m     \u001b[38;5;28;01mreturn\u001b[39;00m output\n\u001b[32m     38\u001b[39m \u001b[38;5;66;03m### Example usage of advanced RAG pipeline\u001b[39;00m\n\u001b[32m---> \u001b[39m\u001b[32m39\u001b[39m result = \u001b[43mrag_advanced\u001b[49m\u001b[43m(\u001b[49m\u001b[33;43m\"\u001b[39;49m\u001b[33;43mExplain Rental Agreement\u001b[39;49m\u001b[33;43m\"\u001b[39;49m\u001b[43m,\u001b[49m\u001b[43m \u001b[49m\u001b[43mrag_retriever\u001b[49m\u001b[43m,\u001b[49m\u001b[43m \u001b[49m\u001b[43mllm\u001b[49m\u001b[43m,\u001b[49m\u001b[43m \u001b[49m\u001b[43mtop_k\u001b[49m\u001b[43m=\u001b[49m\u001b[32;43m3\u001b[39;49m\u001b[43m,\u001b[49m\u001b[43m \u001b[49m\u001b[43mmin_score\u001b[49m\u001b[43m=\u001b[49m\u001b[32;43m0.1\u001b[39;49m\u001b[43m,\u001b[49m\u001b[43m \u001b[49m\u001b[43mreturn_context\u001b[49m\u001b[43m=\u001b[49m\u001b[38;5;28;43;01mTrue\u001b[39;49;00m\u001b[43m)\u001b[49m\n\u001b[32m     40\u001b[39m \u001b[38;5;28mprint\u001b[39m(\u001b[33m\"\u001b[39m\u001b[33mAnswer:\u001b[39m\u001b[33m\"\u001b[39m, result[\u001b[33m'\u001b[39m\u001b[33manswer\u001b[39m\u001b[33m'\u001b[39m])\n\u001b[32m     41\u001b[39m \u001b[38;5;28mprint\u001b[39m(\u001b[33m\"\u001b[39m\u001b[33mConfidence:\u001b[39m\u001b[33m\"\u001b[39m, result[\u001b[33m'\u001b[39m\u001b[33mconfidence\u001b[39m\u001b[33m'\u001b[39m])\n",
      "\u001b[36mCell\u001b[39m\u001b[36m \u001b[39m\u001b[32mIn[27]\u001b[39m\u001b[32m, line 27\u001b[39m, in \u001b[36mrag_advanced\u001b[39m\u001b[34m(query, retriever, llm, top_k, min_score, return_context)\u001b[39m\n\u001b[32m     21\u001b[39m \u001b[38;5;66;03m# generate answer\u001b[39;00m\n\u001b[32m     22\u001b[39m prompt=\u001b[33mf\u001b[39m\u001b[33m\"\"\"\u001b[39m\u001b[33mYou are a helpful AI assistant. Use the following context to answer the question.\u001b[39m\n\u001b[32m     23\u001b[39m \u001b[33mContext: \u001b[39m\u001b[38;5;132;01m{\u001b[39;00mcontext\u001b[38;5;132;01m}\u001b[39;00m\n\u001b[32m     24\u001b[39m \u001b[33mQuestion: \u001b[39m\u001b[38;5;132;01m{\u001b[39;00mquery\u001b[38;5;132;01m}\u001b[39;00m\u001b[33m \u001b[39m\n\u001b[32m     25\u001b[39m \u001b[33mAnswer:\u001b[39m\u001b[33m\"\"\"\u001b[39m\n\u001b[32m---> \u001b[39m\u001b[32m27\u001b[39m response = \u001b[43mllm\u001b[49m\u001b[43m.\u001b[49m\u001b[43minvoke\u001b[49m\u001b[43m(\u001b[49m\u001b[43mprompt\u001b[49m\u001b[43m.\u001b[49m\u001b[43mformat\u001b[49m\u001b[43m(\u001b[49m\u001b[43mcontext\u001b[49m\u001b[43m=\u001b[49m\u001b[43mcontext\u001b[49m\u001b[43m,\u001b[49m\u001b[43m \u001b[49m\u001b[43mquery\u001b[49m\u001b[43m=\u001b[49m\u001b[43mquery\u001b[49m\u001b[43m)\u001b[49m\u001b[43m)\u001b[49m\n\u001b[32m     29\u001b[39m output={\n\u001b[32m     30\u001b[39m     \u001b[33m'\u001b[39m\u001b[33manswer\u001b[39m\u001b[33m'\u001b[39m: response.content,\n\u001b[32m     31\u001b[39m     \u001b[33m'\u001b[39m\u001b[33msources\u001b[39m\u001b[33m'\u001b[39m: sources,\n\u001b[32m     32\u001b[39m     \u001b[33m'\u001b[39m\u001b[33mconfidence\u001b[39m\u001b[33m'\u001b[39m: confidence\n\u001b[32m     33\u001b[39m }\n\u001b[32m     34\u001b[39m \u001b[38;5;28;01mif\u001b[39;00m return_context:\n",
      "\u001b[36mFile \u001b[39m\u001b[32m/workspaces/RAG-Implementation/.venv/lib/python3.12/site-packages/langchain_core/language_models/chat_models.py:395\u001b[39m, in \u001b[36mBaseChatModel.invoke\u001b[39m\u001b[34m(self, input, config, stop, **kwargs)\u001b[39m\n\u001b[32m    383\u001b[39m \u001b[38;5;129m@override\u001b[39m\n\u001b[32m    384\u001b[39m \u001b[38;5;28;01mdef\u001b[39;00m\u001b[38;5;250m \u001b[39m\u001b[34minvoke\u001b[39m(\n\u001b[32m    385\u001b[39m     \u001b[38;5;28mself\u001b[39m,\n\u001b[32m   (...)\u001b[39m\u001b[32m    390\u001b[39m     **kwargs: Any,\n\u001b[32m    391\u001b[39m ) -> BaseMessage:\n\u001b[32m    392\u001b[39m     config = ensure_config(config)\n\u001b[32m    393\u001b[39m     \u001b[38;5;28;01mreturn\u001b[39;00m cast(\n\u001b[32m    394\u001b[39m         \u001b[33m\"\u001b[39m\u001b[33mChatGeneration\u001b[39m\u001b[33m\"\u001b[39m,\n\u001b[32m--> \u001b[39m\u001b[32m395\u001b[39m         \u001b[38;5;28;43mself\u001b[39;49m\u001b[43m.\u001b[49m\u001b[43mgenerate_prompt\u001b[49m\u001b[43m(\u001b[49m\n\u001b[32m    396\u001b[39m \u001b[43m            \u001b[49m\u001b[43m[\u001b[49m\u001b[38;5;28;43mself\u001b[39;49m\u001b[43m.\u001b[49m\u001b[43m_convert_input\u001b[49m\u001b[43m(\u001b[49m\u001b[38;5;28;43minput\u001b[39;49m\u001b[43m)\u001b[49m\u001b[43m]\u001b[49m\u001b[43m,\u001b[49m\n\u001b[32m    397\u001b[39m \u001b[43m            \u001b[49m\u001b[43mstop\u001b[49m\u001b[43m=\u001b[49m\u001b[43mstop\u001b[49m\u001b[43m,\u001b[49m\n\u001b[32m    398\u001b[39m \u001b[43m            \u001b[49m\u001b[43mcallbacks\u001b[49m\u001b[43m=\u001b[49m\u001b[43mconfig\u001b[49m\u001b[43m.\u001b[49m\u001b[43mget\u001b[49m\u001b[43m(\u001b[49m\u001b[33;43m\"\u001b[39;49m\u001b[33;43mcallbacks\u001b[39;49m\u001b[33;43m\"\u001b[39;49m\u001b[43m)\u001b[49m\u001b[43m,\u001b[49m\n\u001b[32m    399\u001b[39m \u001b[43m            \u001b[49m\u001b[43mtags\u001b[49m\u001b[43m=\u001b[49m\u001b[43mconfig\u001b[49m\u001b[43m.\u001b[49m\u001b[43mget\u001b[49m\u001b[43m(\u001b[49m\u001b[33;43m\"\u001b[39;49m\u001b[33;43mtags\u001b[39;49m\u001b[33;43m\"\u001b[39;49m\u001b[43m)\u001b[49m\u001b[43m,\u001b[49m\n\u001b[32m    400\u001b[39m \u001b[43m            \u001b[49m\u001b[43mmetadata\u001b[49m\u001b[43m=\u001b[49m\u001b[43mconfig\u001b[49m\u001b[43m.\u001b[49m\u001b[43mget\u001b[49m\u001b[43m(\u001b[49m\u001b[33;43m\"\u001b[39;49m\u001b[33;43mmetadata\u001b[39;49m\u001b[33;43m\"\u001b[39;49m\u001b[43m)\u001b[49m\u001b[43m,\u001b[49m\n\u001b[32m    401\u001b[39m \u001b[43m            \u001b[49m\u001b[43mrun_name\u001b[49m\u001b[43m=\u001b[49m\u001b[43mconfig\u001b[49m\u001b[43m.\u001b[49m\u001b[43mget\u001b[49m\u001b[43m(\u001b[49m\u001b[33;43m\"\u001b[39;49m\u001b[33;43mrun_name\u001b[39;49m\u001b[33;43m\"\u001b[39;49m\u001b[43m)\u001b[49m\u001b[43m,\u001b[49m\n\u001b[32m    402\u001b[39m \u001b[43m            \u001b[49m\u001b[43mrun_id\u001b[49m\u001b[43m=\u001b[49m\u001b[43mconfig\u001b[49m\u001b[43m.\u001b[49m\u001b[43mpop\u001b[49m\u001b[43m(\u001b[49m\u001b[33;43m\"\u001b[39;49m\u001b[33;43mrun_id\u001b[39;49m\u001b[33;43m\"\u001b[39;49m\u001b[43m,\u001b[49m\u001b[43m \u001b[49m\u001b[38;5;28;43;01mNone\u001b[39;49;00m\u001b[43m)\u001b[49m\u001b[43m,\u001b[49m\n\u001b[32m    403\u001b[39m \u001b[43m            \u001b[49m\u001b[43m*\u001b[49m\u001b[43m*\u001b[49m\u001b[43mkwargs\u001b[49m\u001b[43m,\u001b[49m\n\u001b[32m    404\u001b[39m \u001b[43m        \u001b[49m\u001b[43m)\u001b[49m.generations[\u001b[32m0\u001b[39m][\u001b[32m0\u001b[39m],\n\u001b[32m    405\u001b[39m     ).message\n",
      "\u001b[36mFile \u001b[39m\u001b[32m/workspaces/RAG-Implementation/.venv/lib/python3.12/site-packages/langchain_core/language_models/chat_models.py:1023\u001b[39m, in \u001b[36mBaseChatModel.generate_prompt\u001b[39m\u001b[34m(self, prompts, stop, callbacks, **kwargs)\u001b[39m\n\u001b[32m   1014\u001b[39m \u001b[38;5;129m@override\u001b[39m\n\u001b[32m   1015\u001b[39m \u001b[38;5;28;01mdef\u001b[39;00m\u001b[38;5;250m \u001b[39m\u001b[34mgenerate_prompt\u001b[39m(\n\u001b[32m   1016\u001b[39m     \u001b[38;5;28mself\u001b[39m,\n\u001b[32m   (...)\u001b[39m\u001b[32m   1020\u001b[39m     **kwargs: Any,\n\u001b[32m   1021\u001b[39m ) -> LLMResult:\n\u001b[32m   1022\u001b[39m     prompt_messages = [p.to_messages() \u001b[38;5;28;01mfor\u001b[39;00m p \u001b[38;5;129;01min\u001b[39;00m prompts]\n\u001b[32m-> \u001b[39m\u001b[32m1023\u001b[39m     \u001b[38;5;28;01mreturn\u001b[39;00m \u001b[38;5;28;43mself\u001b[39;49m\u001b[43m.\u001b[49m\u001b[43mgenerate\u001b[49m\u001b[43m(\u001b[49m\u001b[43mprompt_messages\u001b[49m\u001b[43m,\u001b[49m\u001b[43m \u001b[49m\u001b[43mstop\u001b[49m\u001b[43m=\u001b[49m\u001b[43mstop\u001b[49m\u001b[43m,\u001b[49m\u001b[43m \u001b[49m\u001b[43mcallbacks\u001b[49m\u001b[43m=\u001b[49m\u001b[43mcallbacks\u001b[49m\u001b[43m,\u001b[49m\u001b[43m \u001b[49m\u001b[43m*\u001b[49m\u001b[43m*\u001b[49m\u001b[43mkwargs\u001b[49m\u001b[43m)\u001b[49m\n",
      "\u001b[36mFile \u001b[39m\u001b[32m/workspaces/RAG-Implementation/.venv/lib/python3.12/site-packages/langchain_core/language_models/chat_models.py:840\u001b[39m, in \u001b[36mBaseChatModel.generate\u001b[39m\u001b[34m(self, messages, stop, callbacks, tags, metadata, run_name, run_id, **kwargs)\u001b[39m\n\u001b[32m    837\u001b[39m \u001b[38;5;28;01mfor\u001b[39;00m i, m \u001b[38;5;129;01min\u001b[39;00m \u001b[38;5;28menumerate\u001b[39m(input_messages):\n\u001b[32m    838\u001b[39m     \u001b[38;5;28;01mtry\u001b[39;00m:\n\u001b[32m    839\u001b[39m         results.append(\n\u001b[32m--> \u001b[39m\u001b[32m840\u001b[39m             \u001b[38;5;28;43mself\u001b[39;49m\u001b[43m.\u001b[49m\u001b[43m_generate_with_cache\u001b[49m\u001b[43m(\u001b[49m\n\u001b[32m    841\u001b[39m \u001b[43m                \u001b[49m\u001b[43mm\u001b[49m\u001b[43m,\u001b[49m\n\u001b[32m    842\u001b[39m \u001b[43m                \u001b[49m\u001b[43mstop\u001b[49m\u001b[43m=\u001b[49m\u001b[43mstop\u001b[49m\u001b[43m,\u001b[49m\n\u001b[32m    843\u001b[39m \u001b[43m                \u001b[49m\u001b[43mrun_manager\u001b[49m\u001b[43m=\u001b[49m\u001b[43mrun_managers\u001b[49m\u001b[43m[\u001b[49m\u001b[43mi\u001b[49m\u001b[43m]\u001b[49m\u001b[43m \u001b[49m\u001b[38;5;28;43;01mif\u001b[39;49;00m\u001b[43m \u001b[49m\u001b[43mrun_managers\u001b[49m\u001b[43m \u001b[49m\u001b[38;5;28;43;01melse\u001b[39;49;00m\u001b[43m \u001b[49m\u001b[38;5;28;43;01mNone\u001b[39;49;00m\u001b[43m,\u001b[49m\n\u001b[32m    844\u001b[39m \u001b[43m                \u001b[49m\u001b[43m*\u001b[49m\u001b[43m*\u001b[49m\u001b[43mkwargs\u001b[49m\u001b[43m,\u001b[49m\n\u001b[32m    845\u001b[39m \u001b[43m            \u001b[49m\u001b[43m)\u001b[49m\n\u001b[32m    846\u001b[39m         )\n\u001b[32m    847\u001b[39m     \u001b[38;5;28;01mexcept\u001b[39;00m \u001b[38;5;167;01mBaseException\u001b[39;00m \u001b[38;5;28;01mas\u001b[39;00m e:\n\u001b[32m    848\u001b[39m         \u001b[38;5;28;01mif\u001b[39;00m run_managers:\n",
      "\u001b[36mFile \u001b[39m\u001b[32m/workspaces/RAG-Implementation/.venv/lib/python3.12/site-packages/langchain_core/language_models/chat_models.py:1089\u001b[39m, in \u001b[36mBaseChatModel._generate_with_cache\u001b[39m\u001b[34m(self, messages, stop, run_manager, **kwargs)\u001b[39m\n\u001b[32m   1087\u001b[39m     result = generate_from_stream(\u001b[38;5;28miter\u001b[39m(chunks))\n\u001b[32m   1088\u001b[39m \u001b[38;5;28;01melif\u001b[39;00m inspect.signature(\u001b[38;5;28mself\u001b[39m._generate).parameters.get(\u001b[33m\"\u001b[39m\u001b[33mrun_manager\u001b[39m\u001b[33m\"\u001b[39m):\n\u001b[32m-> \u001b[39m\u001b[32m1089\u001b[39m     result = \u001b[38;5;28;43mself\u001b[39;49m\u001b[43m.\u001b[49m\u001b[43m_generate\u001b[49m\u001b[43m(\u001b[49m\n\u001b[32m   1090\u001b[39m \u001b[43m        \u001b[49m\u001b[43mmessages\u001b[49m\u001b[43m,\u001b[49m\u001b[43m \u001b[49m\u001b[43mstop\u001b[49m\u001b[43m=\u001b[49m\u001b[43mstop\u001b[49m\u001b[43m,\u001b[49m\u001b[43m \u001b[49m\u001b[43mrun_manager\u001b[49m\u001b[43m=\u001b[49m\u001b[43mrun_manager\u001b[49m\u001b[43m,\u001b[49m\u001b[43m \u001b[49m\u001b[43m*\u001b[49m\u001b[43m*\u001b[49m\u001b[43mkwargs\u001b[49m\n\u001b[32m   1091\u001b[39m \u001b[43m    \u001b[49m\u001b[43m)\u001b[49m\n\u001b[32m   1092\u001b[39m \u001b[38;5;28;01melse\u001b[39;00m:\n\u001b[32m   1093\u001b[39m     result = \u001b[38;5;28mself\u001b[39m._generate(messages, stop=stop, **kwargs)\n",
      "\u001b[36mFile \u001b[39m\u001b[32m/workspaces/RAG-Implementation/.venv/lib/python3.12/site-packages/langchain_groq/chat_models.py:533\u001b[39m, in \u001b[36mChatGroq._generate\u001b[39m\u001b[34m(self, messages, stop, run_manager, **kwargs)\u001b[39m\n\u001b[32m    528\u001b[39m message_dicts, params = \u001b[38;5;28mself\u001b[39m._create_message_dicts(messages, stop)\n\u001b[32m    529\u001b[39m params = {\n\u001b[32m    530\u001b[39m     **params,\n\u001b[32m    531\u001b[39m     **kwargs,\n\u001b[32m    532\u001b[39m }\n\u001b[32m--> \u001b[39m\u001b[32m533\u001b[39m response = \u001b[38;5;28;43mself\u001b[39;49m\u001b[43m.\u001b[49m\u001b[43mclient\u001b[49m\u001b[43m.\u001b[49m\u001b[43mcreate\u001b[49m\u001b[43m(\u001b[49m\u001b[43mmessages\u001b[49m\u001b[43m=\u001b[49m\u001b[43mmessage_dicts\u001b[49m\u001b[43m,\u001b[49m\u001b[43m \u001b[49m\u001b[43m*\u001b[49m\u001b[43m*\u001b[49m\u001b[43mparams\u001b[49m\u001b[43m)\u001b[49m\n\u001b[32m    534\u001b[39m \u001b[38;5;28;01mreturn\u001b[39;00m \u001b[38;5;28mself\u001b[39m._create_chat_result(response, params)\n",
      "\u001b[36mFile \u001b[39m\u001b[32m/workspaces/RAG-Implementation/.venv/lib/python3.12/site-packages/groq/resources/chat/completions.py:456\u001b[39m, in \u001b[36mCompletions.create\u001b[39m\u001b[34m(self, messages, model, compound_custom, disable_tool_validation, documents, exclude_domains, frequency_penalty, function_call, functions, include_domains, include_reasoning, logit_bias, logprobs, max_completion_tokens, max_tokens, metadata, n, parallel_tool_calls, presence_penalty, reasoning_effort, reasoning_format, response_format, search_settings, seed, service_tier, stop, store, stream, temperature, tool_choice, tools, top_logprobs, top_p, user, extra_headers, extra_query, extra_body, timeout)\u001b[39m\n\u001b[32m    241\u001b[39m \u001b[38;5;28;01mdef\u001b[39;00m\u001b[38;5;250m \u001b[39m\u001b[34mcreate\u001b[39m(\n\u001b[32m    242\u001b[39m     \u001b[38;5;28mself\u001b[39m,\n\u001b[32m    243\u001b[39m     *,\n\u001b[32m   (...)\u001b[39m\u001b[32m    299\u001b[39m     timeout: \u001b[38;5;28mfloat\u001b[39m | httpx.Timeout | \u001b[38;5;28;01mNone\u001b[39;00m | NotGiven = not_given,\n\u001b[32m    300\u001b[39m ) -> ChatCompletion | Stream[ChatCompletionChunk]:\n\u001b[32m    301\u001b[39m \u001b[38;5;250m    \u001b[39m\u001b[33;03m\"\"\"\u001b[39;00m\n\u001b[32m    302\u001b[39m \u001b[33;03m    Creates a model response for the given chat conversation.\u001b[39;00m\n\u001b[32m    303\u001b[39m \n\u001b[32m   (...)\u001b[39m\u001b[32m    454\u001b[39m \u001b[33;03m      timeout: Override the client-level default timeout for this request, in seconds\u001b[39;00m\n\u001b[32m    455\u001b[39m \u001b[33;03m    \"\"\"\u001b[39;00m\n\u001b[32m--> \u001b[39m\u001b[32m456\u001b[39m     \u001b[38;5;28;01mreturn\u001b[39;00m \u001b[38;5;28;43mself\u001b[39;49m\u001b[43m.\u001b[49m\u001b[43m_post\u001b[49m\u001b[43m(\u001b[49m\n\u001b[32m    457\u001b[39m \u001b[43m        \u001b[49m\u001b[33;43m\"\u001b[39;49m\u001b[33;43m/openai/v1/chat/completions\u001b[39;49m\u001b[33;43m\"\u001b[39;49m\u001b[43m,\u001b[49m\n\u001b[32m    458\u001b[39m \u001b[43m        \u001b[49m\u001b[43mbody\u001b[49m\u001b[43m=\u001b[49m\u001b[43mmaybe_transform\u001b[49m\u001b[43m(\u001b[49m\n\u001b[32m    459\u001b[39m \u001b[43m            \u001b[49m\u001b[43m{\u001b[49m\n\u001b[32m    460\u001b[39m \u001b[43m                \u001b[49m\u001b[33;43m\"\u001b[39;49m\u001b[33;43mmessages\u001b[39;49m\u001b[33;43m\"\u001b[39;49m\u001b[43m:\u001b[49m\u001b[43m \u001b[49m\u001b[43mmessages\u001b[49m\u001b[43m,\u001b[49m\n\u001b[32m    461\u001b[39m \u001b[43m                \u001b[49m\u001b[33;43m\"\u001b[39;49m\u001b[33;43mmodel\u001b[39;49m\u001b[33;43m\"\u001b[39;49m\u001b[43m:\u001b[49m\u001b[43m \u001b[49m\u001b[43mmodel\u001b[49m\u001b[43m,\u001b[49m\n\u001b[32m    462\u001b[39m \u001b[43m                \u001b[49m\u001b[33;43m\"\u001b[39;49m\u001b[33;43mcompound_custom\u001b[39;49m\u001b[33;43m\"\u001b[39;49m\u001b[43m:\u001b[49m\u001b[43m \u001b[49m\u001b[43mcompound_custom\u001b[49m\u001b[43m,\u001b[49m\n\u001b[32m    463\u001b[39m \u001b[43m                \u001b[49m\u001b[33;43m\"\u001b[39;49m\u001b[33;43mdisable_tool_validation\u001b[39;49m\u001b[33;43m\"\u001b[39;49m\u001b[43m:\u001b[49m\u001b[43m \u001b[49m\u001b[43mdisable_tool_validation\u001b[49m\u001b[43m,\u001b[49m\n\u001b[32m    464\u001b[39m \u001b[43m                \u001b[49m\u001b[33;43m\"\u001b[39;49m\u001b[33;43mdocuments\u001b[39;49m\u001b[33;43m\"\u001b[39;49m\u001b[43m:\u001b[49m\u001b[43m \u001b[49m\u001b[43mdocuments\u001b[49m\u001b[43m,\u001b[49m\n\u001b[32m    465\u001b[39m \u001b[43m                \u001b[49m\u001b[33;43m\"\u001b[39;49m\u001b[33;43mexclude_domains\u001b[39;49m\u001b[33;43m\"\u001b[39;49m\u001b[43m:\u001b[49m\u001b[43m \u001b[49m\u001b[43mexclude_domains\u001b[49m\u001b[43m,\u001b[49m\n\u001b[32m    466\u001b[39m \u001b[43m                \u001b[49m\u001b[33;43m\"\u001b[39;49m\u001b[33;43mfrequency_penalty\u001b[39;49m\u001b[33;43m\"\u001b[39;49m\u001b[43m:\u001b[49m\u001b[43m \u001b[49m\u001b[43mfrequency_penalty\u001b[49m\u001b[43m,\u001b[49m\n\u001b[32m    467\u001b[39m \u001b[43m                \u001b[49m\u001b[33;43m\"\u001b[39;49m\u001b[33;43mfunction_call\u001b[39;49m\u001b[33;43m\"\u001b[39;49m\u001b[43m:\u001b[49m\u001b[43m \u001b[49m\u001b[43mfunction_call\u001b[49m\u001b[43m,\u001b[49m\n\u001b[32m    468\u001b[39m \u001b[43m                \u001b[49m\u001b[33;43m\"\u001b[39;49m\u001b[33;43mfunctions\u001b[39;49m\u001b[33;43m\"\u001b[39;49m\u001b[43m:\u001b[49m\u001b[43m \u001b[49m\u001b[43mfunctions\u001b[49m\u001b[43m,\u001b[49m\n\u001b[32m    469\u001b[39m \u001b[43m                \u001b[49m\u001b[33;43m\"\u001b[39;49m\u001b[33;43minclude_domains\u001b[39;49m\u001b[33;43m\"\u001b[39;49m\u001b[43m:\u001b[49m\u001b[43m \u001b[49m\u001b[43minclude_domains\u001b[49m\u001b[43m,\u001b[49m\n\u001b[32m    470\u001b[39m \u001b[43m                \u001b[49m\u001b[33;43m\"\u001b[39;49m\u001b[33;43minclude_reasoning\u001b[39;49m\u001b[33;43m\"\u001b[39;49m\u001b[43m:\u001b[49m\u001b[43m \u001b[49m\u001b[43minclude_reasoning\u001b[49m\u001b[43m,\u001b[49m\n\u001b[32m    471\u001b[39m \u001b[43m                \u001b[49m\u001b[33;43m\"\u001b[39;49m\u001b[33;43mlogit_bias\u001b[39;49m\u001b[33;43m\"\u001b[39;49m\u001b[43m:\u001b[49m\u001b[43m \u001b[49m\u001b[43mlogit_bias\u001b[49m\u001b[43m,\u001b[49m\n\u001b[32m    472\u001b[39m \u001b[43m                \u001b[49m\u001b[33;43m\"\u001b[39;49m\u001b[33;43mlogprobs\u001b[39;49m\u001b[33;43m\"\u001b[39;49m\u001b[43m:\u001b[49m\u001b[43m \u001b[49m\u001b[43mlogprobs\u001b[49m\u001b[43m,\u001b[49m\n\u001b[32m    473\u001b[39m \u001b[43m                \u001b[49m\u001b[33;43m\"\u001b[39;49m\u001b[33;43mmax_completion_tokens\u001b[39;49m\u001b[33;43m\"\u001b[39;49m\u001b[43m:\u001b[49m\u001b[43m \u001b[49m\u001b[43mmax_completion_tokens\u001b[49m\u001b[43m,\u001b[49m\n\u001b[32m    474\u001b[39m \u001b[43m                \u001b[49m\u001b[33;43m\"\u001b[39;49m\u001b[33;43mmax_tokens\u001b[39;49m\u001b[33;43m\"\u001b[39;49m\u001b[43m:\u001b[49m\u001b[43m \u001b[49m\u001b[43mmax_tokens\u001b[49m\u001b[43m,\u001b[49m\n\u001b[32m    475\u001b[39m \u001b[43m                \u001b[49m\u001b[33;43m\"\u001b[39;49m\u001b[33;43mmetadata\u001b[39;49m\u001b[33;43m\"\u001b[39;49m\u001b[43m:\u001b[49m\u001b[43m \u001b[49m\u001b[43mmetadata\u001b[49m\u001b[43m,\u001b[49m\n\u001b[32m    476\u001b[39m \u001b[43m                \u001b[49m\u001b[33;43m\"\u001b[39;49m\u001b[33;43mn\u001b[39;49m\u001b[33;43m\"\u001b[39;49m\u001b[43m:\u001b[49m\u001b[43m \u001b[49m\u001b[43mn\u001b[49m\u001b[43m,\u001b[49m\n\u001b[32m    477\u001b[39m \u001b[43m                \u001b[49m\u001b[33;43m\"\u001b[39;49m\u001b[33;43mparallel_tool_calls\u001b[39;49m\u001b[33;43m\"\u001b[39;49m\u001b[43m:\u001b[49m\u001b[43m \u001b[49m\u001b[43mparallel_tool_calls\u001b[49m\u001b[43m,\u001b[49m\n\u001b[32m    478\u001b[39m \u001b[43m                \u001b[49m\u001b[33;43m\"\u001b[39;49m\u001b[33;43mpresence_penalty\u001b[39;49m\u001b[33;43m\"\u001b[39;49m\u001b[43m:\u001b[49m\u001b[43m \u001b[49m\u001b[43mpresence_penalty\u001b[49m\u001b[43m,\u001b[49m\n\u001b[32m    479\u001b[39m \u001b[43m                \u001b[49m\u001b[33;43m\"\u001b[39;49m\u001b[33;43mreasoning_effort\u001b[39;49m\u001b[33;43m\"\u001b[39;49m\u001b[43m:\u001b[49m\u001b[43m \u001b[49m\u001b[43mreasoning_effort\u001b[49m\u001b[43m,\u001b[49m\n\u001b[32m    480\u001b[39m \u001b[43m                \u001b[49m\u001b[33;43m\"\u001b[39;49m\u001b[33;43mreasoning_format\u001b[39;49m\u001b[33;43m\"\u001b[39;49m\u001b[43m:\u001b[49m\u001b[43m \u001b[49m\u001b[43mreasoning_format\u001b[49m\u001b[43m,\u001b[49m\n\u001b[32m    481\u001b[39m \u001b[43m                \u001b[49m\u001b[33;43m\"\u001b[39;49m\u001b[33;43mresponse_format\u001b[39;49m\u001b[33;43m\"\u001b[39;49m\u001b[43m:\u001b[49m\u001b[43m \u001b[49m\u001b[43mresponse_format\u001b[49m\u001b[43m,\u001b[49m\n\u001b[32m    482\u001b[39m \u001b[43m                \u001b[49m\u001b[33;43m\"\u001b[39;49m\u001b[33;43msearch_settings\u001b[39;49m\u001b[33;43m\"\u001b[39;49m\u001b[43m:\u001b[49m\u001b[43m \u001b[49m\u001b[43msearch_settings\u001b[49m\u001b[43m,\u001b[49m\n\u001b[32m    483\u001b[39m \u001b[43m                \u001b[49m\u001b[33;43m\"\u001b[39;49m\u001b[33;43mseed\u001b[39;49m\u001b[33;43m\"\u001b[39;49m\u001b[43m:\u001b[49m\u001b[43m \u001b[49m\u001b[43mseed\u001b[49m\u001b[43m,\u001b[49m\n\u001b[32m    484\u001b[39m \u001b[43m                \u001b[49m\u001b[33;43m\"\u001b[39;49m\u001b[33;43mservice_tier\u001b[39;49m\u001b[33;43m\"\u001b[39;49m\u001b[43m:\u001b[49m\u001b[43m \u001b[49m\u001b[43mservice_tier\u001b[49m\u001b[43m,\u001b[49m\n\u001b[32m    485\u001b[39m \u001b[43m                \u001b[49m\u001b[33;43m\"\u001b[39;49m\u001b[33;43mstop\u001b[39;49m\u001b[33;43m\"\u001b[39;49m\u001b[43m:\u001b[49m\u001b[43m \u001b[49m\u001b[43mstop\u001b[49m\u001b[43m,\u001b[49m\n\u001b[32m    486\u001b[39m \u001b[43m                \u001b[49m\u001b[33;43m\"\u001b[39;49m\u001b[33;43mstore\u001b[39;49m\u001b[33;43m\"\u001b[39;49m\u001b[43m:\u001b[49m\u001b[43m \u001b[49m\u001b[43mstore\u001b[49m\u001b[43m,\u001b[49m\n\u001b[32m    487\u001b[39m \u001b[43m                \u001b[49m\u001b[33;43m\"\u001b[39;49m\u001b[33;43mstream\u001b[39;49m\u001b[33;43m\"\u001b[39;49m\u001b[43m:\u001b[49m\u001b[43m \u001b[49m\u001b[43mstream\u001b[49m\u001b[43m,\u001b[49m\n\u001b[32m    488\u001b[39m \u001b[43m                \u001b[49m\u001b[33;43m\"\u001b[39;49m\u001b[33;43mtemperature\u001b[39;49m\u001b[33;43m\"\u001b[39;49m\u001b[43m:\u001b[49m\u001b[43m \u001b[49m\u001b[43mtemperature\u001b[49m\u001b[43m,\u001b[49m\n\u001b[32m    489\u001b[39m \u001b[43m                \u001b[49m\u001b[33;43m\"\u001b[39;49m\u001b[33;43mtool_choice\u001b[39;49m\u001b[33;43m\"\u001b[39;49m\u001b[43m:\u001b[49m\u001b[43m \u001b[49m\u001b[43mtool_choice\u001b[49m\u001b[43m,\u001b[49m\n\u001b[32m    490\u001b[39m \u001b[43m                \u001b[49m\u001b[33;43m\"\u001b[39;49m\u001b[33;43mtools\u001b[39;49m\u001b[33;43m\"\u001b[39;49m\u001b[43m:\u001b[49m\u001b[43m \u001b[49m\u001b[43mtools\u001b[49m\u001b[43m,\u001b[49m\n\u001b[32m    491\u001b[39m \u001b[43m                \u001b[49m\u001b[33;43m\"\u001b[39;49m\u001b[33;43mtop_logprobs\u001b[39;49m\u001b[33;43m\"\u001b[39;49m\u001b[43m:\u001b[49m\u001b[43m \u001b[49m\u001b[43mtop_logprobs\u001b[49m\u001b[43m,\u001b[49m\n\u001b[32m    492\u001b[39m \u001b[43m                \u001b[49m\u001b[33;43m\"\u001b[39;49m\u001b[33;43mtop_p\u001b[39;49m\u001b[33;43m\"\u001b[39;49m\u001b[43m:\u001b[49m\u001b[43m \u001b[49m\u001b[43mtop_p\u001b[49m\u001b[43m,\u001b[49m\n\u001b[32m    493\u001b[39m \u001b[43m                \u001b[49m\u001b[33;43m\"\u001b[39;49m\u001b[33;43muser\u001b[39;49m\u001b[33;43m\"\u001b[39;49m\u001b[43m:\u001b[49m\u001b[43m \u001b[49m\u001b[43muser\u001b[49m\u001b[43m,\u001b[49m\n\u001b[32m    494\u001b[39m \u001b[43m            \u001b[49m\u001b[43m}\u001b[49m\u001b[43m,\u001b[49m\n\u001b[32m    495\u001b[39m \u001b[43m            \u001b[49m\u001b[43mcompletion_create_params\u001b[49m\u001b[43m.\u001b[49m\u001b[43mCompletionCreateParams\u001b[49m\u001b[43m,\u001b[49m\n\u001b[32m    496\u001b[39m \u001b[43m        \u001b[49m\u001b[43m)\u001b[49m\u001b[43m,\u001b[49m\n\u001b[32m    497\u001b[39m \u001b[43m        \u001b[49m\u001b[43moptions\u001b[49m\u001b[43m=\u001b[49m\u001b[43mmake_request_options\u001b[49m\u001b[43m(\u001b[49m\n\u001b[32m    498\u001b[39m \u001b[43m            \u001b[49m\u001b[43mextra_headers\u001b[49m\u001b[43m=\u001b[49m\u001b[43mextra_headers\u001b[49m\u001b[43m,\u001b[49m\u001b[43m \u001b[49m\u001b[43mextra_query\u001b[49m\u001b[43m=\u001b[49m\u001b[43mextra_query\u001b[49m\u001b[43m,\u001b[49m\u001b[43m \u001b[49m\u001b[43mextra_body\u001b[49m\u001b[43m=\u001b[49m\u001b[43mextra_body\u001b[49m\u001b[43m,\u001b[49m\u001b[43m \u001b[49m\u001b[43mtimeout\u001b[49m\u001b[43m=\u001b[49m\u001b[43mtimeout\u001b[49m\n\u001b[32m    499\u001b[39m \u001b[43m        \u001b[49m\u001b[43m)\u001b[49m\u001b[43m,\u001b[49m\n\u001b[32m    500\u001b[39m \u001b[43m        \u001b[49m\u001b[43mcast_to\u001b[49m\u001b[43m=\u001b[49m\u001b[43mChatCompletion\u001b[49m\u001b[43m,\u001b[49m\n\u001b[32m    501\u001b[39m \u001b[43m        \u001b[49m\u001b[43mstream\u001b[49m\u001b[43m=\u001b[49m\u001b[43mstream\u001b[49m\u001b[43m \u001b[49m\u001b[38;5;129;43;01mor\u001b[39;49;00m\u001b[43m \u001b[49m\u001b[38;5;28;43;01mFalse\u001b[39;49;00m\u001b[43m,\u001b[49m\n\u001b[32m    502\u001b[39m \u001b[43m        \u001b[49m\u001b[43mstream_cls\u001b[49m\u001b[43m=\u001b[49m\u001b[43mStream\u001b[49m\u001b[43m[\u001b[49m\u001b[43mChatCompletionChunk\u001b[49m\u001b[43m]\u001b[49m\u001b[43m,\u001b[49m\n\u001b[32m    503\u001b[39m \u001b[43m    \u001b[49m\u001b[43m)\u001b[49m\n",
      "\u001b[36mFile \u001b[39m\u001b[32m/workspaces/RAG-Implementation/.venv/lib/python3.12/site-packages/groq/_base_client.py:1242\u001b[39m, in \u001b[36mSyncAPIClient.post\u001b[39m\u001b[34m(self, path, cast_to, body, options, files, stream, stream_cls)\u001b[39m\n\u001b[32m   1228\u001b[39m \u001b[38;5;28;01mdef\u001b[39;00m\u001b[38;5;250m \u001b[39m\u001b[34mpost\u001b[39m(\n\u001b[32m   1229\u001b[39m     \u001b[38;5;28mself\u001b[39m,\n\u001b[32m   1230\u001b[39m     path: \u001b[38;5;28mstr\u001b[39m,\n\u001b[32m   (...)\u001b[39m\u001b[32m   1237\u001b[39m     stream_cls: \u001b[38;5;28mtype\u001b[39m[_StreamT] | \u001b[38;5;28;01mNone\u001b[39;00m = \u001b[38;5;28;01mNone\u001b[39;00m,\n\u001b[32m   1238\u001b[39m ) -> ResponseT | _StreamT:\n\u001b[32m   1239\u001b[39m     opts = FinalRequestOptions.construct(\n\u001b[32m   1240\u001b[39m         method=\u001b[33m\"\u001b[39m\u001b[33mpost\u001b[39m\u001b[33m\"\u001b[39m, url=path, json_data=body, files=to_httpx_files(files), **options\n\u001b[32m   1241\u001b[39m     )\n\u001b[32m-> \u001b[39m\u001b[32m1242\u001b[39m     \u001b[38;5;28;01mreturn\u001b[39;00m cast(ResponseT, \u001b[38;5;28;43mself\u001b[39;49m\u001b[43m.\u001b[49m\u001b[43mrequest\u001b[49m\u001b[43m(\u001b[49m\u001b[43mcast_to\u001b[49m\u001b[43m,\u001b[49m\u001b[43m \u001b[49m\u001b[43mopts\u001b[49m\u001b[43m,\u001b[49m\u001b[43m \u001b[49m\u001b[43mstream\u001b[49m\u001b[43m=\u001b[49m\u001b[43mstream\u001b[49m\u001b[43m,\u001b[49m\u001b[43m \u001b[49m\u001b[43mstream_cls\u001b[49m\u001b[43m=\u001b[49m\u001b[43mstream_cls\u001b[49m\u001b[43m)\u001b[49m)\n",
      "\u001b[36mFile \u001b[39m\u001b[32m/workspaces/RAG-Implementation/.venv/lib/python3.12/site-packages/groq/_base_client.py:1044\u001b[39m, in \u001b[36mSyncAPIClient.request\u001b[39m\u001b[34m(self, cast_to, options, stream, stream_cls)\u001b[39m\n\u001b[32m   1041\u001b[39m             err.response.read()\n\u001b[32m   1043\u001b[39m         log.debug(\u001b[33m\"\u001b[39m\u001b[33mRe-raising status error\u001b[39m\u001b[33m\"\u001b[39m)\n\u001b[32m-> \u001b[39m\u001b[32m1044\u001b[39m         \u001b[38;5;28;01mraise\u001b[39;00m \u001b[38;5;28mself\u001b[39m._make_status_error_from_response(err.response) \u001b[38;5;28;01mfrom\u001b[39;00m\u001b[38;5;250m \u001b[39m\u001b[38;5;28;01mNone\u001b[39;00m\n\u001b[32m   1046\u001b[39m     \u001b[38;5;28;01mbreak\u001b[39;00m\n\u001b[32m   1048\u001b[39m \u001b[38;5;28;01massert\u001b[39;00m response \u001b[38;5;129;01mis\u001b[39;00m \u001b[38;5;129;01mnot\u001b[39;00m \u001b[38;5;28;01mNone\u001b[39;00m, \u001b[33m\"\u001b[39m\u001b[33mcould not resolve response (should never happen)\u001b[39m\u001b[33m\"\u001b[39m\n",
      "\u001b[31mAuthenticationError\u001b[39m: Error code: 401 - {'error': {'message': 'Invalid API Key', 'type': 'invalid_request_error', 'code': 'invalid_api_key'}}"
     ]
    }
   ],
   "source": [
    "def rag_advanced(query, retriever, llm, top_k=5, min_score=0.2, return_context=False):\n",
    "    \"\"\"\n",
    "    Advanced RAG pipeline with extra feature: \n",
    "    - Return answer, sources, confidence scores and optimally full context.\"\"\"\n",
    "\n",
    "    results = retriever.retrieve(query, top_k=top_k, score_threshold=min_score)\n",
    "    if not results:\n",
    "        return {'answer': 'No relevant context found.', 'sources': [], 'confidence': 0.0, 'context': ''}\n",
    "    \n",
    "    # prepare context and sources\n",
    "\n",
    "    context = \"\\n\\n\".join([doc['content'] for doc in results])\n",
    "    sources = [{\n",
    "        'source': doc['metadata'].get('source_file', doc['metadata'].get('source', 'unknown')), \n",
    "        'page': doc['metadata'].get('page', 'unknown'),\n",
    "        'score': doc['similarity_score'], \n",
    "        'preview': doc['content'][:300] + '...'\n",
    "    } for doc in results]\n",
    "    confidence = max([doc['similarity_score'] for doc in results])\n",
    "\n",
    "    # generate answer\n",
    "    prompt=f\"\"\"You are a helpful AI assistant. Use the following context to answer the question.\n",
    "    Context: {context}\n",
    "    Question: {query} \n",
    "    Answer:\"\"\"\n",
    "\n",
    "    response = llm.invoke(prompt.format(context=context, query=query))\n",
    "\n",
    "    output={\n",
    "        'answer': response.content,\n",
    "        'sources': sources,\n",
    "        'confidence': confidence\n",
    "    }\n",
    "    if return_context:\n",
    "        output['context'] = context\n",
    "    return output\n",
    "\n",
    "### Example usage of advanced RAG pipeline\n",
    "result = rag_advanced(\"Explain Rental Agreement\", rag_retriever, llm, top_k=3, min_score=0.1, return_context=True)\n",
    "print(\"Answer:\", result['answer'])\n",
    "print(\"Confidence:\", result['confidence'])\n",
    "print(\"Sources:\", result['sources'])\n",
    "print(\"Context:\", result.get('context', '')[:500], \"...\")"
   ]
  },
  {
   "cell_type": "code",
   "execution_count": null,
   "id": "1c6532ea",
   "metadata": {},
   "outputs": [],
   "source": []
  }
 ],
 "metadata": {
  "kernelspec": {
   "display_name": ".venv",
   "language": "python",
   "name": "python3"
  },
  "language_info": {
   "codemirror_mode": {
    "name": "ipython",
    "version": 3
   },
   "file_extension": ".py",
   "mimetype": "text/x-python",
   "name": "python",
   "nbconvert_exporter": "python",
   "pygments_lexer": "ipython3",
   "version": "3.12.1"
  }
 },
 "nbformat": 4,
 "nbformat_minor": 5
}
