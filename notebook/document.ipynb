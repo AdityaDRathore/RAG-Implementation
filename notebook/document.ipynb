{
 "cells": [
  {
   "cell_type": "markdown",
   "id": "94731ebc",
   "metadata": {},
   "source": [
    "### Data Ingestion"
   ]
  },
  {
   "cell_type": "code",
   "execution_count": 2,
   "id": "4680e568",
   "metadata": {},
   "outputs": [],
   "source": [
    "### Document Structure\n",
    "\n",
    "from langchain_core.documents import Document\n"
   ]
  },
  {
   "cell_type": "code",
   "execution_count": 5,
   "id": "792f4bb4",
   "metadata": {},
   "outputs": [
    {
     "data": {
      "text/plain": [
       "Document(metadata={'source': 'example_source.txt', 'author': 'Aditya Rathore', 'date': '2024-10-01', 'page_number': 1}, page_content='this is the content of the RAG document')"
      ]
     },
     "execution_count": 5,
     "metadata": {},
     "output_type": "execute_result"
    }
   ],
   "source": [
    "doc = Document (\n",
    "    page_content = \"this is the content of the RAG document\", \n",
    "    metadata = {\n",
    "        \"source\": \"example_source.txt\",\n",
    "        \"author\": \"Aditya Rathore\",\n",
    "        \"date\": \"2024-10-01\", \n",
    "        \"page_number\": 1\n",
    "    }\n",
    ")\n",
    "doc"
   ]
  },
  {
   "cell_type": "code",
   "execution_count": 9,
   "id": "6b9f24f3",
   "metadata": {},
   "outputs": [],
   "source": [
    "import os\n",
    "os.makedirs(\"../data/text_files\",exist_ok=True) "
   ]
  },
  {
   "cell_type": "code",
   "execution_count": 11,
   "id": "0282e5cd",
   "metadata": {},
   "outputs": [
    {
     "name": "stdout",
     "output_type": "stream",
     "text": [
      "Sample Text files created.\n"
     ]
    }
   ],
   "source": [
    "sample_text={\n",
    "    \"../data/text_files/python_intro.txt\": \"\"\"Python Programming Introduction\n",
    "    \n",
    "    Python is a high-level, interpreted programming language known for its readability and versatility. \n",
    "    It supports multiple programming paradigms, including procedural, object-oriented, and functional programming.\n",
    "    Python's extensive standard library and vibrant ecosystem of third-party packages make it suitable for a wide range of applications, \n",
    "    from web development to data science and artificial intelligence.\n",
    "    \n",
    "    Key Features of Python:\n",
    "\n",
    "    1. Readability: Python's syntax emphasizes code readability, making it easier for developers to write and maintain code.\n",
    "    2. Versatility: Python can be used for various applications, including web development, data analysis, machine learning, automation, and more.\n",
    "    3. Extensive Libraries: Python has a rich set of libraries and frameworks, such as Django for web development,\n",
    "       NumPy and Pandas for data analysis, and TensorFlow and PyTorch for machine learning.\n",
    "    4. Community Support: Python has a large and active community that contributes to its development and provides support through forums, tutorials, and documentation.\n",
    "    5. Cross-Platform: Python is available on multiple platforms, including Windows, macOS, and Linux, allowing developers to write code that runs seamlessly across different operating systems.\n",
    "    \n",
    "    Overall, Python's simplicity, versatility, and strong community support have made it one of the most popular programming languages in the world.\"\"\",\n",
    "\n",
    "    \"../data/text_files/machine_learning_basics.txt\": \"\"\"Machine Learning Basics\n",
    "\n",
    "    Machine learning is a subset of artificial intelligence (AI) that focuses on the development of algorithms and statistical models\n",
    "    that enable computers to perform tasks without explicit instructions. It involves training models on large datasets to recognize patterns,\n",
    "    make decisions, and improve their performance over time.\n",
    "\n",
    "    Key Concepts in Machine Learning:\n",
    "\n",
    "    1. Supervised Learning: In supervised learning, models are trained on labeled data, where the input features are paired with the correct output.\n",
    "       The model learns to map inputs to outputs and can make predictions on new, unseen data.\n",
    "    2. Unsupervised Learning: Unsupervised learning involves training models on unlabeled data, allowing them to discover patterns and relationships\n",
    "       within the data without explicit guidance. Clustering and dimensionality reduction are common techniques in this category.\n",
    "    3. Reinforcement Learning: Reinforcement learning is a type of machine learning where agents learn to make decisions by interacting with an environment.\n",
    "       They receive feedback in the form of rewards or penalties and aim to maximize cumulative rewards over time.\n",
    "    4. Neural Networks: Neural networks are a class of machine learning models inspired by the human brain's structure. They consist of interconnected nodes\n",
    "       (neurons) organized in layers and are particularly effective for tasks such as image and speech recognition.\n",
    "    5. Overfitting and Underfitting: Overfitting occurs when a model learns the training data too well, including noise and outliers, leading to poor\n",
    "       generalization on new data. Underfitting happens when a model is too simple to capture the underlying patterns in the data.\n",
    "\n",
    "    Applications of Machine Learning:\n",
    "\n",
    "    Machine learning has a wide range of applications across various industries, including:\n",
    "\n",
    "    - Healthcare: Predictive analytics for patient outcomes, medical image analysis, and drug discovery.\n",
    "    - Finance: Fraud detection, algorithmic trading, and credit scoring.\n",
    "    - Marketing: Customer segmentation, recommendation systems, and sentiment analysis.\n",
    "    - Autonomous Systems: Self-driving cars, robotics, and drone navigation.\n",
    "\n",
    "    Conclusion:\n",
    "\n",
    "    Machine learning is a rapidly evolving field with the potential to transform industries and improve decision-making processes.\n",
    "    As more data becomes available and computational power increases, machine learning will continue to advance and unlock new possibilities.\n",
    "    \"\"\"\n",
    "}\n",
    "\n",
    "for filepath, content in sample_text.items():\n",
    "    with open(filepath, \"w\", encoding = \"utf-8\") as f:\n",
    "        f.write(content)\n",
    "\n",
    "print(\"Sample Text files created.\")"
   ]
  },
  {
   "cell_type": "code",
   "execution_count": 13,
   "id": "6f79fdec",
   "metadata": {},
   "outputs": [
    {
     "name": "stdout",
     "output_type": "stream",
     "text": [
      "[Document(metadata={'source': '../data/text_files/python_intro.txt'}, page_content=\"Python Programming Introduction\\n\\n    Python is a high-level, interpreted programming language known for its readability and versatility. \\n    It supports multiple programming paradigms, including procedural, object-oriented, and functional programming.\\n    Python's extensive standard library and vibrant ecosystem of third-party packages make it suitable for a wide range of applications, \\n    from web development to data science and artificial intelligence.\\n\\n    Key Features of Python:\\n\\n    1. Readability: Python's syntax emphasizes code readability, making it easier for developers to write and maintain code.\\n    2. Versatility: Python can be used for various applications, including web development, data analysis, machine learning, automation, and more.\\n    3. Extensive Libraries: Python has a rich set of libraries and frameworks, such as Django for web development,\\n       NumPy and Pandas for data analysis, and TensorFlow and PyTorch for machine learning.\\n    4. Community Support: Python has a large and active community that contributes to its development and provides support through forums, tutorials, and documentation.\\n    5. Cross-Platform: Python is available on multiple platforms, including Windows, macOS, and Linux, allowing developers to write code that runs seamlessly across different operating systems.\\n\\n    Overall, Python's simplicity, versatility, and strong community support have made it one of the most popular programming languages in the world.\")]\n"
     ]
    }
   ],
   "source": [
    "### TextLoader Example\n",
    "\n",
    "from langchain.document_loaders import TextLoader\n",
    "\n",
    "loader = TextLoader(\"../data/text_files/python_intro.txt\", encoding=\"utf-8\")\n",
    "document = loader.load()\n",
    "\n",
    "print(document)"
   ]
  },
  {
   "cell_type": "code",
   "execution_count": null,
   "id": "9d77a326",
   "metadata": {},
   "outputs": [],
   "source": [
    "### DirectoryLoader Example\n",
    "\n",
    "from langchain.document_loaders import DirectoryLoader\n",
    "\n",
    "loader = DirectoryLoader(\"../data/text_files\", )"
   ]
  }
 ],
 "metadata": {
  "kernelspec": {
   "display_name": ".venv",
   "language": "python",
   "name": "python3"
  },
  "language_info": {
   "codemirror_mode": {
    "name": "ipython",
    "version": 3
   },
   "file_extension": ".py",
   "mimetype": "text/x-python",
   "name": "python",
   "nbconvert_exporter": "python",
   "pygments_lexer": "ipython3",
   "version": "3.12.1"
  }
 },
 "nbformat": 4,
 "nbformat_minor": 5
}
