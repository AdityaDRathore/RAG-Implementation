{
 "cells": [
  {
   "cell_type": "markdown",
   "id": "94731ebc",
   "metadata": {},
   "source": [
    "### Data Ingestion"
   ]
  },
  {
   "cell_type": "code",
   "execution_count": 2,
   "id": "4680e568",
   "metadata": {},
   "outputs": [],
   "source": [
    "### Document Structure\n",
    "\n",
    "from langchain_core.documents import Document\n"
   ]
  },
  {
   "cell_type": "code",
   "execution_count": 3,
   "id": "792f4bb4",
   "metadata": {},
   "outputs": [
    {
     "data": {
      "text/plain": [
       "Document(metadata={'source': 'example_source.txt', 'author': 'Aditya Rathore', 'date': '2024-10-01', 'page_number': 1}, page_content='this is the content of the RAG document')"
      ]
     },
     "execution_count": 3,
     "metadata": {},
     "output_type": "execute_result"
    }
   ],
   "source": [
    "doc = Document (\n",
    "    page_content = \"this is the content of the RAG document\", \n",
    "    metadata = {\n",
    "        \"source\": \"example_source.txt\",\n",
    "        \"author\": \"Aditya Rathore\",\n",
    "        \"date\": \"2024-10-01\", \n",
    "        \"page_number\": 1\n",
    "    }\n",
    ")\n",
    "doc"
   ]
  },
  {
   "cell_type": "code",
   "execution_count": 4,
   "id": "6b9f24f3",
   "metadata": {},
   "outputs": [],
   "source": [
    "import os\n",
    "os.makedirs(\"../data/text_files\",exist_ok=True) "
   ]
  },
  {
   "cell_type": "code",
   "execution_count": 5,
   "id": "0282e5cd",
   "metadata": {},
   "outputs": [
    {
     "name": "stdout",
     "output_type": "stream",
     "text": [
      "Sample Text files created.\n"
     ]
    }
   ],
   "source": [
    "sample_text={\n",
    "    \"../data/text_files/python_intro.txt\": \"\"\"Python Programming Introduction\n",
    "    \n",
    "    Python is a high-level, interpreted programming language known for its readability and versatility. \n",
    "    It supports multiple programming paradigms, including procedural, object-oriented, and functional programming.\n",
    "    Python's extensive standard library and vibrant ecosystem of third-party packages make it suitable for a wide range of applications, \n",
    "    from web development to data science and artificial intelligence.\n",
    "    \n",
    "    Key Features of Python:\n",
    "\n",
    "    1. Readability: Python's syntax emphasizes code readability, making it easier for developers to write and maintain code.\n",
    "    2. Versatility: Python can be used for various applications, including web development, data analysis, machine learning, automation, and more.\n",
    "    3. Extensive Libraries: Python has a rich set of libraries and frameworks, such as Django for web development,\n",
    "       NumPy and Pandas for data analysis, and TensorFlow and PyTorch for machine learning.\n",
    "    4. Community Support: Python has a large and active community that contributes to its development and provides support through forums, tutorials, and documentation.\n",
    "    5. Cross-Platform: Python is available on multiple platforms, including Windows, macOS, and Linux, allowing developers to write code that runs seamlessly across different operating systems.\n",
    "    \n",
    "    Overall, Python's simplicity, versatility, and strong community support have made it one of the most popular programming languages in the world.\"\"\",\n",
    "\n",
    "    \"../data/text_files/machine_learning_basics.txt\": \"\"\"Machine Learning Basics\n",
    "\n",
    "    Machine learning is a subset of artificial intelligence (AI) that focuses on the development of algorithms and statistical models\n",
    "    that enable computers to perform tasks without explicit instructions. It involves training models on large datasets to recognize patterns,\n",
    "    make decisions, and improve their performance over time.\n",
    "\n",
    "    Key Concepts in Machine Learning:\n",
    "\n",
    "    1. Supervised Learning: In supervised learning, models are trained on labeled data, where the input features are paired with the correct output.\n",
    "       The model learns to map inputs to outputs and can make predictions on new, unseen data.\n",
    "    2. Unsupervised Learning: Unsupervised learning involves training models on unlabeled data, allowing them to discover patterns and relationships\n",
    "       within the data without explicit guidance. Clustering and dimensionality reduction are common techniques in this category.\n",
    "    3. Reinforcement Learning: Reinforcement learning is a type of machine learning where agents learn to make decisions by interacting with an environment.\n",
    "       They receive feedback in the form of rewards or penalties and aim to maximize cumulative rewards over time.\n",
    "    4. Neural Networks: Neural networks are a class of machine learning models inspired by the human brain's structure. They consist of interconnected nodes\n",
    "       (neurons) organized in layers and are particularly effective for tasks such as image and speech recognition.\n",
    "    5. Overfitting and Underfitting: Overfitting occurs when a model learns the training data too well, including noise and outliers, leading to poor\n",
    "       generalization on new data. Underfitting happens when a model is too simple to capture the underlying patterns in the data.\n",
    "\n",
    "    Applications of Machine Learning:\n",
    "\n",
    "    Machine learning has a wide range of applications across various industries, including:\n",
    "\n",
    "    - Healthcare: Predictive analytics for patient outcomes, medical image analysis, and drug discovery.\n",
    "    - Finance: Fraud detection, algorithmic trading, and credit scoring.\n",
    "    - Marketing: Customer segmentation, recommendation systems, and sentiment analysis.\n",
    "    - Autonomous Systems: Self-driving cars, robotics, and drone navigation.\n",
    "\n",
    "    Conclusion:\n",
    "\n",
    "    Machine learning is a rapidly evolving field with the potential to transform industries and improve decision-making processes.\n",
    "    As more data becomes available and computational power increases, machine learning will continue to advance and unlock new possibilities.\n",
    "    \"\"\"\n",
    "}\n",
    "\n",
    "for filepath, content in sample_text.items():\n",
    "    with open(filepath, \"w\", encoding = \"utf-8\") as f:\n",
    "        f.write(content)\n",
    "\n",
    "print(\"Sample Text files created.\")"
   ]
  },
  {
   "cell_type": "code",
   "execution_count": 6,
   "id": "6f79fdec",
   "metadata": {},
   "outputs": [
    {
     "name": "stdout",
     "output_type": "stream",
     "text": [
      "[Document(metadata={'source': '../data/text_files/python_intro.txt'}, page_content=\"Python Programming Introduction\\n\\n    Python is a high-level, interpreted programming language known for its readability and versatility. \\n    It supports multiple programming paradigms, including procedural, object-oriented, and functional programming.\\n    Python's extensive standard library and vibrant ecosystem of third-party packages make it suitable for a wide range of applications, \\n    from web development to data science and artificial intelligence.\\n\\n    Key Features of Python:\\n\\n    1. Readability: Python's syntax emphasizes code readability, making it easier for developers to write and maintain code.\\n    2. Versatility: Python can be used for various applications, including web development, data analysis, machine learning, automation, and more.\\n    3. Extensive Libraries: Python has a rich set of libraries and frameworks, such as Django for web development,\\n       NumPy and Pandas for data analysis, and TensorFlow and PyTorch for machine learning.\\n    4. Community Support: Python has a large and active community that contributes to its development and provides support through forums, tutorials, and documentation.\\n    5. Cross-Platform: Python is available on multiple platforms, including Windows, macOS, and Linux, allowing developers to write code that runs seamlessly across different operating systems.\\n\\n    Overall, Python's simplicity, versatility, and strong community support have made it one of the most popular programming languages in the world.\")]\n"
     ]
    }
   ],
   "source": [
    "### TextLoader Example\n",
    "\n",
    "from langchain.document_loaders import TextLoader\n",
    "\n",
    "loader = TextLoader(\"../data/text_files/python_intro.txt\", encoding=\"utf-8\")\n",
    "document = loader.load()\n",
    "\n",
    "print(document)\n"
   ]
  },
  {
   "cell_type": "code",
   "execution_count": 7,
   "id": "9d77a326",
   "metadata": {},
   "outputs": [
    {
     "data": {
      "text/plain": [
       "[Document(metadata={'source': '../data/text_files/machine_learning_basics.txt'}, page_content=\"Machine Learning Basics\\n\\n    Machine learning is a subset of artificial intelligence (AI) that focuses on the development of algorithms and statistical models\\n    that enable computers to perform tasks without explicit instructions. It involves training models on large datasets to recognize patterns,\\n    make decisions, and improve their performance over time.\\n\\n    Key Concepts in Machine Learning:\\n\\n    1. Supervised Learning: In supervised learning, models are trained on labeled data, where the input features are paired with the correct output.\\n       The model learns to map inputs to outputs and can make predictions on new, unseen data.\\n    2. Unsupervised Learning: Unsupervised learning involves training models on unlabeled data, allowing them to discover patterns and relationships\\n       within the data without explicit guidance. Clustering and dimensionality reduction are common techniques in this category.\\n    3. Reinforcement Learning: Reinforcement learning is a type of machine learning where agents learn to make decisions by interacting with an environment.\\n       They receive feedback in the form of rewards or penalties and aim to maximize cumulative rewards over time.\\n    4. Neural Networks: Neural networks are a class of machine learning models inspired by the human brain's structure. They consist of interconnected nodes\\n       (neurons) organized in layers and are particularly effective for tasks such as image and speech recognition.\\n    5. Overfitting and Underfitting: Overfitting occurs when a model learns the training data too well, including noise and outliers, leading to poor\\n       generalization on new data. Underfitting happens when a model is too simple to capture the underlying patterns in the data.\\n\\n    Applications of Machine Learning:\\n\\n    Machine learning has a wide range of applications across various industries, including:\\n\\n    - Healthcare: Predictive analytics for patient outcomes, medical image analysis, and drug discovery.\\n    - Finance: Fraud detection, algorithmic trading, and credit scoring.\\n    - Marketing: Customer segmentation, recommendation systems, and sentiment analysis.\\n    - Autonomous Systems: Self-driving cars, robotics, and drone navigation.\\n\\n    Conclusion:\\n\\n    Machine learning is a rapidly evolving field with the potential to transform industries and improve decision-making processes.\\n    As more data becomes available and computational power increases, machine learning will continue to advance and unlock new possibilities.\\n    \"),\n",
       " Document(metadata={'source': '../data/text_files/python_intro.txt'}, page_content=\"Python Programming Introduction\\n\\n    Python is a high-level, interpreted programming language known for its readability and versatility. \\n    It supports multiple programming paradigms, including procedural, object-oriented, and functional programming.\\n    Python's extensive standard library and vibrant ecosystem of third-party packages make it suitable for a wide range of applications, \\n    from web development to data science and artificial intelligence.\\n\\n    Key Features of Python:\\n\\n    1. Readability: Python's syntax emphasizes code readability, making it easier for developers to write and maintain code.\\n    2. Versatility: Python can be used for various applications, including web development, data analysis, machine learning, automation, and more.\\n    3. Extensive Libraries: Python has a rich set of libraries and frameworks, such as Django for web development,\\n       NumPy and Pandas for data analysis, and TensorFlow and PyTorch for machine learning.\\n    4. Community Support: Python has a large and active community that contributes to its development and provides support through forums, tutorials, and documentation.\\n    5. Cross-Platform: Python is available on multiple platforms, including Windows, macOS, and Linux, allowing developers to write code that runs seamlessly across different operating systems.\\n\\n    Overall, Python's simplicity, versatility, and strong community support have made it one of the most popular programming languages in the world.\")]"
      ]
     },
     "execution_count": 7,
     "metadata": {},
     "output_type": "execute_result"
    }
   ],
   "source": [
    "### DirectoryLoader Example\n",
    "\n",
    "from langchain.document_loaders import DirectoryLoader\n",
    "\n",
    "dir_loader = DirectoryLoader(\n",
    "    \"../data/text_files\",\n",
    "    glob=\"**/*.txt\",\n",
    "    loader_cls= TextLoader,\n",
    "    loader_kwargs={\"encoding\": \"utf-8\"},\n",
    "    show_progress=False\n",
    ")\n",
    "documents = dir_loader.load()\n",
    "documents"
   ]
  },
  {
   "cell_type": "code",
   "execution_count": null,
   "id": "c7b8bf6e",
   "metadata": {},
   "outputs": [],
   "source": [
    "from langchain_community.document_loaders import PyPDFLoader, PyMuPDFLoader \n",
    "\n",
    "dir_loader = DirectoryLoader(\n",
    "    \"../data/pdf_files/\",\n",
    "    glob=\"**/*.pdf\",\n",
    "    loader_cls= PyMuPDFLoader,\n",
    "    show_progress=False\n",
    ")\n",
    "\n",
    "pdf_documents = dir_loader.load()\n",
    "pdf_documents  "
   ]
  },
  {
   "cell_type": "code",
   "execution_count": 14,
   "id": "acfd2b80",
   "metadata": {},
   "outputs": [],
   "source": [
    "import os\n",
    "from langchain_community.document_loaders import PyPDFLoader, PyMuPDFLoader\n",
    "from langchain.text_splitter import RecursiveCharacterTextSplitter\n",
    "from pathlib import Path"
   ]
  },
  {
   "cell_type": "code",
   "execution_count": 17,
   "id": "c996b7ff",
   "metadata": {},
   "outputs": [
    {
     "name": "stdout",
     "output_type": "stream",
     "text": [
      "Found 1 PDF files to process\n",
      "\n",
      "Processing: Rental_Lease_Agreement.pdf\n",
      "  ✓ Loaded 2 pages\n",
      "\n",
      "Total documents loaded: 2\n"
     ]
    },
    {
     "data": {
      "text/plain": [
       "[Document(metadata={'producer': 'Skia/PDF m142 Google Docs Renderer', 'creator': 'PyPDF', 'creationdate': '', 'title': 'Untitled document', 'source': '../data/pdf_files/Rental_Lease_Agreement.pdf', 'total_pages': 2, 'page': 0, 'page_label': '1', 'source_file': 'Rental_Lease_Agreement.pdf', 'file_type': 'pdf'}, page_content='Residential  Lease  Agreement  \\nThis  Lease  Agreement  (the  \"Agreement\")  is  made  and  entered  into  this  21st  day  of  \\nSeptember,\\n \\n2025,\\n \\nby\\n \\nand\\n \\nbetween\\n \\nRohit\\n \\nSoni\\n \\n(the\\n \\n\"Landlord\")\\n \\nand\\n \\nAmit\\n \\nKumar\\n \\n(the\\n \\n\"Tenant\").\\n \\n1.  PROPERTY  The  Landlord  agrees  to  lease  to  the  Tenant  the  property  located  at:  123  \\nInnovation\\n \\nDrive,\\n \\nTechville,\\n \\nST\\n \\n54321\\n \\n(the\\n \\n\"Premises\").\\n \\n2.  LEASE  TERM  The  term  of  this  lease  shall  be  for  a  period  of  12  months ,  commencing  on  \\nOctober\\n \\n1,\\n \\n2025,\\n \\nand\\n \\nending\\n \\non\\n \\nSeptember\\n \\n30,\\n \\n2026.\\n \\n3.  RENT  3.1.  The  Tenant  shall  pay  the  Landlord  a  monthly  rent  of  $2,400.00 .  3.2.  Rent  shall  \\nbe\\n \\ndue\\n \\nand\\n \\npayable\\n \\nin\\n \\nfull\\n \\non\\n \\nor\\n \\nbefore\\n \\nthe\\n \\n5th\\n \\nday\\n \\nof\\n \\neach\\n \\nmonth\\n.\\n \\n3.3.\\n \\nLate\\n \\nFee:\\n \\nIn\\n \\nthe\\n \\nevent\\n \\nthat\\n \\nrent\\n \\nis\\n \\nnot\\n \\npaid\\n \\nby\\n \\nthe\\n \\ndue\\n \\ndate,\\n \\na\\n \\npenalty\\n \\nof\\n \\n10%\\n \\nof\\n \\nthe\\n \\ndaily\\n \\nrent\\n \\namount\\n \\nper\\n \\nday\\n \\nshall\\n \\nbe\\n \\napplied\\n \\nuntil\\n \\nthe\\n \\noutstanding\\n \\nbalance\\n \\nis\\n \\npaid\\n \\nin\\n \\nfull.\\n \\n4.  SECURITY  DEPOSIT  Upon  execution  of  this  Agreement,  the  Tenant  shall  deposit  with  the  \\nLandlord\\n \\nthe\\n \\nsum\\n \\nof\\n \\n$4,800.00\\n,\\n \\nequivalent\\n \\nto\\n \\ntwo\\n \\nmonths\\'\\n \\nrent,\\n \\nas\\n \\nsecurity\\n \\nfor\\n \\nthe\\n \\nfaithful\\n \\nperformance\\n \\nof\\n \\nthe\\n \\nterms\\n \\nof\\n \\nthis\\n \\nlease.\\n \\n5.  UTILITIES  The  Tenant  shall  be  responsible  for  arranging  and  paying  for  all  utility  services  \\nrequired\\n \\non\\n \\nthe\\n \\nPremises.\\n \\nUtilities\\n \\nare\\n \\nnot\\n \\nincluded\\n \\nin\\n \\nthe\\n \\nmonthly\\n \\nrent.\\n \\n6.  MAINTENANCE  AND  REPAIRS  The  Tenant  shall  be  responsible  for  all  minor  repairs  \\nand\\n \\ngeneral\\n \\nmaintenance\\n \\nof\\n \\nthe\\n \\nPremises,\\n \\nincluding\\n \\nbut\\n \\nnot\\n \\nlimited\\n \\nto\\n \\nreplacing\\n \\nlight\\n \\nbulbs\\n \\nand\\n \\nfilters.\\n \\nThe\\n \\nLandlord\\n \\nshall\\n \\nbe\\n \\nresponsible\\n \\nfor\\n \\nmajor\\n \\nstructural\\n \\nrepairs.\\n \\n7.  PETS  A  pet  policy  is  included .  The  Tenant  is  permitted  to  keep  up  to  two  (2)  domestic  \\npets\\n \\non\\n \\nthe\\n \\nPremises,\\n \\nsubject\\n \\nto\\n \\na\\n \\none-time\\n \\npet\\n \\nfee\\n \\nof\\n \\n$250.\\n \\n8.  DEFAULT  AND  TERMINATION  8.1.  Early  Termination:  An  early  termination  clause  is  \\nin\\n \\neffect.\\n \\nThe\\n \\nTenant\\n \\nmay\\n \\nterminate\\n \\nthis\\n \\nlease\\n \\nbefore\\n \\nthe\\n \\nend\\n \\nof\\n \\nthe\\n \\nterm\\n \\nby\\n \\nproviding\\n \\n60\\n \\ndays\\'\\n \\nwritten\\n \\nnotice\\n \\nand\\n \\npaying\\n \\na\\n \\nfee\\n \\nequal\\n \\nto\\n \\ntwo\\n \\nmonths\\'\\n \\nrent.\\n \\n8.2.\\n \\nDispute:\\n \\nNotwithstanding\\n \\nany\\n \\nother\\n \\nprovision\\n \\nof\\n \\nthis\\n \\nAgreement,\\n \\nthe\\n \\nLandlord\\n \\nmay\\n \\nterminate\\n \\nthis\\n \\nAgreement\\n \\nwithout\\n \\nnotice\\n \\nin\\n \\nthe\\n \\ncase\\n \\nof\\n \\nany\\n \\ndispute\\n \\nbetween\\n \\nthe\\n \\nLandlord\\n \\nand\\n \\nTenant.\\n \\nThis  Agreement  constitutes  the  entire  agreement  between  the  parties.  \\nLANDLORD:  \\n \\nRohit  Soni  \\nTENANT:  \\nAmit  Kumar'),\n",
       " Document(metadata={'producer': 'Skia/PDF m142 Google Docs Renderer', 'creator': 'PyPDF', 'creationdate': '', 'title': 'Untitled document', 'source': '../data/pdf_files/Rental_Lease_Agreement.pdf', 'total_pages': 2, 'page': 1, 'page_label': '2', 'source_file': 'Rental_Lease_Agreement.pdf', 'file_type': 'pdf'}, page_content='')]"
      ]
     },
     "execution_count": 17,
     "metadata": {},
     "output_type": "execute_result"
    }
   ],
   "source": [
    "### Read all the pdf's inside the directory\n",
    "def process_all_pdfs(pdf_directory):\n",
    "    \"\"\"Process all PDF files in a directory\"\"\"\n",
    "    all_documents = []\n",
    "    pdf_dir = Path(pdf_directory)\n",
    "    \n",
    "    # Find all PDF files recursively\n",
    "    pdf_files = list(pdf_dir.glob(\"**/*.pdf\"))\n",
    "    \n",
    "    print(f\"Found {len(pdf_files)} PDF files to process\")\n",
    "    \n",
    "    for pdf_file in pdf_files:\n",
    "        print(f\"\\nProcessing: {pdf_file.name}\")\n",
    "        try:\n",
    "            loader = PyPDFLoader(str(pdf_file))\n",
    "            documents = loader.load()\n",
    "            \n",
    "            # Add source information to metadata\n",
    "            for doc in documents:\n",
    "                doc.metadata['source_file'] = pdf_file.name\n",
    "                doc.metadata['file_type'] = 'pdf'\n",
    "            \n",
    "            all_documents.extend(documents)\n",
    "            print(f\"  ✓ Loaded {len(documents)} pages\")\n",
    "            \n",
    "        except Exception as e:\n",
    "            print(f\"  ✗ Error: {e}\")\n",
    "    \n",
    "    print(f\"\\nTotal documents loaded: {len(all_documents)}\")\n",
    "    return all_documents\n",
    "\n",
    "# Process all PDFs in the data directory\n",
    "all_pdf_documents = process_all_pdfs(\"../data\")\n",
    "all_pdf_documents"
   ]
  },
  {
   "cell_type": "code",
   "execution_count": 18,
   "id": "5637e291",
   "metadata": {},
   "outputs": [],
   "source": [
    "### Text splitting get into chunks\n",
    "\n",
    "def split_documents(documents,chunk_size=1000,chunk_overlap=200):\n",
    "    \"\"\"Split documents into smaller chunks for better RAG performance\"\"\"\n",
    "    text_splitter = RecursiveCharacterTextSplitter(\n",
    "        chunk_size=chunk_size,\n",
    "        chunk_overlap=chunk_overlap,\n",
    "        length_function=len,\n",
    "        separators=[\"\\n\\n\", \"\\n\", \" \", \"\"]\n",
    "    )\n",
    "    split_docs = text_splitter.split_documents(documents)\n",
    "    print(f\"Split {len(documents)} documents into {len(split_docs)} chunks\")\n",
    "    \n",
    "    # Show example of a chunk\n",
    "    if split_docs:\n",
    "        print(f\"\\nExample chunk:\")\n",
    "        print(f\"Content: {split_docs[0].page_content[:200]}...\")\n",
    "        print(f\"Metadata: {split_docs[0].metadata}\")\n",
    "    \n",
    "    return split_docs"
   ]
  },
  {
   "cell_type": "code",
   "execution_count": 19,
   "id": "9ef80d67",
   "metadata": {},
   "outputs": [
    {
     "name": "stdout",
     "output_type": "stream",
     "text": [
      "Split 2 documents into 4 chunks\n",
      "\n",
      "Example chunk:\n",
      "Content: Residential  Lease  Agreement  \n",
      "This  Lease  Agreement  (the  \"Agreement\")  is  made  and  entered  into  this  21st  day  of  \n",
      "September,\n",
      " \n",
      "2025,\n",
      " \n",
      "by\n",
      " \n",
      "and\n",
      " \n",
      "between\n",
      " \n",
      "Rohit\n",
      " \n",
      "Soni\n",
      " \n",
      "(the\n",
      " \n",
      "\"Landlor...\n",
      "Metadata: {'producer': 'Skia/PDF m142 Google Docs Renderer', 'creator': 'PyPDF', 'creationdate': '', 'title': 'Untitled document', 'source': '../data/pdf_files/Rental_Lease_Agreement.pdf', 'total_pages': 2, 'page': 0, 'page_label': '1', 'source_file': 'Rental_Lease_Agreement.pdf', 'file_type': 'pdf'}\n"
     ]
    },
    {
     "data": {
      "text/plain": [
       "[Document(metadata={'producer': 'Skia/PDF m142 Google Docs Renderer', 'creator': 'PyPDF', 'creationdate': '', 'title': 'Untitled document', 'source': '../data/pdf_files/Rental_Lease_Agreement.pdf', 'total_pages': 2, 'page': 0, 'page_label': '1', 'source_file': 'Rental_Lease_Agreement.pdf', 'file_type': 'pdf'}, page_content='Residential  Lease  Agreement  \\nThis  Lease  Agreement  (the  \"Agreement\")  is  made  and  entered  into  this  21st  day  of  \\nSeptember,\\n \\n2025,\\n \\nby\\n \\nand\\n \\nbetween\\n \\nRohit\\n \\nSoni\\n \\n(the\\n \\n\"Landlord\")\\n \\nand\\n \\nAmit\\n \\nKumar\\n \\n(the\\n \\n\"Tenant\").\\n \\n1.  PROPERTY  The  Landlord  agrees  to  lease  to  the  Tenant  the  property  located  at:  123  \\nInnovation\\n \\nDrive,\\n \\nTechville,\\n \\nST\\n \\n54321\\n \\n(the\\n \\n\"Premises\").\\n \\n2.  LEASE  TERM  The  term  of  this  lease  shall  be  for  a  period  of  12  months ,  commencing  on  \\nOctober\\n \\n1,\\n \\n2025,\\n \\nand\\n \\nending\\n \\non\\n \\nSeptember\\n \\n30,\\n \\n2026.\\n \\n3.  RENT  3.1.  The  Tenant  shall  pay  the  Landlord  a  monthly  rent  of  $2,400.00 .  3.2.  Rent  shall  \\nbe\\n \\ndue\\n \\nand\\n \\npayable\\n \\nin\\n \\nfull\\n \\non\\n \\nor\\n \\nbefore\\n \\nthe\\n \\n5th\\n \\nday\\n \\nof\\n \\neach\\n \\nmonth\\n.\\n \\n3.3.\\n \\nLate\\n \\nFee:\\n \\nIn\\n \\nthe\\n \\nevent\\n \\nthat\\n \\nrent\\n \\nis\\n \\nnot\\n \\npaid\\n \\nby\\n \\nthe\\n \\ndue\\n \\ndate,\\n \\na\\n \\npenalty\\n \\nof\\n \\n10%\\n \\nof\\n \\nthe\\n \\ndaily\\n \\nrent\\n \\namount\\n \\nper\\n \\nday\\n \\nshall\\n \\nbe\\n \\napplied\\n \\nuntil'),\n",
       " Document(metadata={'producer': 'Skia/PDF m142 Google Docs Renderer', 'creator': 'PyPDF', 'creationdate': '', 'title': 'Untitled document', 'source': '../data/pdf_files/Rental_Lease_Agreement.pdf', 'total_pages': 2, 'page': 0, 'page_label': '1', 'source_file': 'Rental_Lease_Agreement.pdf', 'file_type': 'pdf'}, page_content=\"3.3.\\n \\nLate\\n \\nFee:\\n \\nIn\\n \\nthe\\n \\nevent\\n \\nthat\\n \\nrent\\n \\nis\\n \\nnot\\n \\npaid\\n \\nby\\n \\nthe\\n \\ndue\\n \\ndate,\\n \\na\\n \\npenalty\\n \\nof\\n \\n10%\\n \\nof\\n \\nthe\\n \\ndaily\\n \\nrent\\n \\namount\\n \\nper\\n \\nday\\n \\nshall\\n \\nbe\\n \\napplied\\n \\nuntil\\n \\nthe\\n \\noutstanding\\n \\nbalance\\n \\nis\\n \\npaid\\n \\nin\\n \\nfull.\\n \\n4.  SECURITY  DEPOSIT  Upon  execution  of  this  Agreement,  the  Tenant  shall  deposit  with  the  \\nLandlord\\n \\nthe\\n \\nsum\\n \\nof\\n \\n$4,800.00\\n,\\n \\nequivalent\\n \\nto\\n \\ntwo\\n \\nmonths'\\n \\nrent,\\n \\nas\\n \\nsecurity\\n \\nfor\\n \\nthe\\n \\nfaithful\\n \\nperformance\\n \\nof\\n \\nthe\\n \\nterms\\n \\nof\\n \\nthis\\n \\nlease.\\n \\n5.  UTILITIES  The  Tenant  shall  be  responsible  for  arranging  and  paying  for  all  utility  services  \\nrequired\\n \\non\\n \\nthe\\n \\nPremises.\\n \\nUtilities\\n \\nare\\n \\nnot\\n \\nincluded\\n \\nin\\n \\nthe\\n \\nmonthly\\n \\nrent.\\n \\n6.  MAINTENANCE  AND  REPAIRS  The  Tenant  shall  be  responsible  for  all  minor  repairs  \\nand\\n \\ngeneral\\n \\nmaintenance\\n \\nof\\n \\nthe\\n \\nPremises,\\n \\nincluding\\n \\nbut\\n \\nnot\\n \\nlimited\\n \\nto\\n \\nreplacing\\n \\nlight\\n \\nbulbs\\n \\nand\\n \\nfilters.\\n \\nThe\\n \\nLandlord\"),\n",
       " Document(metadata={'producer': 'Skia/PDF m142 Google Docs Renderer', 'creator': 'PyPDF', 'creationdate': '', 'title': 'Untitled document', 'source': '../data/pdf_files/Rental_Lease_Agreement.pdf', 'total_pages': 2, 'page': 0, 'page_label': '1', 'source_file': 'Rental_Lease_Agreement.pdf', 'file_type': 'pdf'}, page_content=\"and\\n \\ngeneral\\n \\nmaintenance\\n \\nof\\n \\nthe\\n \\nPremises,\\n \\nincluding\\n \\nbut\\n \\nnot\\n \\nlimited\\n \\nto\\n \\nreplacing\\n \\nlight\\n \\nbulbs\\n \\nand\\n \\nfilters.\\n \\nThe\\n \\nLandlord\\n \\nshall\\n \\nbe\\n \\nresponsible\\n \\nfor\\n \\nmajor\\n \\nstructural\\n \\nrepairs.\\n \\n7.  PETS  A  pet  policy  is  included .  The  Tenant  is  permitted  to  keep  up  to  two  (2)  domestic  \\npets\\n \\non\\n \\nthe\\n \\nPremises,\\n \\nsubject\\n \\nto\\n \\na\\n \\none-time\\n \\npet\\n \\nfee\\n \\nof\\n \\n$250.\\n \\n8.  DEFAULT  AND  TERMINATION  8.1.  Early  Termination:  An  early  termination  clause  is  \\nin\\n \\neffect.\\n \\nThe\\n \\nTenant\\n \\nmay\\n \\nterminate\\n \\nthis\\n \\nlease\\n \\nbefore\\n \\nthe\\n \\nend\\n \\nof\\n \\nthe\\n \\nterm\\n \\nby\\n \\nproviding\\n \\n60\\n \\ndays'\\n \\nwritten\\n \\nnotice\\n \\nand\\n \\npaying\\n \\na\\n \\nfee\\n \\nequal\\n \\nto\\n \\ntwo\\n \\nmonths'\\n \\nrent.\\n \\n8.2.\\n \\nDispute:\\n \\nNotwithstanding\\n \\nany\\n \\nother\\n \\nprovision\\n \\nof\\n \\nthis\\n \\nAgreement,\\n \\nthe\\n \\nLandlord\\n \\nmay\\n \\nterminate\\n \\nthis\\n \\nAgreement\\n \\nwithout\\n \\nnotice\\n \\nin\\n \\nthe\\n \\ncase\\n \\nof\\n \\nany\\n \\ndispute\\n \\nbetween\\n \\nthe\\n \\nLandlord\\n \\nand\\n \\nTenant.\"),\n",
       " Document(metadata={'producer': 'Skia/PDF m142 Google Docs Renderer', 'creator': 'PyPDF', 'creationdate': '', 'title': 'Untitled document', 'source': '../data/pdf_files/Rental_Lease_Agreement.pdf', 'total_pages': 2, 'page': 0, 'page_label': '1', 'source_file': 'Rental_Lease_Agreement.pdf', 'file_type': 'pdf'}, page_content='other\\n \\nprovision\\n \\nof\\n \\nthis\\n \\nAgreement,\\n \\nthe\\n \\nLandlord\\n \\nmay\\n \\nterminate\\n \\nthis\\n \\nAgreement\\n \\nwithout\\n \\nnotice\\n \\nin\\n \\nthe\\n \\ncase\\n \\nof\\n \\nany\\n \\ndispute\\n \\nbetween\\n \\nthe\\n \\nLandlord\\n \\nand\\n \\nTenant.\\n \\nThis  Agreement  constitutes  the  entire  agreement  between  the  parties.  \\nLANDLORD:  \\n \\nRohit  Soni  \\nTENANT:  \\nAmit  Kumar')]"
      ]
     },
     "execution_count": 19,
     "metadata": {},
     "output_type": "execute_result"
    }
   ],
   "source": [
    "chunks = split_documents(all_pdf_documents)\n",
    "chunks"
   ]
  },
  {
   "cell_type": "markdown",
   "id": "9ff3e86f",
   "metadata": {},
   "source": [
    "### Embedding and VectorStoreDB Creation"
   ]
  },
  {
   "cell_type": "code",
   "execution_count": 8,
   "id": "e2a7f765",
   "metadata": {},
   "outputs": [
    {
     "name": "stderr",
     "output_type": "stream",
     "text": [
      "/workspaces/RAG-Implementation/.venv/lib/python3.12/site-packages/tqdm/auto.py:21: TqdmWarning: IProgress not found. Please update jupyter and ipywidgets. See https://ipywidgets.readthedocs.io/en/stable/user_install.html\n",
      "  from .autonotebook import tqdm as notebook_tqdm\n"
     ]
    }
   ],
   "source": [
    "import numpy as np\n",
    "from sentence_transformers import SentenceTransformer\n",
    "import chromadb\n",
    "from chromadb.config import Settings\n",
    "import uuid\n",
    "from typing import List, Tuple, Any, Dict\n",
    "from sklearn.metrics.pairwise import cosine_similarity"
   ]
  },
  {
   "cell_type": "code",
   "execution_count": 10,
   "id": "44a4c99a",
   "metadata": {},
   "outputs": [
    {
     "name": "stdout",
     "output_type": "stream",
     "text": [
      "Loading embedding model: all-MiniLM-L6-v2\n",
      "Model Loaded Successfully. Embedding Dimension: 384\n"
     ]
    },
    {
     "data": {
      "text/plain": [
       "<__main__.EmbeddingManager at 0x7410e08879b0>"
      ]
     },
     "execution_count": 10,
     "metadata": {},
     "output_type": "execute_result"
    }
   ],
   "source": [
    "class EmbeddingManager:\n",
    "    \"\"\"Handles document embedding generation using SentenceTransformer\"\"\"\n",
    "\n",
    "    def __init__(self, model_name: str = 'all-MiniLM-L6-v2'):\n",
    "        \"\"\"\n",
    "        Initialize the embedding manager\n",
    "        \n",
    "        Args:\n",
    "            model_name: Hugging face model name for sentence embeddings\n",
    "        \"\"\"\n",
    "        self.model_name = model_name\n",
    "        self.model = None\n",
    "        self._load_model()\n",
    "    \n",
    "    def _load_model(self):\n",
    "        \"\"\"Load the sentence transformer model\"\"\"\n",
    "        try:\n",
    "            print(f\"Loading embedding model: {self.model_name}\")\n",
    "            self.model = SentenceTransformer(self.model_name)\n",
    "            print(f\"Model Loaded Successfully. Embedding Dimension: {self.model.get_sentence_embedding_dimension()}\")\n",
    "        except Exception as e:\n",
    "            print(f\"Error loading model {self.model_name}: {e}\")\n",
    "            raise\n",
    "\n",
    "    def generate_embeddings(self, texts: List[str]) -> np.ndarray:\n",
    "        \"\"\"\n",
    "        Generate embeddings for a list of texts\n",
    "        \n",
    "        Args:\n",
    "            texts: List of string to be embedded\n",
    "\n",
    "        Returns: \n",
    "            numpy array of embeddings with shape (len(texts), embedding_dimension)\n",
    "        \"\"\"\n",
    "        if not self.model:\n",
    "            raise ValueError(\"Model not loaded\")\n",
    "        \n",
    "        print(f\"Generating embedding for {len(texts)} texts...\")\n",
    "        embeddings = self.model.encode(texts, show_progress_bar=True)\n",
    "        print(f\"Generated embeddings with shape: {embeddings.shape}\")\n",
    "        return embeddings\n",
    "\n",
    "### initialize the Embedding Manager\n",
    "\n",
    "embedding_manager = EmbeddingManager()\n",
    "embedding_manager\n"
   ]
  },
  {
   "cell_type": "markdown",
   "id": "d3e56519",
   "metadata": {},
   "source": [
    "### VectorStore"
   ]
  },
  {
   "cell_type": "code",
   "execution_count": null,
   "id": "9d20c9ee",
   "metadata": {},
   "outputs": [
    {
     "name": "stdout",
     "output_type": "stream",
     "text": [
      "Vector store initialized. Collection: pdf_documents\n",
      "Total documents in store/collection: 0\n"
     ]
    },
    {
     "data": {
      "text/plain": [
       "<__main__.VectorStore at 0x7410e0787170>"
      ]
     },
     "execution_count": 12,
     "metadata": {},
     "output_type": "execute_result"
    }
   ],
   "source": [
    "class VectorStore:\n",
    "    \"\"\"Manages document embeddings in a chromaDB vector store\"\"\"\n",
    "\n",
    "    def __init__(self, collection_name: str = \"pdf_documents\", persist_directory: str = \"../data/vector_store/\"):\n",
    "        \"\"\"\n",
    "        Initialize the vector store\n",
    "        \n",
    "        Args:\n",
    "            collection_name: Name of the collection in chromaDB\n",
    "            persist_directory: Directory to persist the chromaDB data\n",
    "        \"\"\"\n",
    "        self.collection_name = collection_name\n",
    "        self.persist_directory = persist_directory\n",
    "        self.client = None\n",
    "        self.collection = None\n",
    "        self._initialize_store()\n",
    "\n",
    "    def _initialize_store(self):\n",
    "        \"\"\"Initialize chromaDB client and collection\"\"\"\n",
    "        try:\n",
    "            # create persistent chromaDB client\n",
    "            os.makedirs(self.persist_directory, exist_ok=True)\n",
    "            self.client = chromadb.PersistentClient(path=self.persist_directory)\n",
    "\n",
    "            # create or get collection\n",
    "            self.collection = self.client.get_or_create_collection(\n",
    "                name=self.collection_name, \n",
    "                metadata = {\"description\": \"PDF document embeddings for RAG\"}\n",
    "            )\n",
    "            print(f\"Vector store initialized. Collection: {self.collection_name}\")\n",
    "            print(f\"Existing documents in store/collection: {self.collection.count()}\")\n",
    "        \n",
    "        except Exception as e:\n",
    "            print(f\"error initializing vector store: {e}\")\n",
    "            raise \n",
    "            \n",
    "    def add_documents(self, documents: List[Document], embeddings: np.ndarray):\n",
    "        \"\"\"\n",
    "        Add documents and their embeddings to the vector store\n",
    "        \n",
    "        Args:\n",
    "            documents: List of langchain documents\n",
    "            embeddings: Corresponding embeddings for the documents\n",
    "        \"\"\"\n",
    "        if(len(documents) != len(embeddings)):\n",
    "            raise ValueError(\"Number of documents and embeddings must match\")\n",
    "        \n",
    "        print(f\"Adding {len(documents)} documents to vector store...\")\n",
    "\n",
    "        # Prepare data for chromaDB\n",
    "        ids = []\n",
    "        metadatas = []\n",
    "        documents_texts = []\n",
    "        embeddings_list = []\n",
    "\n",
    "        for i, (doc, embedding) in enumerate(zip(documents, embeddings)):\n",
    "            # Generate unique ID\n",
    "            doc_id = f\"doc_{uuid.uuid4().hex[:8]}_{i}\"\n",
    "            ids.append(doc_id)\n",
    "\n",
    "            # Prepare metadata\n",
    "            metadata = dict(doc.metadata) \n",
    "            metadata['doc_index'] = i\n",
    "            metadata['content_length'] = len(doc.page_content)\n",
    "            metadatas.append(metadata)\n",
    "\n",
    "            # Document content \n",
    "            documents_texts.append(doc.page_content)\n",
    "\n",
    "            # Embedding\n",
    "            embeddings_list.append(embedding.tolist())\n",
    "\n",
    "        # Add to chromaDB collection\n",
    "        try:\n",
    "            self.collection.add(\n",
    "                ids=ids,\n",
    "                metadatas=metadatas,\n",
    "                documents=documents_texts,\n",
    "                embeddings=embeddings_list\n",
    "            )\n",
    "            print(f\"Successfully added {len(documents)} documents to vector store.\")\n",
    "            print(f\"Total documents in store/collection: {self.collection.count()}\")\n",
    "\n",
    "        except Exception as e:\n",
    "            print(f\"Error adding documents to vector store: {e}\")\n",
    "            raise\n",
    "\n",
    "vectorstore = VectorStore()\n",
    "vectorstore\n",
    "\n",
    "\n",
    "\n"
   ]
  },
  {
   "cell_type": "code",
   "execution_count": 20,
   "id": "ca0d2bd0",
   "metadata": {},
   "outputs": [
    {
     "data": {
      "text/plain": [
       "[Document(metadata={'producer': 'Skia/PDF m142 Google Docs Renderer', 'creator': 'PyPDF', 'creationdate': '', 'title': 'Untitled document', 'source': '../data/pdf_files/Rental_Lease_Agreement.pdf', 'total_pages': 2, 'page': 0, 'page_label': '1', 'source_file': 'Rental_Lease_Agreement.pdf', 'file_type': 'pdf'}, page_content='Residential  Lease  Agreement  \\nThis  Lease  Agreement  (the  \"Agreement\")  is  made  and  entered  into  this  21st  day  of  \\nSeptember,\\n \\n2025,\\n \\nby\\n \\nand\\n \\nbetween\\n \\nRohit\\n \\nSoni\\n \\n(the\\n \\n\"Landlord\")\\n \\nand\\n \\nAmit\\n \\nKumar\\n \\n(the\\n \\n\"Tenant\").\\n \\n1.  PROPERTY  The  Landlord  agrees  to  lease  to  the  Tenant  the  property  located  at:  123  \\nInnovation\\n \\nDrive,\\n \\nTechville,\\n \\nST\\n \\n54321\\n \\n(the\\n \\n\"Premises\").\\n \\n2.  LEASE  TERM  The  term  of  this  lease  shall  be  for  a  period  of  12  months ,  commencing  on  \\nOctober\\n \\n1,\\n \\n2025,\\n \\nand\\n \\nending\\n \\non\\n \\nSeptember\\n \\n30,\\n \\n2026.\\n \\n3.  RENT  3.1.  The  Tenant  shall  pay  the  Landlord  a  monthly  rent  of  $2,400.00 .  3.2.  Rent  shall  \\nbe\\n \\ndue\\n \\nand\\n \\npayable\\n \\nin\\n \\nfull\\n \\non\\n \\nor\\n \\nbefore\\n \\nthe\\n \\n5th\\n \\nday\\n \\nof\\n \\neach\\n \\nmonth\\n.\\n \\n3.3.\\n \\nLate\\n \\nFee:\\n \\nIn\\n \\nthe\\n \\nevent\\n \\nthat\\n \\nrent\\n \\nis\\n \\nnot\\n \\npaid\\n \\nby\\n \\nthe\\n \\ndue\\n \\ndate,\\n \\na\\n \\npenalty\\n \\nof\\n \\n10%\\n \\nof\\n \\nthe\\n \\ndaily\\n \\nrent\\n \\namount\\n \\nper\\n \\nday\\n \\nshall\\n \\nbe\\n \\napplied\\n \\nuntil'),\n",
       " Document(metadata={'producer': 'Skia/PDF m142 Google Docs Renderer', 'creator': 'PyPDF', 'creationdate': '', 'title': 'Untitled document', 'source': '../data/pdf_files/Rental_Lease_Agreement.pdf', 'total_pages': 2, 'page': 0, 'page_label': '1', 'source_file': 'Rental_Lease_Agreement.pdf', 'file_type': 'pdf'}, page_content=\"3.3.\\n \\nLate\\n \\nFee:\\n \\nIn\\n \\nthe\\n \\nevent\\n \\nthat\\n \\nrent\\n \\nis\\n \\nnot\\n \\npaid\\n \\nby\\n \\nthe\\n \\ndue\\n \\ndate,\\n \\na\\n \\npenalty\\n \\nof\\n \\n10%\\n \\nof\\n \\nthe\\n \\ndaily\\n \\nrent\\n \\namount\\n \\nper\\n \\nday\\n \\nshall\\n \\nbe\\n \\napplied\\n \\nuntil\\n \\nthe\\n \\noutstanding\\n \\nbalance\\n \\nis\\n \\npaid\\n \\nin\\n \\nfull.\\n \\n4.  SECURITY  DEPOSIT  Upon  execution  of  this  Agreement,  the  Tenant  shall  deposit  with  the  \\nLandlord\\n \\nthe\\n \\nsum\\n \\nof\\n \\n$4,800.00\\n,\\n \\nequivalent\\n \\nto\\n \\ntwo\\n \\nmonths'\\n \\nrent,\\n \\nas\\n \\nsecurity\\n \\nfor\\n \\nthe\\n \\nfaithful\\n \\nperformance\\n \\nof\\n \\nthe\\n \\nterms\\n \\nof\\n \\nthis\\n \\nlease.\\n \\n5.  UTILITIES  The  Tenant  shall  be  responsible  for  arranging  and  paying  for  all  utility  services  \\nrequired\\n \\non\\n \\nthe\\n \\nPremises.\\n \\nUtilities\\n \\nare\\n \\nnot\\n \\nincluded\\n \\nin\\n \\nthe\\n \\nmonthly\\n \\nrent.\\n \\n6.  MAINTENANCE  AND  REPAIRS  The  Tenant  shall  be  responsible  for  all  minor  repairs  \\nand\\n \\ngeneral\\n \\nmaintenance\\n \\nof\\n \\nthe\\n \\nPremises,\\n \\nincluding\\n \\nbut\\n \\nnot\\n \\nlimited\\n \\nto\\n \\nreplacing\\n \\nlight\\n \\nbulbs\\n \\nand\\n \\nfilters.\\n \\nThe\\n \\nLandlord\"),\n",
       " Document(metadata={'producer': 'Skia/PDF m142 Google Docs Renderer', 'creator': 'PyPDF', 'creationdate': '', 'title': 'Untitled document', 'source': '../data/pdf_files/Rental_Lease_Agreement.pdf', 'total_pages': 2, 'page': 0, 'page_label': '1', 'source_file': 'Rental_Lease_Agreement.pdf', 'file_type': 'pdf'}, page_content=\"and\\n \\ngeneral\\n \\nmaintenance\\n \\nof\\n \\nthe\\n \\nPremises,\\n \\nincluding\\n \\nbut\\n \\nnot\\n \\nlimited\\n \\nto\\n \\nreplacing\\n \\nlight\\n \\nbulbs\\n \\nand\\n \\nfilters.\\n \\nThe\\n \\nLandlord\\n \\nshall\\n \\nbe\\n \\nresponsible\\n \\nfor\\n \\nmajor\\n \\nstructural\\n \\nrepairs.\\n \\n7.  PETS  A  pet  policy  is  included .  The  Tenant  is  permitted  to  keep  up  to  two  (2)  domestic  \\npets\\n \\non\\n \\nthe\\n \\nPremises,\\n \\nsubject\\n \\nto\\n \\na\\n \\none-time\\n \\npet\\n \\nfee\\n \\nof\\n \\n$250.\\n \\n8.  DEFAULT  AND  TERMINATION  8.1.  Early  Termination:  An  early  termination  clause  is  \\nin\\n \\neffect.\\n \\nThe\\n \\nTenant\\n \\nmay\\n \\nterminate\\n \\nthis\\n \\nlease\\n \\nbefore\\n \\nthe\\n \\nend\\n \\nof\\n \\nthe\\n \\nterm\\n \\nby\\n \\nproviding\\n \\n60\\n \\ndays'\\n \\nwritten\\n \\nnotice\\n \\nand\\n \\npaying\\n \\na\\n \\nfee\\n \\nequal\\n \\nto\\n \\ntwo\\n \\nmonths'\\n \\nrent.\\n \\n8.2.\\n \\nDispute:\\n \\nNotwithstanding\\n \\nany\\n \\nother\\n \\nprovision\\n \\nof\\n \\nthis\\n \\nAgreement,\\n \\nthe\\n \\nLandlord\\n \\nmay\\n \\nterminate\\n \\nthis\\n \\nAgreement\\n \\nwithout\\n \\nnotice\\n \\nin\\n \\nthe\\n \\ncase\\n \\nof\\n \\nany\\n \\ndispute\\n \\nbetween\\n \\nthe\\n \\nLandlord\\n \\nand\\n \\nTenant.\"),\n",
       " Document(metadata={'producer': 'Skia/PDF m142 Google Docs Renderer', 'creator': 'PyPDF', 'creationdate': '', 'title': 'Untitled document', 'source': '../data/pdf_files/Rental_Lease_Agreement.pdf', 'total_pages': 2, 'page': 0, 'page_label': '1', 'source_file': 'Rental_Lease_Agreement.pdf', 'file_type': 'pdf'}, page_content='other\\n \\nprovision\\n \\nof\\n \\nthis\\n \\nAgreement,\\n \\nthe\\n \\nLandlord\\n \\nmay\\n \\nterminate\\n \\nthis\\n \\nAgreement\\n \\nwithout\\n \\nnotice\\n \\nin\\n \\nthe\\n \\ncase\\n \\nof\\n \\nany\\n \\ndispute\\n \\nbetween\\n \\nthe\\n \\nLandlord\\n \\nand\\n \\nTenant.\\n \\nThis  Agreement  constitutes  the  entire  agreement  between  the  parties.  \\nLANDLORD:  \\n \\nRohit  Soni  \\nTENANT:  \\nAmit  Kumar')]"
      ]
     },
     "execution_count": 20,
     "metadata": {},
     "output_type": "execute_result"
    }
   ],
   "source": [
    "chunks"
   ]
  },
  {
   "cell_type": "code",
   "execution_count": 24,
   "id": "9fada914",
   "metadata": {},
   "outputs": [
    {
     "name": "stdout",
     "output_type": "stream",
     "text": [
      "Generating embedding for 4 texts...\n"
     ]
    },
    {
     "name": "stderr",
     "output_type": "stream",
     "text": [
      "Batches: 100%|██████████| 1/1 [00:00<00:00,  2.66it/s]"
     ]
    },
    {
     "name": "stdout",
     "output_type": "stream",
     "text": [
      "Generated embeddings with shape: (4, 384)\n",
      "Adding 4 documents to vector store...\n",
      "Successfully added 4 documents to vector store.\n",
      "Total documents in store/collection: 8\n"
     ]
    },
    {
     "name": "stderr",
     "output_type": "stream",
     "text": [
      "\n"
     ]
    }
   ],
   "source": [
    "### convert the text to embeddings \n",
    "texts = [doc.page_content for doc in chunks]\n",
    "\n",
    "### Generate embeddings\n",
    "\n",
    "embeddings = embedding_manager.generate_embeddings(texts)\n",
    "\n",
    "\n",
    "### store in vectorstore\n",
    "vectorstore.add_documents(chunks, embeddings)"
   ]
  },
  {
   "cell_type": "markdown",
   "id": "f69464ef",
   "metadata": {},
   "source": [
    "### Retrieval Pipeline from Vector Store"
   ]
  },
  {
   "cell_type": "code",
   "execution_count": null,
   "id": "fc6dab32",
   "metadata": {},
   "outputs": [],
   "source": [
    "class RAGRetrieval:\n",
    "    \"\"\"Handles query-based retrieval from the vector store\"\"\"\n",
    "\n",
    "    def __init__(self, vector_store: VectorStore, embedding_manager: EmbeddingManager):\n",
    "        \"\"\"\n",
    "        Initialize the RAG retrieval system\n",
    "\n",
    "        Args:\n",
    "            vector_store: Vectore store containing document embeddings\n",
    "            embedding_manager: Manager for generating query embeddings\n",
    "        \"\"\"\n",
    "        self.vector_store = vector_store\n",
    "        self.embedding_manager = embedding_manager\n",
    "        "
   ]
  }
 ],
 "metadata": {
  "kernelspec": {
   "display_name": ".venv",
   "language": "python",
   "name": "python3"
  },
  "language_info": {
   "codemirror_mode": {
    "name": "ipython",
    "version": 3
   },
   "file_extension": ".py",
   "mimetype": "text/x-python",
   "name": "python",
   "nbconvert_exporter": "python",
   "pygments_lexer": "ipython3",
   "version": "3.12.1"
  }
 },
 "nbformat": 4,
 "nbformat_minor": 5
}
