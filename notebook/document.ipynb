{
 "cells": [
  {
   "cell_type": "markdown",
   "id": "94731ebc",
   "metadata": {},
   "source": [
    "### Data Ingestion"
   ]
  },
  {
   "cell_type": "code",
   "execution_count": 9,
   "id": "4680e568",
   "metadata": {},
   "outputs": [],
   "source": [
    "### Document Structure\n",
    "\n",
    "from langchain_core.documents import Document\n"
   ]
  },
  {
   "cell_type": "code",
   "execution_count": 10,
   "id": "792f4bb4",
   "metadata": {},
   "outputs": [
    {
     "data": {
      "text/plain": [
       "Document(metadata={'source': 'example_source.txt', 'author': 'Aditya Rathore', 'date': '2024-10-01', 'page_number': 1}, page_content='this is the content of the RAG document')"
      ]
     },
     "execution_count": 10,
     "metadata": {},
     "output_type": "execute_result"
    }
   ],
   "source": [
    "doc = Document (\n",
    "    page_content = \"this is the content of the RAG document\", \n",
    "    metadata = {\n",
    "        \"source\": \"example_source.txt\",\n",
    "        \"author\": \"Aditya Rathore\",\n",
    "        \"date\": \"2024-10-01\", \n",
    "        \"page_number\": 1\n",
    "    }\n",
    ")\n",
    "doc"
   ]
  },
  {
   "cell_type": "code",
   "execution_count": 11,
   "id": "6b9f24f3",
   "metadata": {},
   "outputs": [],
   "source": [
    "import os\n",
    "os.makedirs(\"../data/text_files\",exist_ok=True) "
   ]
  },
  {
   "cell_type": "code",
   "execution_count": 12,
   "id": "0282e5cd",
   "metadata": {},
   "outputs": [
    {
     "name": "stdout",
     "output_type": "stream",
     "text": [
      "Sample Text files created.\n"
     ]
    }
   ],
   "source": [
    "sample_text={\n",
    "    \"../data/text_files/python_intro.txt\": \"\"\"Python Programming Introduction\n",
    "    \n",
    "    Python is a high-level, interpreted programming language known for its readability and versatility. \n",
    "    It supports multiple programming paradigms, including procedural, object-oriented, and functional programming.\n",
    "    Python's extensive standard library and vibrant ecosystem of third-party packages make it suitable for a wide range of applications, \n",
    "    from web development to data science and artificial intelligence.\n",
    "    \n",
    "    Key Features of Python:\n",
    "\n",
    "    1. Readability: Python's syntax emphasizes code readability, making it easier for developers to write and maintain code.\n",
    "    2. Versatility: Python can be used for various applications, including web development, data analysis, machine learning, automation, and more.\n",
    "    3. Extensive Libraries: Python has a rich set of libraries and frameworks, such as Django for web development,\n",
    "       NumPy and Pandas for data analysis, and TensorFlow and PyTorch for machine learning.\n",
    "    4. Community Support: Python has a large and active community that contributes to its development and provides support through forums, tutorials, and documentation.\n",
    "    5. Cross-Platform: Python is available on multiple platforms, including Windows, macOS, and Linux, allowing developers to write code that runs seamlessly across different operating systems.\n",
    "    \n",
    "    Overall, Python's simplicity, versatility, and strong community support have made it one of the most popular programming languages in the world.\"\"\",\n",
    "\n",
    "    \"../data/text_files/machine_learning_basics.txt\": \"\"\"Machine Learning Basics\n",
    "\n",
    "    Machine learning is a subset of artificial intelligence (AI) that focuses on the development of algorithms and statistical models\n",
    "    that enable computers to perform tasks without explicit instructions. It involves training models on large datasets to recognize patterns,\n",
    "    make decisions, and improve their performance over time.\n",
    "\n",
    "    Key Concepts in Machine Learning:\n",
    "\n",
    "    1. Supervised Learning: In supervised learning, models are trained on labeled data, where the input features are paired with the correct output.\n",
    "       The model learns to map inputs to outputs and can make predictions on new, unseen data.\n",
    "    2. Unsupervised Learning: Unsupervised learning involves training models on unlabeled data, allowing them to discover patterns and relationships\n",
    "       within the data without explicit guidance. Clustering and dimensionality reduction are common techniques in this category.\n",
    "    3. Reinforcement Learning: Reinforcement learning is a type of machine learning where agents learn to make decisions by interacting with an environment.\n",
    "       They receive feedback in the form of rewards or penalties and aim to maximize cumulative rewards over time.\n",
    "    4. Neural Networks: Neural networks are a class of machine learning models inspired by the human brain's structure. They consist of interconnected nodes\n",
    "       (neurons) organized in layers and are particularly effective for tasks such as image and speech recognition.\n",
    "    5. Overfitting and Underfitting: Overfitting occurs when a model learns the training data too well, including noise and outliers, leading to poor\n",
    "       generalization on new data. Underfitting happens when a model is too simple to capture the underlying patterns in the data.\n",
    "\n",
    "    Applications of Machine Learning:\n",
    "\n",
    "    Machine learning has a wide range of applications across various industries, including:\n",
    "\n",
    "    - Healthcare: Predictive analytics for patient outcomes, medical image analysis, and drug discovery.\n",
    "    - Finance: Fraud detection, algorithmic trading, and credit scoring.\n",
    "    - Marketing: Customer segmentation, recommendation systems, and sentiment analysis.\n",
    "    - Autonomous Systems: Self-driving cars, robotics, and drone navigation.\n",
    "\n",
    "    Conclusion:\n",
    "\n",
    "    Machine learning is a rapidly evolving field with the potential to transform industries and improve decision-making processes.\n",
    "    As more data becomes available and computational power increases, machine learning will continue to advance and unlock new possibilities.\n",
    "    \"\"\"\n",
    "}\n",
    "\n",
    "for filepath, content in sample_text.items():\n",
    "    with open(filepath, \"w\", encoding = \"utf-8\") as f:\n",
    "        f.write(content)\n",
    "\n",
    "print(\"Sample Text files created.\")"
   ]
  },
  {
   "cell_type": "code",
   "execution_count": 13,
   "id": "6f79fdec",
   "metadata": {},
   "outputs": [
    {
     "name": "stdout",
     "output_type": "stream",
     "text": [
      "[Document(metadata={'source': '../data/text_files/python_intro.txt'}, page_content=\"Python Programming Introduction\\n\\n    Python is a high-level, interpreted programming language known for its readability and versatility. \\n    It supports multiple programming paradigms, including procedural, object-oriented, and functional programming.\\n    Python's extensive standard library and vibrant ecosystem of third-party packages make it suitable for a wide range of applications, \\n    from web development to data science and artificial intelligence.\\n\\n    Key Features of Python:\\n\\n    1. Readability: Python's syntax emphasizes code readability, making it easier for developers to write and maintain code.\\n    2. Versatility: Python can be used for various applications, including web development, data analysis, machine learning, automation, and more.\\n    3. Extensive Libraries: Python has a rich set of libraries and frameworks, such as Django for web development,\\n       NumPy and Pandas for data analysis, and TensorFlow and PyTorch for machine learning.\\n    4. Community Support: Python has a large and active community that contributes to its development and provides support through forums, tutorials, and documentation.\\n    5. Cross-Platform: Python is available on multiple platforms, including Windows, macOS, and Linux, allowing developers to write code that runs seamlessly across different operating systems.\\n\\n    Overall, Python's simplicity, versatility, and strong community support have made it one of the most popular programming languages in the world.\")]\n"
     ]
    }
   ],
   "source": [
    "### TextLoader Example\n",
    "\n",
    "from langchain.document_loaders import TextLoader\n",
    "\n",
    "loader = TextLoader(\"../data/text_files/python_intro.txt\", encoding=\"utf-8\")\n",
    "document = loader.load()\n",
    "\n",
    "print(document)\n"
   ]
  },
  {
   "cell_type": "code",
   "execution_count": 14,
   "id": "9d77a326",
   "metadata": {},
   "outputs": [
    {
     "data": {
      "text/plain": [
       "[Document(metadata={'source': '../data/text_files/machine_learning_basics.txt'}, page_content=\"Machine Learning Basics\\n\\n    Machine learning is a subset of artificial intelligence (AI) that focuses on the development of algorithms and statistical models\\n    that enable computers to perform tasks without explicit instructions. It involves training models on large datasets to recognize patterns,\\n    make decisions, and improve their performance over time.\\n\\n    Key Concepts in Machine Learning:\\n\\n    1. Supervised Learning: In supervised learning, models are trained on labeled data, where the input features are paired with the correct output.\\n       The model learns to map inputs to outputs and can make predictions on new, unseen data.\\n    2. Unsupervised Learning: Unsupervised learning involves training models on unlabeled data, allowing them to discover patterns and relationships\\n       within the data without explicit guidance. Clustering and dimensionality reduction are common techniques in this category.\\n    3. Reinforcement Learning: Reinforcement learning is a type of machine learning where agents learn to make decisions by interacting with an environment.\\n       They receive feedback in the form of rewards or penalties and aim to maximize cumulative rewards over time.\\n    4. Neural Networks: Neural networks are a class of machine learning models inspired by the human brain's structure. They consist of interconnected nodes\\n       (neurons) organized in layers and are particularly effective for tasks such as image and speech recognition.\\n    5. Overfitting and Underfitting: Overfitting occurs when a model learns the training data too well, including noise and outliers, leading to poor\\n       generalization on new data. Underfitting happens when a model is too simple to capture the underlying patterns in the data.\\n\\n    Applications of Machine Learning:\\n\\n    Machine learning has a wide range of applications across various industries, including:\\n\\n    - Healthcare: Predictive analytics for patient outcomes, medical image analysis, and drug discovery.\\n    - Finance: Fraud detection, algorithmic trading, and credit scoring.\\n    - Marketing: Customer segmentation, recommendation systems, and sentiment analysis.\\n    - Autonomous Systems: Self-driving cars, robotics, and drone navigation.\\n\\n    Conclusion:\\n\\n    Machine learning is a rapidly evolving field with the potential to transform industries and improve decision-making processes.\\n    As more data becomes available and computational power increases, machine learning will continue to advance and unlock new possibilities.\\n    \"),\n",
       " Document(metadata={'source': '../data/text_files/python_intro.txt'}, page_content=\"Python Programming Introduction\\n\\n    Python is a high-level, interpreted programming language known for its readability and versatility. \\n    It supports multiple programming paradigms, including procedural, object-oriented, and functional programming.\\n    Python's extensive standard library and vibrant ecosystem of third-party packages make it suitable for a wide range of applications, \\n    from web development to data science and artificial intelligence.\\n\\n    Key Features of Python:\\n\\n    1. Readability: Python's syntax emphasizes code readability, making it easier for developers to write and maintain code.\\n    2. Versatility: Python can be used for various applications, including web development, data analysis, machine learning, automation, and more.\\n    3. Extensive Libraries: Python has a rich set of libraries and frameworks, such as Django for web development,\\n       NumPy and Pandas for data analysis, and TensorFlow and PyTorch for machine learning.\\n    4. Community Support: Python has a large and active community that contributes to its development and provides support through forums, tutorials, and documentation.\\n    5. Cross-Platform: Python is available on multiple platforms, including Windows, macOS, and Linux, allowing developers to write code that runs seamlessly across different operating systems.\\n\\n    Overall, Python's simplicity, versatility, and strong community support have made it one of the most popular programming languages in the world.\")]"
      ]
     },
     "execution_count": 14,
     "metadata": {},
     "output_type": "execute_result"
    }
   ],
   "source": [
    "### DirectoryLoader Example\n",
    "\n",
    "from langchain.document_loaders import DirectoryLoader\n",
    "\n",
    "dir_loader = DirectoryLoader(\n",
    "    \"../data/text_files\",\n",
    "    glob=\"**/*.txt\",\n",
    "    loader_cls= TextLoader,\n",
    "    loader_kwargs={\"encoding\": \"utf-8\"},\n",
    "    show_progress=False\n",
    ")\n",
    "documents = dir_loader.load()\n",
    "documents"
   ]
  },
  {
   "cell_type": "code",
   "execution_count": 16,
   "id": "c7b8bf6e",
   "metadata": {},
   "outputs": [
    {
     "data": {
      "text/plain": [
       "[Document(metadata={'producer': 'Skia/PDF m142 Google Docs Renderer', 'creator': '', 'creationdate': '', 'source': '../data/pdf_files/Rental_Lease_Agreement.pdf', 'file_path': '../data/pdf_files/Rental_Lease_Agreement.pdf', 'total_pages': 2, 'format': 'PDF 1.4', 'title': 'Untitled document', 'author': '', 'subject': '', 'keywords': '', 'moddate': '', 'trapped': '', 'modDate': '', 'creationDate': '', 'page': 0}, page_content='Residential Lease Agreement \\nThis Lease Agreement (the \"Agreement\") is made and entered into this 21st day of \\nSeptember, 2025, by and between Rohit Soni (the \"Landlord\") and Amit Kumar (the \\n\"Tenant\"). \\n1. PROPERTY The Landlord agrees to lease to the Tenant the property located at: 123 \\nInnovation Drive, Techville, ST 54321 (the \"Premises\"). \\n2. LEASE TERM The term of this lease shall be for a period of 12 months, commencing on \\nOctober 1, 2025, and ending on September 30, 2026. \\n3. RENT 3.1. The Tenant shall pay the Landlord a monthly rent of $2,400.00. 3.2. Rent shall \\nbe due and payable in full on or before the 5th day of each month. 3.3. Late Fee: In the \\nevent that rent is not paid by the due date, a penalty of 10% of the daily rent amount per \\nday shall be applied until the outstanding balance is paid in full. \\n4. SECURITY DEPOSIT Upon execution of this Agreement, the Tenant shall deposit with the \\nLandlord the sum of $4,800.00, equivalent to two months\\' rent, as security for the faithful \\nperformance of the terms of this lease. \\n5. UTILITIES The Tenant shall be responsible for arranging and paying for all utility services \\nrequired on the Premises. Utilities are not included in the monthly rent. \\n6. MAINTENANCE AND REPAIRS The Tenant shall be responsible for all minor repairs \\nand general maintenance of the Premises, including but not limited to replacing light bulbs \\nand filters. The Landlord shall be responsible for major structural repairs. \\n7. PETS A pet policy is included. The Tenant is permitted to keep up to two (2) domestic \\npets on the Premises, subject to a one-time pet fee of $250. \\n8. DEFAULT AND TERMINATION 8.1. Early Termination: An early termination clause is \\nin effect. The Tenant may terminate this lease before the end of the term by providing 60 \\ndays\\' written notice and paying a fee equal to two months\\' rent. 8.2. Dispute: \\nNotwithstanding any other provision of this Agreement, the Landlord may terminate this \\nAgreement without notice in the case of any dispute between the Landlord and Tenant. \\nThis Agreement constitutes the entire agreement between the parties. \\nLANDLORD: \\n \\nRohit Soni \\nTENANT: \\nAmit Kumar'),\n",
       " Document(metadata={'producer': 'Skia/PDF m142 Google Docs Renderer', 'creator': '', 'creationdate': '', 'source': '../data/pdf_files/Rental_Lease_Agreement.pdf', 'file_path': '../data/pdf_files/Rental_Lease_Agreement.pdf', 'total_pages': 2, 'format': 'PDF 1.4', 'title': 'Untitled document', 'author': '', 'subject': '', 'keywords': '', 'moddate': '', 'trapped': '', 'modDate': '', 'creationDate': '', 'page': 1}, page_content='')]"
      ]
     },
     "execution_count": 16,
     "metadata": {},
     "output_type": "execute_result"
    }
   ],
   "source": [
    "from langchain_community.document_loaders import PyPDFLoader, PyMuPDFLoader \n",
    "\n",
    "dir_loader = DirectoryLoader(\n",
    "    \"../data/pdf_files/\",\n",
    "    glob=\"**/*.pdf\",\n",
    "    loader_cls= PyMuPDFLoader,\n",
    "    show_progress=False\n",
    ")\n",
    "\n",
    "pdf_documents = dir_loader.load()\n",
    "pdf_documents  "
   ]
  },
  {
   "cell_type": "code",
   "execution_count": null,
   "id": "b3fe6740",
   "metadata": {},
   "outputs": [],
   "source": []
  }
 ],
 "metadata": {
  "kernelspec": {
   "display_name": ".venv",
   "language": "python",
   "name": "python3"
  },
  "language_info": {
   "codemirror_mode": {
    "name": "ipython",
    "version": 3
   },
   "file_extension": ".py",
   "mimetype": "text/x-python",
   "name": "python",
   "nbconvert_exporter": "python",
   "pygments_lexer": "ipython3",
   "version": "3.12.1"
  }
 },
 "nbformat": 4,
 "nbformat_minor": 5
}
